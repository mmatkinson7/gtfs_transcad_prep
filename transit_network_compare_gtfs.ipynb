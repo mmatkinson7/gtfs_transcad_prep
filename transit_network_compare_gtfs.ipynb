{
 "cells": [
  {
   "cell_type": "markdown",
   "id": "5be1d25d",
   "metadata": {},
   "source": [
    "# Transit Boardings Validation Report"
   ]
  },
  {
   "attachments": {},
   "cell_type": "markdown",
   "id": "c797076e",
   "metadata": {},
   "source": [
    "### NOTE: OBSERVED = 2016 NETWORK, MODEL = 2019 GTFS NETWORK"
   ]
  },
  {
   "cell_type": "code",
   "execution_count": 1,
   "id": "4602ac21",
   "metadata": {},
   "outputs": [],
   "source": [
    "from validation_reports import notebook\n",
    "from validation_reports import trn_summ\n",
    "import pandas as pd\n",
    "import geopandas as gpd\n",
    "import numpy as np"
   ]
  },
  {
   "attachments": {},
   "cell_type": "markdown",
   "id": "fa0dad63",
   "metadata": {},
   "source": [
    "### Prep Output Data for Analysis & Visualization"
   ]
  },
  {
   "cell_type": "code",
   "execution_count": 2,
   "id": "2eee0b9a",
   "metadata": {},
   "outputs": [
    {
     "name": "stdout",
     "output_type": "stream",
     "text": [
      "directory ./outputs exists\n"
     ]
    }
   ],
   "source": [
    "nb = notebook()\n",
    "trn = trn_summ(scen=r\"J:\\Shared drives\\TMD_TSA\\Model\\networks\\Transit\\gtfs\\tdm23\\outputs\\Base_TrnAssign\")\n",
    "gtrn = trn_summ(scen=r\"J:\\Shared drives\\TMD_TSA\\Model\\networks\\Transit\\gtfs\\tdm23\\outputs\\GTFS_TrnAssign\")"
   ]
  },
  {
   "cell_type": "code",
   "execution_count": 3,
   "id": "b70064bf",
   "metadata": {},
   "outputs": [
    {
     "data": {
      "text/plain": [
       "'J:\\\\Shared drives\\\\TMD_TSA\\\\Model\\\\networks\\\\Transit\\\\gtfs\\\\tdm23\\\\outputs\\\\GTFS_TrnAssign'"
      ]
     },
     "execution_count": 3,
     "metadata": {},
     "output_type": "execute_result"
    }
   ],
   "source": [
    "gtrn.scen = r\"J:\\Shared drives\\TMD_TSA\\Model\\networks\\Transit\\gtfs\\tdm23\\outputs\\GTFS_TrnAssign\"\n",
    "trn.scen = r\"J:\\Shared drives\\TMD_TSA\\Model\\networks\\Transit\\gtfs\\tdm23\\outputs\\Base_TrnAssign\"\n",
    "gtrn.scen"
   ]
  },
  {
   "cell_type": "code",
   "execution_count": 4,
   "id": "d9da3130",
   "metadata": {},
   "outputs": [
    {
     "name": "stderr",
     "output_type": "stream",
     "text": [
      "c:\\Users\\matkinson.AD\\Documents\\tdm23_vr\\validation_reports\\transit_loader.py:45: SettingWithCopyWarning: \n",
      "A value is trying to be set on a copy of a slice from a DataFrame.\n",
      "Try using .loc[row_indexer,col_indexer] = value instead\n",
      "\n",
      "See the caveats in the documentation: https://pandas.pydata.org/pandas-docs/stable/user_guide/indexing.html#returning-a-view-versus-a-copy\n",
      "  stop_df['on'] = 0\n"
     ]
    },
    {
     "name": "stdout",
     "output_type": "stream",
     "text": [
      "Model outputs from J:\\Shared drives\\TMD_TSA\\Model\\networks\\Transit\\gtfs\\tdm23\\outputs\\GTFS_TrnAssign loaded as mod_df\n",
      "Model outputs from J:\\Shared drives\\TMD_TSA\\Model\\networks\\Transit\\gtfs\\tdm23\\outputs\\Base_TrnAssign loaded as mod_df\n"
     ]
    },
    {
     "data": {
      "text/plain": [
       "Index(['mode', 'operator', 'line', 'stop', 'tod', 'boardings'], dtype='object')"
      ]
     },
     "execution_count": 4,
     "metadata": {},
     "output_type": "execute_result"
    }
   ],
   "source": [
    "gtrn.load_model()\n",
    "trn.load_model()\n",
    "trn.mod_df.columns"
   ]
  },
  {
   "cell_type": "code",
   "execution_count": 5,
   "id": "46ce7706",
   "metadata": {},
   "outputs": [],
   "source": [
    "trn.mod_df['line'] = trn.mod_df['line'].str.lstrip(\"0\")"
   ]
  },
  {
   "cell_type": "code",
   "execution_count": 6,
   "id": "b96a588d",
   "metadata": {},
   "outputs": [],
   "source": [
    "gtrn.mod_df['mode'] = np.where(gtrn.mod_df['line'].isin([\"171\", \"426\", \"441\", \"442\", \"450\",\"455\"]), \"xbus\", gtrn.mod_df['mode'])"
   ]
  },
  {
   "cell_type": "code",
   "execution_count": 7,
   "id": "5a488b3c",
   "metadata": {},
   "outputs": [],
   "source": [
    "# build some handy dataframes\n",
    "#daily counts (separate from tod to avoid double counting)\n",
    "daily_mod = trn.mod_df[trn.mod_df['tod']=='daily']\n",
    "gdaily_mod = gtrn.mod_df[gtrn.mod_df['tod']=='daily']\n",
    "\n",
    "# time of day (drop daily and modes that do not have tod)\n",
    "tod_mod = trn.mod_df[(trn.mod_df['tod']!='daily')&(trn.mod_df['mode'].isin(['lbus','hr','brt','lrt']))]\n",
    "gtod_mod = gtrn.mod_df[(gtrn.mod_df['tod']!='daily')&(gtrn.mod_df['mode'].isin(['lbus','hr','brt','lrt']))]"
   ]
  },
  {
   "attachments": {},
   "cell_type": "markdown",
   "id": "36fd3538",
   "metadata": {},
   "source": [
    "Calculate Frequency per Primary Route to see if changes to this cause any problems down the line for ridership."
   ]
  },
  {
   "cell_type": "code",
   "execution_count": 8,
   "id": "28e2183c",
   "metadata": {},
   "outputs": [],
   "source": [
    "gtrn_routes = gpd.read_file(gtrn.scen + r\"\\_networks\\routes.shp\")\n",
    "trn_routes = gpd.read_file(trn.scen + r\"\\_networks\\routes.shp\")"
   ]
  },
  {
   "cell_type": "code",
   "execution_count": 9,
   "id": "bd62b675",
   "metadata": {},
   "outputs": [
    {
     "name": "stderr",
     "output_type": "stream",
     "text": [
      "c:\\Users\\matkinson.AD\\.conda\\envs\\tdm23_viz_plotly\\lib\\site-packages\\geopandas\\geodataframe.py:1322: SettingWithCopyWarning: \n",
      "A value is trying to be set on a copy of a slice from a DataFrame.\n",
      "Try using .loc[row_indexer,col_indexer] = value instead\n",
      "\n",
      "See the caveats in the documentation: https://pandas.pydata.org/pandas-docs/stable/user_guide/indexing.html#returning-a-view-versus-a-copy\n",
      "  super(GeoDataFrame, self).__setitem__(key, value)\n"
     ]
    },
    {
     "data": {
      "text/html": [
       "<div>\n",
       "<style scoped>\n",
       "    .dataframe tbody tr th:only-of-type {\n",
       "        vertical-align: middle;\n",
       "    }\n",
       "\n",
       "    .dataframe tbody tr th {\n",
       "        vertical-align: top;\n",
       "    }\n",
       "\n",
       "    .dataframe thead th {\n",
       "        text-align: right;\n",
       "    }\n",
       "</style>\n",
       "<table border=\"1\" class=\"dataframe\">\n",
       "  <thead>\n",
       "    <tr style=\"text-align: right;\">\n",
       "      <th></th>\n",
       "      <th>ROUTE_ID</th>\n",
       "      <th>ROUTE_NAME</th>\n",
       "      <th>DIR</th>\n",
       "      <th>MODE</th>\n",
       "      <th>OPERATOR</th>\n",
       "      <th>PRIMARY_RO</th>\n",
       "      <th>TRIP_HEAD_</th>\n",
       "      <th>OLD_MODE</th>\n",
       "      <th>DESC</th>\n",
       "      <th>FARE_TYPE</th>\n",
       "      <th>...</th>\n",
       "      <th>FARE_CORE</th>\n",
       "      <th>FUEL_TYPE</th>\n",
       "      <th>AVAILABLE</th>\n",
       "      <th>HEADWAY_AM</th>\n",
       "      <th>HEADWAY_MD</th>\n",
       "      <th>HEADWAY_PM</th>\n",
       "      <th>HEADWAY_NT</th>\n",
       "      <th>PROJECT_NA</th>\n",
       "      <th>PROJECT_ID</th>\n",
       "      <th>geometry</th>\n",
       "    </tr>\n",
       "  </thead>\n",
       "  <tbody>\n",
       "    <tr>\n",
       "      <th>431</th>\n",
       "      <td>5079</td>\n",
       "      <td>352: Burlington to Boston via I-</td>\n",
       "      <td>IB or SB</td>\n",
       "      <td>2</td>\n",
       "      <td>None</td>\n",
       "      <td>None</td>\n",
       "      <td>None</td>\n",
       "      <td>3</td>\n",
       "      <td>None</td>\n",
       "      <td>None</td>\n",
       "      <td>...</td>\n",
       "      <td>NaN</td>\n",
       "      <td>None</td>\n",
       "      <td>1</td>\n",
       "      <td>54.88</td>\n",
       "      <td>360.0</td>\n",
       "      <td>36.590000</td>\n",
       "      <td>360.0</td>\n",
       "      <td>None</td>\n",
       "      <td>None</td>\n",
       "      <td>LINESTRING (223682.137 918832.217, 223702.661 ...</td>\n",
       "    </tr>\n",
       "    <tr>\n",
       "      <th>681</th>\n",
       "      <td>6063</td>\n",
       "      <td>712:PT SHIRLEY - ORIENT IB</td>\n",
       "      <td>IB</td>\n",
       "      <td>1</td>\n",
       "      <td>None</td>\n",
       "      <td>None</td>\n",
       "      <td>None</td>\n",
       "      <td>1</td>\n",
       "      <td>None</td>\n",
       "      <td>None</td>\n",
       "      <td>...</td>\n",
       "      <td>NaN</td>\n",
       "      <td>None</td>\n",
       "      <td>1</td>\n",
       "      <td>0.00</td>\n",
       "      <td>0.0</td>\n",
       "      <td>0.000000</td>\n",
       "      <td>0.0</td>\n",
       "      <td>None</td>\n",
       "      <td>None</td>\n",
       "      <td>LINESTRING (243696.162 900855.205, 243680.416 ...</td>\n",
       "    </tr>\n",
       "    <tr>\n",
       "      <th>1412</th>\n",
       "      <td>8781</td>\n",
       "      <td>120: Orient Heights</td>\n",
       "      <td>OB or NB</td>\n",
       "      <td>1</td>\n",
       "      <td>None</td>\n",
       "      <td>None</td>\n",
       "      <td>None</td>\n",
       "      <td>1</td>\n",
       "      <td>None</td>\n",
       "      <td>None</td>\n",
       "      <td>...</td>\n",
       "      <td>NaN</td>\n",
       "      <td>None</td>\n",
       "      <td>1</td>\n",
       "      <td>22.50</td>\n",
       "      <td>22.5</td>\n",
       "      <td>25.714286</td>\n",
       "      <td>40.0</td>\n",
       "      <td>None</td>\n",
       "      <td>None</td>\n",
       "      <td>LINESTRING (237927.798 902204.963, 237953.429 ...</td>\n",
       "    </tr>\n",
       "  </tbody>\n",
       "</table>\n",
       "<p>3 rows × 21 columns</p>\n",
       "</div>"
      ],
      "text/plain": [
       "      ROUTE_ID                        ROUTE_NAME       DIR  MODE OPERATOR  \\\n",
       "431       5079  352: Burlington to Boston via I-  IB or SB     2     None   \n",
       "681       6063        712:PT SHIRLEY - ORIENT IB        IB     1     None   \n",
       "1412      8781               120: Orient Heights  OB or NB     1     None   \n",
       "\n",
       "     PRIMARY_RO TRIP_HEAD_  OLD_MODE  DESC FARE_TYPE  ...  FARE_CORE  \\\n",
       "431        None       None         3  None      None  ...        NaN   \n",
       "681        None       None         1  None      None  ...        NaN   \n",
       "1412       None       None         1  None      None  ...        NaN   \n",
       "\n",
       "      FUEL_TYPE AVAILABLE  HEADWAY_AM  HEADWAY_MD  HEADWAY_PM  HEADWAY_NT  \\\n",
       "431        None         1       54.88       360.0   36.590000       360.0   \n",
       "681        None         1        0.00         0.0    0.000000         0.0   \n",
       "1412       None         1       22.50        22.5   25.714286        40.0   \n",
       "\n",
       "      PROJECT_NA PROJECT_ID                                           geometry  \n",
       "431         None       None  LINESTRING (223682.137 918832.217, 223702.661 ...  \n",
       "681         None       None  LINESTRING (243696.162 900855.205, 243680.416 ...  \n",
       "1412        None       None  LINESTRING (237927.798 902204.963, 237953.429 ...  \n",
       "\n",
       "[3 rows x 21 columns]"
      ]
     },
     "execution_count": 9,
     "metadata": {},
     "output_type": "execute_result"
    }
   ],
   "source": [
    "trn_routes[trn_routes['PRIMARY_RO'].isin([\"710\",\"712\",\"713\",\"714\",\"716\"])]['OPERATOR'] = 'MBTA'\n",
    "trn_routes[trn_routes['PRIMARY_RO'].isna()].query('MODE < 3')\n",
    "# 712 is a privately operated bus route according to wikipedia."
   ]
  },
  {
   "cell_type": "code",
   "execution_count": 10,
   "id": "890d1e89",
   "metadata": {},
   "outputs": [
    {
     "data": {
      "text/html": [
       "<div>\n",
       "<style scoped>\n",
       "    .dataframe tbody tr th:only-of-type {\n",
       "        vertical-align: middle;\n",
       "    }\n",
       "\n",
       "    .dataframe tbody tr th {\n",
       "        vertical-align: top;\n",
       "    }\n",
       "\n",
       "    .dataframe thead th {\n",
       "        text-align: right;\n",
       "    }\n",
       "</style>\n",
       "<table border=\"1\" class=\"dataframe\">\n",
       "  <thead>\n",
       "    <tr style=\"text-align: right;\">\n",
       "      <th></th>\n",
       "      <th>ROUTE_ID</th>\n",
       "      <th>ROUTE_NAME</th>\n",
       "      <th>DIR</th>\n",
       "      <th>MODE</th>\n",
       "      <th>OPERATOR</th>\n",
       "      <th>PRIMARY_RO</th>\n",
       "      <th>TRIP_HEAD_</th>\n",
       "      <th>OLD_MODE</th>\n",
       "      <th>DESC</th>\n",
       "      <th>FARE_TYPE</th>\n",
       "      <th>...</th>\n",
       "      <th>FARE_CORE</th>\n",
       "      <th>FUEL_TYPE</th>\n",
       "      <th>AVAILABLE</th>\n",
       "      <th>HEADWAY_AM</th>\n",
       "      <th>HEADWAY_MD</th>\n",
       "      <th>HEADWAY_PM</th>\n",
       "      <th>HEADWAY_NT</th>\n",
       "      <th>PROJECT_NA</th>\n",
       "      <th>PROJECT_ID</th>\n",
       "      <th>geometry</th>\n",
       "    </tr>\n",
       "  </thead>\n",
       "  <tbody>\n",
       "  </tbody>\n",
       "</table>\n",
       "<p>0 rows × 21 columns</p>\n",
       "</div>"
      ],
      "text/plain": [
       "Empty GeoDataFrame\n",
       "Columns: [ROUTE_ID, ROUTE_NAME, DIR, MODE, OPERATOR, PRIMARY_RO, TRIP_HEAD_, OLD_MODE, DESC, FARE_TYPE, FARE, FARE_CORE, FUEL_TYPE, AVAILABLE, HEADWAY_AM, HEADWAY_MD, HEADWAY_PM, HEADWAY_NT, PROJECT_NA, PROJECT_ID, geometry]\n",
       "Index: []\n",
       "\n",
       "[0 rows x 21 columns]"
      ]
     },
     "execution_count": 10,
     "metadata": {},
     "output_type": "execute_result"
    }
   ],
   "source": [
    "gtrn_routes[gtrn_routes['PRIMARY_RO'].isna()].query('MODE < 3')"
   ]
  },
  {
   "cell_type": "code",
   "execution_count": 11,
   "id": "1d15bf67",
   "metadata": {},
   "outputs": [],
   "source": [
    "gtrn_routes['am_freq']  = np.where(gtrn_routes['HEADWAY_AM'] == 0, 0, 180/gtrn_routes['HEADWAY_AM'])\n",
    "gtrn_routes['md_freq']  = np.where(gtrn_routes['HEADWAY_MD'] == 0, 0, 330/gtrn_routes['HEADWAY_MD'])\n",
    "gtrn_routes['pm_freq']  = np.where(gtrn_routes['HEADWAY_PM'] == 0, 0, 240/gtrn_routes['HEADWAY_PM'])\n",
    "gtrn_routes['nt_freq']  = np.where(gtrn_routes['HEADWAY_NT'] == 0, 0, 690/gtrn_routes['HEADWAY_NT'])\n",
    "gtrn_routes = gtrn_routes.query('AVAILABLE == 1')\n",
    "gtroutes = gtrn_routes[['PRIMARY_RO','am_freq','md_freq','pm_freq','nt_freq']].groupby(by='PRIMARY_RO').sum()\n",
    "gtroutes = gtroutes.reset_index()\n",
    "gtroutes['PRIMARY_RO'] = gtroutes['PRIMARY_RO'].str.lstrip(\"0\")\n",
    "\n",
    "trn_routes['am_freq']  = np.where(trn_routes['HEADWAY_AM'] == 0, 0, 180/trn_routes['HEADWAY_AM'])\n",
    "trn_routes['md_freq']  = np.where(trn_routes['HEADWAY_MD'] == 0, 0, 330/trn_routes['HEADWAY_MD'])\n",
    "trn_routes['pm_freq']  = np.where(trn_routes['HEADWAY_PM'] == 0, 0, 240/trn_routes['HEADWAY_PM'])\n",
    "trn_routes['nt_freq']  = np.where(trn_routes['HEADWAY_NT'] == 0, 0, 690/trn_routes['HEADWAY_NT'])\n",
    "trn_routes = trn_routes.query('AVAILABLE == 1')\n",
    "troutes = trn_routes[['PRIMARY_RO','am_freq','md_freq','pm_freq','nt_freq']].groupby(by='PRIMARY_RO').sum()\n",
    "troutes = troutes.reset_index()\n",
    "troutes['PRIMARY_RO'] = troutes['PRIMARY_RO'].str.lstrip(\"0\")"
   ]
  },
  {
   "cell_type": "code",
   "execution_count": 12,
   "id": "85669601",
   "metadata": {},
   "outputs": [
    {
     "data": {
      "text/html": [
       "<div>\n",
       "<style scoped>\n",
       "    .dataframe tbody tr th:only-of-type {\n",
       "        vertical-align: middle;\n",
       "    }\n",
       "\n",
       "    .dataframe tbody tr th {\n",
       "        vertical-align: top;\n",
       "    }\n",
       "\n",
       "    .dataframe thead th {\n",
       "        text-align: right;\n",
       "    }\n",
       "</style>\n",
       "<table border=\"1\" class=\"dataframe\">\n",
       "  <thead>\n",
       "    <tr style=\"text-align: right;\">\n",
       "      <th></th>\n",
       "      <th>PRIMARY_RO</th>\n",
       "      <th>am_freq_gtfs</th>\n",
       "      <th>md_freq_gtfs</th>\n",
       "      <th>pm_freq_gtfs</th>\n",
       "      <th>nt_freq_gtfs</th>\n",
       "      <th>am_freq_2016</th>\n",
       "      <th>md_freq_2016</th>\n",
       "      <th>pm_freq_2016</th>\n",
       "      <th>nt_freq_2016</th>\n",
       "    </tr>\n",
       "  </thead>\n",
       "  <tbody>\n",
       "    <tr>\n",
       "      <th>0</th>\n",
       "      <td>1</td>\n",
       "      <td>39.0</td>\n",
       "      <td>48.000000</td>\n",
       "      <td>57.999999</td>\n",
       "      <td>129.785715</td>\n",
       "      <td>86.000004</td>\n",
       "      <td>152.166670</td>\n",
       "      <td>140.000018</td>\n",
       "      <td>391.000027</td>\n",
       "    </tr>\n",
       "    <tr>\n",
       "      <th>1</th>\n",
       "      <td>10</td>\n",
       "      <td>19.0</td>\n",
       "      <td>21.666667</td>\n",
       "      <td>19.000000</td>\n",
       "      <td>47.642857</td>\n",
       "      <td>34.000000</td>\n",
       "      <td>59.583333</td>\n",
       "      <td>53.333333</td>\n",
       "      <td>130.333334</td>\n",
       "    </tr>\n",
       "    <tr>\n",
       "      <th>2</th>\n",
       "      <td>100</td>\n",
       "      <td>15.0</td>\n",
       "      <td>19.000000</td>\n",
       "      <td>21.000000</td>\n",
       "      <td>31.214286</td>\n",
       "      <td>33.000000</td>\n",
       "      <td>51.333333</td>\n",
       "      <td>41.333333</td>\n",
       "      <td>86.250000</td>\n",
       "    </tr>\n",
       "    <tr>\n",
       "      <th>3</th>\n",
       "      <td>101</td>\n",
       "      <td>38.0</td>\n",
       "      <td>27.000000</td>\n",
       "      <td>34.000000</td>\n",
       "      <td>41.071429</td>\n",
       "      <td>37.000000</td>\n",
       "      <td>29.333333</td>\n",
       "      <td>33.333333</td>\n",
       "      <td>40.250000</td>\n",
       "    </tr>\n",
       "    <tr>\n",
       "      <th>6</th>\n",
       "      <td>106</td>\n",
       "      <td>16.0</td>\n",
       "      <td>14.000000</td>\n",
       "      <td>21.666667</td>\n",
       "      <td>27.928571</td>\n",
       "      <td>16.000000</td>\n",
       "      <td>15.491606</td>\n",
       "      <td>14.666667</td>\n",
       "      <td>36.416294</td>\n",
       "    </tr>\n",
       "    <tr>\n",
       "      <th>...</th>\n",
       "      <td>...</td>\n",
       "      <td>...</td>\n",
       "      <td>...</td>\n",
       "      <td>...</td>\n",
       "      <td>...</td>\n",
       "      <td>...</td>\n",
       "      <td>...</td>\n",
       "      <td>...</td>\n",
       "      <td>...</td>\n",
       "    </tr>\n",
       "    <tr>\n",
       "      <th>199</th>\n",
       "      <td>191</td>\n",
       "      <td>NaN</td>\n",
       "      <td>NaN</td>\n",
       "      <td>NaN</td>\n",
       "      <td>NaN</td>\n",
       "      <td>0.000000</td>\n",
       "      <td>0.000000</td>\n",
       "      <td>0.000000</td>\n",
       "      <td>9.583333</td>\n",
       "    </tr>\n",
       "    <tr>\n",
       "      <th>200</th>\n",
       "      <td>192</td>\n",
       "      <td>NaN</td>\n",
       "      <td>NaN</td>\n",
       "      <td>NaN</td>\n",
       "      <td>NaN</td>\n",
       "      <td>0.000000</td>\n",
       "      <td>0.000000</td>\n",
       "      <td>0.000000</td>\n",
       "      <td>3.833333</td>\n",
       "    </tr>\n",
       "    <tr>\n",
       "      <th>201</th>\n",
       "      <td>193</td>\n",
       "      <td>NaN</td>\n",
       "      <td>NaN</td>\n",
       "      <td>NaN</td>\n",
       "      <td>NaN</td>\n",
       "      <td>0.000000</td>\n",
       "      <td>0.000000</td>\n",
       "      <td>0.000000</td>\n",
       "      <td>7.666667</td>\n",
       "    </tr>\n",
       "    <tr>\n",
       "      <th>202</th>\n",
       "      <td>194</td>\n",
       "      <td>NaN</td>\n",
       "      <td>NaN</td>\n",
       "      <td>NaN</td>\n",
       "      <td>NaN</td>\n",
       "      <td>0.000000</td>\n",
       "      <td>0.000000</td>\n",
       "      <td>0.000000</td>\n",
       "      <td>5.750000</td>\n",
       "    </tr>\n",
       "    <tr>\n",
       "      <th>203</th>\n",
       "      <td>717</td>\n",
       "      <td>NaN</td>\n",
       "      <td>NaN</td>\n",
       "      <td>NaN</td>\n",
       "      <td>NaN</td>\n",
       "      <td>0.000000</td>\n",
       "      <td>0.000000</td>\n",
       "      <td>0.000000</td>\n",
       "      <td>0.000000</td>\n",
       "    </tr>\n",
       "  </tbody>\n",
       "</table>\n",
       "<p>156 rows × 9 columns</p>\n",
       "</div>"
      ],
      "text/plain": [
       "    PRIMARY_RO  am_freq_gtfs  md_freq_gtfs  pm_freq_gtfs  nt_freq_gtfs  \\\n",
       "0            1          39.0     48.000000     57.999999    129.785715   \n",
       "1           10          19.0     21.666667     19.000000     47.642857   \n",
       "2          100          15.0     19.000000     21.000000     31.214286   \n",
       "3          101          38.0     27.000000     34.000000     41.071429   \n",
       "6          106          16.0     14.000000     21.666667     27.928571   \n",
       "..         ...           ...           ...           ...           ...   \n",
       "199        191           NaN           NaN           NaN           NaN   \n",
       "200        192           NaN           NaN           NaN           NaN   \n",
       "201        193           NaN           NaN           NaN           NaN   \n",
       "202        194           NaN           NaN           NaN           NaN   \n",
       "203        717           NaN           NaN           NaN           NaN   \n",
       "\n",
       "     am_freq_2016  md_freq_2016  pm_freq_2016  nt_freq_2016  \n",
       "0       86.000004    152.166670    140.000018    391.000027  \n",
       "1       34.000000     59.583333     53.333333    130.333334  \n",
       "2       33.000000     51.333333     41.333333     86.250000  \n",
       "3       37.000000     29.333333     33.333333     40.250000  \n",
       "6       16.000000     15.491606     14.666667     36.416294  \n",
       "..            ...           ...           ...           ...  \n",
       "199      0.000000      0.000000      0.000000      9.583333  \n",
       "200      0.000000      0.000000      0.000000      3.833333  \n",
       "201      0.000000      0.000000      0.000000      7.666667  \n",
       "202      0.000000      0.000000      0.000000      5.750000  \n",
       "203      0.000000      0.000000      0.000000      0.000000  \n",
       "\n",
       "[156 rows x 9 columns]"
      ]
     },
     "execution_count": 12,
     "metadata": {},
     "output_type": "execute_result"
    }
   ],
   "source": [
    "routes_freq = gtroutes.merge(troutes, on=\"PRIMARY_RO\", suffixes = ['_gtfs','_2016'], how='outer')\n",
    "# note that 191-194 are one offs for fare collectors and 717 doesn't exist\n",
    "routes_freq.query('am_freq_gtfs != am_freq_2016')"
   ]
  },
  {
   "attachments": {},
   "cell_type": "markdown",
   "id": "d145ad07",
   "metadata": {},
   "source": [
    "### Line Level Summaries - All Routes - Identify Routes with High Delta %s\n",
    "\n",
    "Export the csv \"oneway_line_boarding.csv\""
   ]
  },
  {
   "cell_type": "code",
   "execution_count": 13,
   "id": "1892460f",
   "metadata": {},
   "outputs": [
    {
     "name": "stdout",
     "output_type": "stream",
     "text": [
      "no weighted columns identified list index out of range:\n"
     ]
    },
    {
     "data": {
      "text/html": [
       "<a href=\"./outputs/oneway_line_boardings.csv\">csv file</a>"
      ],
      "text/plain": [
       "<IPython.core.display.HTML object>"
      ]
     },
     "metadata": {},
     "output_type": "display_data"
    },
    {
     "data": {
      "text/plain": [
       "(                       model    observed     deltaD  deltaP\n",
       " line                                                       \n",
       "                   222082.731  220055.864   2026.867    0.92\n",
       " 1                  26078.760   46449.945 -20371.185  -43.86\n",
       " 10                  1744.466    3516.530  -1772.064  -50.39\n",
       " 100                 2315.824    6525.322  -4209.498  -64.51\n",
       " 101                11491.461    9641.564   1849.897   19.19\n",
       " ...                      ...         ...        ...     ...\n",
       " Orange Line       296623.975  287187.373   9436.602    3.29\n",
       " Plymouth Line      14424.451   14253.099    171.352    1.20\n",
       " Provdn/Stou Line   28750.663   28322.886    427.777    1.51\n",
       " Red Line          342926.469  317089.832  25836.637    8.15\n",
       " Worcester Line     23213.390   23106.170    107.220    0.46\n",
       " \n",
       " [205 rows x 4 columns],\n",
       " array([<AxesSubplot:title={'center':'sum_boardings'}>,\n",
       "        <AxesSubplot:xlabel='line'>], dtype=object),\n",
       " 'oneway_line_boardings.csv')"
      ]
     },
     "execution_count": 13,
     "metadata": {},
     "output_type": "execute_result"
    },
    {
     "data": {
      "image/png": "[encoded data removed]",
      "text/plain": [
       "<Figure size 504x504 with 3 Axes>"
      ]
     },
     "metadata": {
      "needs_background": "light"
     },
     "output_type": "display_data"
    }
   ],
   "source": [
    "# ALL LINES\n",
    "nb.compare_oneway(obsrvdf = daily_mod,\n",
    "                  modeldf = gdaily_mod,\n",
    "                  aggcol = 'boardings',col = 'line', aggmtd='sum')"
   ]
  },
  {
   "cell_type": "code",
   "execution_count": 14,
   "id": "74ca852a",
   "metadata": {},
   "outputs": [
    {
     "data": {
      "text/html": [
       "<div>\n",
       "<style scoped>\n",
       "    .dataframe tbody tr th:only-of-type {\n",
       "        vertical-align: middle;\n",
       "    }\n",
       "\n",
       "    .dataframe tbody tr th {\n",
       "        vertical-align: top;\n",
       "    }\n",
       "\n",
       "    .dataframe thead th {\n",
       "        text-align: right;\n",
       "    }\n",
       "</style>\n",
       "<table border=\"1\" class=\"dataframe\">\n",
       "  <thead>\n",
       "    <tr style=\"text-align: right;\">\n",
       "      <th></th>\n",
       "      <th>line</th>\n",
       "      <th>gtfs</th>\n",
       "      <th>2016</th>\n",
       "      <th>deltaD</th>\n",
       "      <th>deltaP</th>\n",
       "      <th>abs_deltaP</th>\n",
       "    </tr>\n",
       "  </thead>\n",
       "  <tbody>\n",
       "    <tr>\n",
       "      <th>41</th>\n",
       "      <td>211</td>\n",
       "      <td>626.492</td>\n",
       "      <td>24.613</td>\n",
       "      <td>601.879</td>\n",
       "      <td>2445.37</td>\n",
       "      <td>2445.37</td>\n",
       "    </tr>\n",
       "    <tr>\n",
       "      <th>95</th>\n",
       "      <td>435</td>\n",
       "      <td>1295.259</td>\n",
       "      <td>104.562</td>\n",
       "      <td>1190.697</td>\n",
       "      <td>1138.75</td>\n",
       "      <td>1138.75</td>\n",
       "    </tr>\n",
       "    <tr>\n",
       "      <th>18</th>\n",
       "      <td>120</td>\n",
       "      <td>366.139</td>\n",
       "      <td>33.521</td>\n",
       "      <td>332.618</td>\n",
       "      <td>992.27</td>\n",
       "      <td>992.27</td>\n",
       "    </tr>\n",
       "    <tr>\n",
       "      <th>97</th>\n",
       "      <td>439</td>\n",
       "      <td>836.732</td>\n",
       "      <td>91.643</td>\n",
       "      <td>745.089</td>\n",
       "      <td>813.03</td>\n",
       "      <td>813.03</td>\n",
       "    </tr>\n",
       "    <tr>\n",
       "      <th>25</th>\n",
       "      <td>14</td>\n",
       "      <td>814.269</td>\n",
       "      <td>116.857</td>\n",
       "      <td>697.412</td>\n",
       "      <td>596.81</td>\n",
       "      <td>596.81</td>\n",
       "    </tr>\n",
       "    <tr>\n",
       "      <th>...</th>\n",
       "      <td>...</td>\n",
       "      <td>...</td>\n",
       "      <td>...</td>\n",
       "      <td>...</td>\n",
       "      <td>...</td>\n",
       "      <td>...</td>\n",
       "    </tr>\n",
       "    <tr>\n",
       "      <th>111</th>\n",
       "      <td>47</td>\n",
       "      <td>4805.317</td>\n",
       "      <td>10596.003</td>\n",
       "      <td>-5790.686</td>\n",
       "      <td>-54.65</td>\n",
       "      <td>54.65</td>\n",
       "    </tr>\n",
       "    <tr>\n",
       "      <th>158</th>\n",
       "      <td>75</td>\n",
       "      <td>1356.303</td>\n",
       "      <td>2964.026</td>\n",
       "      <td>-1607.723</td>\n",
       "      <td>-54.24</td>\n",
       "      <td>54.24</td>\n",
       "    </tr>\n",
       "    <tr>\n",
       "      <th>179</th>\n",
       "      <td>95</td>\n",
       "      <td>3487.816</td>\n",
       "      <td>7458.335</td>\n",
       "      <td>-3970.519</td>\n",
       "      <td>-53.24</td>\n",
       "      <td>53.24</td>\n",
       "    </tr>\n",
       "    <tr>\n",
       "      <th>2</th>\n",
       "      <td>10</td>\n",
       "      <td>1744.466</td>\n",
       "      <td>3516.530</td>\n",
       "      <td>-1772.064</td>\n",
       "      <td>-50.39</td>\n",
       "      <td>50.39</td>\n",
       "    </tr>\n",
       "    <tr>\n",
       "      <th>82</th>\n",
       "      <td>4</td>\n",
       "      <td>204.222</td>\n",
       "      <td>409.793</td>\n",
       "      <td>-205.571</td>\n",
       "      <td>-50.16</td>\n",
       "      <td>50.16</td>\n",
       "    </tr>\n",
       "  </tbody>\n",
       "</table>\n",
       "<p>61 rows × 6 columns</p>\n",
       "</div>"
      ],
      "text/plain": [
       "    line      gtfs       2016    deltaD   deltaP  abs_deltaP\n",
       "41   211   626.492     24.613   601.879  2445.37     2445.37\n",
       "95   435  1295.259    104.562  1190.697  1138.75     1138.75\n",
       "18   120   366.139     33.521   332.618   992.27      992.27\n",
       "97   439   836.732     91.643   745.089   813.03      813.03\n",
       "25    14   814.269    116.857   697.412   596.81      596.81\n",
       "..   ...       ...        ...       ...      ...         ...\n",
       "111   47  4805.317  10596.003 -5790.686   -54.65       54.65\n",
       "158   75  1356.303   2964.026 -1607.723   -54.24       54.24\n",
       "179   95  3487.816   7458.335 -3970.519   -53.24       53.24\n",
       "2     10  1744.466   3516.530 -1772.064   -50.39       50.39\n",
       "82     4   204.222    409.793  -205.571   -50.16       50.16\n",
       "\n",
       "[61 rows x 6 columns]"
      ]
     },
     "execution_count": 14,
     "metadata": {},
     "output_type": "execute_result"
    }
   ],
   "source": [
    "inf = np.inf\n",
    "line_boardings = pd.read_csv('.\\outputs\\oneway_line_boardings.csv').query('abs(deltaP) > 50 & abs(deltaP) < @inf')\n",
    "line_boardings = line_boardings.rename(columns={'model':'gtfs', 'observed':'2016'})\n",
    "line_boardings['abs_deltaP'] = abs(line_boardings['deltaP'])\n",
    "problem_lines = line_boardings.line.to_list()\n",
    "line_boardings.sort_values(by='abs_deltaP', ascending=False)\n"
   ]
  },
  {
   "cell_type": "code",
   "execution_count": 16,
   "id": "e263b8af",
   "metadata": {},
   "outputs": [],
   "source": [
    "line_boardings.to_csv('./outputs/high_deltaP_lines.csv')"
   ]
  },
  {
   "attachments": {},
   "cell_type": "markdown",
   "id": "9c95d60c",
   "metadata": {},
   "source": [
    "##### Check 1.5 - look into routes where GTFS ridership == 0 but there was ridership in 2016"
   ]
  },
  {
   "cell_type": "code",
   "execution_count": 17,
   "id": "2d641c6b",
   "metadata": {},
   "outputs": [
    {
     "data": {
      "text/html": [
       "<div>\n",
       "<style scoped>\n",
       "    .dataframe tbody tr th:only-of-type {\n",
       "        vertical-align: middle;\n",
       "    }\n",
       "\n",
       "    .dataframe tbody tr th {\n",
       "        vertical-align: top;\n",
       "    }\n",
       "\n",
       "    .dataframe thead th {\n",
       "        text-align: right;\n",
       "    }\n",
       "</style>\n",
       "<table border=\"1\" class=\"dataframe\">\n",
       "  <thead>\n",
       "    <tr style=\"text-align: right;\">\n",
       "      <th></th>\n",
       "      <th>line</th>\n",
       "      <th>gtfs</th>\n",
       "      <th>2016</th>\n",
       "      <th>deltaD</th>\n",
       "      <th>deltaP</th>\n",
       "    </tr>\n",
       "  </thead>\n",
       "  <tbody>\n",
       "    <tr>\n",
       "      <th>14</th>\n",
       "      <td>114</td>\n",
       "      <td>0.0</td>\n",
       "      <td>231.643</td>\n",
       "      <td>-231.643</td>\n",
       "      <td>-100.0</td>\n",
       "    </tr>\n",
       "    <tr>\n",
       "      <th>30</th>\n",
       "      <td>171</td>\n",
       "      <td>0.0</td>\n",
       "      <td>0.000</td>\n",
       "      <td>0.000</td>\n",
       "      <td>NaN</td>\n",
       "    </tr>\n",
       "    <tr>\n",
       "      <th>33</th>\n",
       "      <td>191</td>\n",
       "      <td>0.0</td>\n",
       "      <td>73.373</td>\n",
       "      <td>-73.373</td>\n",
       "      <td>-100.0</td>\n",
       "    </tr>\n",
       "    <tr>\n",
       "      <th>34</th>\n",
       "      <td>192</td>\n",
       "      <td>0.0</td>\n",
       "      <td>167.778</td>\n",
       "      <td>-167.778</td>\n",
       "      <td>-100.0</td>\n",
       "    </tr>\n",
       "    <tr>\n",
       "      <th>35</th>\n",
       "      <td>193</td>\n",
       "      <td>0.0</td>\n",
       "      <td>136.390</td>\n",
       "      <td>-136.390</td>\n",
       "      <td>-100.0</td>\n",
       "    </tr>\n",
       "    <tr>\n",
       "      <th>36</th>\n",
       "      <td>194</td>\n",
       "      <td>0.0</td>\n",
       "      <td>63.043</td>\n",
       "      <td>-63.043</td>\n",
       "      <td>-100.0</td>\n",
       "    </tr>\n",
       "    <tr>\n",
       "      <th>112</th>\n",
       "      <td>5</td>\n",
       "      <td>0.0</td>\n",
       "      <td>169.747</td>\n",
       "      <td>-169.747</td>\n",
       "      <td>-100.0</td>\n",
       "    </tr>\n",
       "    <tr>\n",
       "      <th>148</th>\n",
       "      <td>717</td>\n",
       "      <td>0.0</td>\n",
       "      <td>0.000</td>\n",
       "      <td>0.000</td>\n",
       "      <td>NaN</td>\n",
       "    </tr>\n",
       "  </tbody>\n",
       "</table>\n",
       "</div>"
      ],
      "text/plain": [
       "    line  gtfs     2016   deltaD  deltaP\n",
       "14   114   0.0  231.643 -231.643  -100.0\n",
       "30   171   0.0    0.000    0.000     NaN\n",
       "33   191   0.0   73.373  -73.373  -100.0\n",
       "34   192   0.0  167.778 -167.778  -100.0\n",
       "35   193   0.0  136.390 -136.390  -100.0\n",
       "36   194   0.0   63.043  -63.043  -100.0\n",
       "112    5   0.0  169.747 -169.747  -100.0\n",
       "148  717   0.0    0.000    0.000     NaN"
      ]
     },
     "execution_count": 17,
     "metadata": {},
     "output_type": "execute_result"
    }
   ],
   "source": [
    "line_ridership = pd.read_csv('.\\outputs\\oneway_line_boardings.csv').rename(columns={'model':'gtfs', 'observed':'2016'})\n",
    "line_ridership.query('gtfs ==0')"
   ]
  },
  {
   "cell_type": "code",
   "execution_count": 18,
   "id": "6d1a920d",
   "metadata": {},
   "outputs": [
    {
     "data": {
      "text/html": [
       "<div>\n",
       "<style scoped>\n",
       "    .dataframe tbody tr th:only-of-type {\n",
       "        vertical-align: middle;\n",
       "    }\n",
       "\n",
       "    .dataframe tbody tr th {\n",
       "        vertical-align: top;\n",
       "    }\n",
       "\n",
       "    .dataframe thead th {\n",
       "        text-align: right;\n",
       "    }\n",
       "</style>\n",
       "<table border=\"1\" class=\"dataframe\">\n",
       "  <thead>\n",
       "    <tr style=\"text-align: right;\">\n",
       "      <th></th>\n",
       "      <th>line</th>\n",
       "      <th>gtfs</th>\n",
       "      <th>2016</th>\n",
       "      <th>deltaD</th>\n",
       "      <th>deltaP</th>\n",
       "    </tr>\n",
       "  </thead>\n",
       "  <tbody>\n",
       "    <tr>\n",
       "      <th>30</th>\n",
       "      <td>171</td>\n",
       "      <td>0.0</td>\n",
       "      <td>0.0</td>\n",
       "      <td>0.0</td>\n",
       "      <td>NaN</td>\n",
       "    </tr>\n",
       "    <tr>\n",
       "      <th>148</th>\n",
       "      <td>717</td>\n",
       "      <td>0.0</td>\n",
       "      <td>0.0</td>\n",
       "      <td>0.0</td>\n",
       "      <td>NaN</td>\n",
       "    </tr>\n",
       "  </tbody>\n",
       "</table>\n",
       "</div>"
      ],
      "text/plain": [
       "    line  gtfs  2016  deltaD  deltaP\n",
       "30   171   0.0   0.0     0.0     NaN\n",
       "148  717   0.0   0.0     0.0     NaN"
      ]
     },
     "execution_count": 18,
     "metadata": {},
     "output_type": "execute_result"
    }
   ],
   "source": [
    "line_ridership[pd.isna(line_ridership['deltaP'])]"
   ]
  },
  {
   "attachments": {},
   "cell_type": "markdown",
   "id": "c5664ee9",
   "metadata": {},
   "source": [
    "### For ever Problematic Route - look at these:\n",
    "1. Route Daily Ridership (really for identifying problematic routes)\n",
    "2. Route TOD Ridership\n",
    "3. Route Frequency (TOD)\n",
    "4. Stop Ridership\n",
    "\n",
    "    1. Same number of STOPS?\n",
    "    2. Same stops being used?\n",
    "    3. A lot of 0's?\n",
    "    4. A lot of suspiciously high numbers?"
   ]
  },
  {
   "attachments": {},
   "cell_type": "markdown",
   "id": "05fdd3e0",
   "metadata": {},
   "source": [
    "2. Route TOD Ridership"
   ]
  },
  {
   "cell_type": "code",
   "execution_count": 55,
   "id": "bf70aeaf",
   "metadata": {},
   "outputs": [],
   "source": [
    "r =\"83\""
   ]
  },
  {
   "cell_type": "code",
   "execution_count": 56,
   "id": "12085302",
   "metadata": {},
   "outputs": [
    {
     "name": "stdout",
     "output_type": "stream",
     "text": [
      "no weighted columns identified list index out of range:\n"
     ]
    },
    {
     "data": {
      "text/html": [
       "<a href=\"./outputs/oneway_tod_boardings.csv\">csv file</a>"
      ],
      "text/plain": [
       "<IPython.core.display.HTML object>"
      ]
     },
     "metadata": {},
     "output_type": "display_data"
    },
    {
     "data": {
      "text/plain": [
       "(          model  observed    deltaD  deltaP\n",
       " tod                                        \n",
       " am      429.956  1282.054  -852.098  -66.46\n",
       " md      773.041  2659.575 -1886.534  -70.93\n",
       " pm      726.330  2673.267 -1946.937  -72.83\n",
       " nt      277.730  1584.448 -1306.718  -82.47\n",
       " daily  2207.057  8199.346 -5992.289  -73.08,\n",
       " array([<AxesSubplot:title={'center':'sum_boardings'}>,\n",
       "        <AxesSubplot:xlabel='tod'>], dtype=object),\n",
       " 'oneway_tod_boardings.csv')"
      ]
     },
     "execution_count": 56,
     "metadata": {},
     "output_type": "execute_result"
    },
    {
     "data": {
      "image/png": "[encoded data removed]",
      "text/plain": [
       "<Figure size 504x504 with 3 Axes>"
      ]
     },
     "metadata": {
      "needs_background": "light"
     },
     "output_type": "display_data"
    }
   ],
   "source": [
    "nb.compare_oneway(obsrvdf = trn.mod_df.query('line == @r'),\n",
    "                  modeldf = gtrn.mod_df.query('line == @r'),\n",
    "                  aggcol = 'boardings',col = 'tod', aggmtd='sum')"
   ]
  },
  {
   "attachments": {},
   "cell_type": "markdown",
   "id": "f8b323c9",
   "metadata": {},
   "source": [
    "3. Route Frequency (TOD)"
   ]
  },
  {
   "cell_type": "code",
   "execution_count": 57,
   "id": "0cc4ab93",
   "metadata": {},
   "outputs": [
    {
     "data": {
      "text/html": [
       "<div>\n",
       "<style scoped>\n",
       "    .dataframe tbody tr th:only-of-type {\n",
       "        vertical-align: middle;\n",
       "    }\n",
       "\n",
       "    .dataframe tbody tr th {\n",
       "        vertical-align: top;\n",
       "    }\n",
       "\n",
       "    .dataframe thead th {\n",
       "        text-align: right;\n",
       "    }\n",
       "</style>\n",
       "<table border=\"1\" class=\"dataframe\">\n",
       "  <thead>\n",
       "    <tr style=\"text-align: right;\">\n",
       "      <th></th>\n",
       "      <th>PRIMARY_RO</th>\n",
       "      <th>am_freq_gtfs</th>\n",
       "      <th>md_freq_gtfs</th>\n",
       "      <th>pm_freq_gtfs</th>\n",
       "      <th>nt_freq_gtfs</th>\n",
       "      <th>am_freq_2016</th>\n",
       "      <th>md_freq_2016</th>\n",
       "      <th>pm_freq_2016</th>\n",
       "      <th>nt_freq_2016</th>\n",
       "    </tr>\n",
       "  </thead>\n",
       "  <tbody>\n",
       "    <tr>\n",
       "      <th>157</th>\n",
       "      <td>83</td>\n",
       "      <td>17.0</td>\n",
       "      <td>24.0</td>\n",
       "      <td>19.0</td>\n",
       "      <td>36.142857</td>\n",
       "      <td>31.0</td>\n",
       "      <td>56.833334</td>\n",
       "      <td>44.000001</td>\n",
       "      <td>118.833336</td>\n",
       "    </tr>\n",
       "  </tbody>\n",
       "</table>\n",
       "</div>"
      ],
      "text/plain": [
       "    PRIMARY_RO  am_freq_gtfs  md_freq_gtfs  pm_freq_gtfs  nt_freq_gtfs  \\\n",
       "157         83          17.0          24.0          19.0     36.142857   \n",
       "\n",
       "     am_freq_2016  md_freq_2016  pm_freq_2016  nt_freq_2016  \n",
       "157          31.0     56.833334     44.000001    118.833336  "
      ]
     },
     "execution_count": 57,
     "metadata": {},
     "output_type": "execute_result"
    }
   ],
   "source": [
    "routes_freq.query('PRIMARY_RO == @r')"
   ]
  },
  {
   "attachments": {},
   "cell_type": "markdown",
   "id": "ec3f2773",
   "metadata": {},
   "source": [
    "4. Station Level Summaries - Look at Particular Routes Ridership at Stop Level"
   ]
  },
  {
   "cell_type": "code",
   "execution_count": null,
   "id": "ba576091",
   "metadata": {},
   "outputs": [],
   "source": [
    "line = r\n",
    "tod = 'daily'\n",
    "\n",
    "nb.compare_oneway(obsrvdf = trn.mod_df.query(\"line == '{line}' & tod == '{tod}'\".format(line=line,tod=tod)),\n",
    "                  modeldf = gtrn.mod_df.query(\"line == '{line}' & tod == '{tod}'\".format(line=line,tod=tod)),\n",
    "                  aggcol = 'boardings',col = 'stop', aggmtd='sum')"
   ]
  },
  {
   "attachments": {},
   "cell_type": "markdown",
   "id": "f08d435c",
   "metadata": {},
   "source": [
    "If Daily is not enough, look at TOD"
   ]
  },
  {
   "cell_type": "code",
   "execution_count": null,
   "id": "d56e779c",
   "metadata": {},
   "outputs": [],
   "source": [
    "line = r\n",
    "tod = 'pm'\n",
    "\n",
    "nb.compare_oneway(obsrvdf = trn.mod_df.query(\"line == '{line}' & tod == '{tod}'\".format(line=line,tod=tod)),\n",
    "                  modeldf = gtrn.mod_df.query(\"line == '{line}' & tod == '{tod}'\".format(line=line,tod=tod)),\n",
    "                  aggcol = 'boardings',col = 'stop', aggmtd='sum')"
   ]
  },
  {
   "attachments": {},
   "cell_type": "markdown",
   "id": "9804c075",
   "metadata": {},
   "source": [
    "### STOPS TOP 50"
   ]
  },
  {
   "attachments": {},
   "cell_type": "markdown",
   "id": "c1e8dd89",
   "metadata": {},
   "source": [
    "##### All Modes"
   ]
  },
  {
   "cell_type": "code",
   "execution_count": 70,
   "id": "6dc7a824",
   "metadata": {},
   "outputs": [],
   "source": [
    "stops_gtfs = gpd.read_file(\n",
    "    r'J:\\Shared drives\\TMD_TSA\\Model\\networks\\Transit\\gtfs\\tdm23\\outputs\\GTFS_TrnAssign\\_networks\\stops.shp')\n",
    "stops_2016 = gpd.read_file(\n",
    "    r'J:\\Shared drives\\TMD_TSA\\Model\\networks\\Transit\\gtfs\\tdm23\\outputs\\Base_TrnAssign\\_networks\\stops.shp')"
   ]
  },
  {
   "cell_type": "code",
   "execution_count": 71,
   "id": "b301bc15",
   "metadata": {},
   "outputs": [],
   "source": [
    "stops_gtfs_1 = gtrn.stop_df.merge(stops_gtfs[['STOP_ID','geometry','NEAR_NODE']],how='outer', left_on='stop_id',right_on=\"STOP_ID\")\n",
    "stops_2016_1 = trn.stop_df.merge(stops_2016[['STOP_ID','geometry','NEAR_NODE']],how='outer', left_on='stop_id',right_on=\"STOP_ID\")"
   ]
  },
  {
   "cell_type": "code",
   "execution_count": 72,
   "id": "fa077e50",
   "metadata": {},
   "outputs": [],
   "source": [
    "nodes_2016 = stops_2016_1.groupby('NEAR_NODE').agg({'daily':'sum'})\n",
    "nodes_gtfs = stops_gtfs_1.groupby('NEAR_NODE').agg({'daily':'sum'})\n",
    "top50_nodes_2016 = nodes_2016.nlargest(50,'daily')\n",
    "top50_nodes_gtfs = nodes_gtfs.nlargest(50,'daily')\n",
    "\n",
    "top50_nodes = top50_nodes_gtfs.reset_index().merge(\n",
    "    top50_nodes_2016.reset_index(), how='outer', on='NEAR_NODE', suffixes=['_gtfs','_2016'])"
   ]
  },
  {
   "cell_type": "code",
   "execution_count": 73,
   "id": "482de810",
   "metadata": {},
   "outputs": [],
   "source": [
    "top50_nodes.to_csv('./outputs/top50_nodes.csv')"
   ]
  },
  {
   "attachments": {},
   "cell_type": "markdown",
   "id": "71c080a7",
   "metadata": {},
   "source": [
    "##### LBUS"
   ]
  },
  {
   "cell_type": "code",
   "execution_count": 62,
   "id": "f66f48ae",
   "metadata": {},
   "outputs": [],
   "source": [
    "lbus_lines_gtfs = gtrn.mod_df.query('tod == \"daily\" & mode == \"lbus\"')[['mode','line']].drop_duplicates()\n",
    "route_ids_gtfs = gtrn_routes.merge(lbus_lines_gtfs, left_on='PRIMARY_RO', right_on = 'line', how='inner')[['mode','line','ROUTE_ID']]\n",
    "\n",
    "lbus_lines_2016 = trn.mod_df.query('tod == \"daily\" & mode == \"lbus\"')[['mode','line']].drop_duplicates()\n",
    "route_ids_2016 = trn_routes.merge(lbus_lines_2016, left_on='PRIMARY_RO', right_on = 'line', how='inner')[['mode','line','ROUTE_ID']]\n"
   ]
  },
  {
   "cell_type": "code",
   "execution_count": 63,
   "id": "3f49e766",
   "metadata": {},
   "outputs": [],
   "source": [
    "stop_gtfs_lbus = gtrn.stop_df.merge(route_ids_gtfs, left_on = 'route_id', right_on = 'ROUTE_ID',how='inner')\n",
    "stop_2016_lbus = trn.stop_df.merge(route_ids_2016, left_on = 'route_id', right_on = 'ROUTE_ID',how='inner')"
   ]
  },
  {
   "cell_type": "code",
   "execution_count": 68,
   "id": "25dacb13",
   "metadata": {},
   "outputs": [],
   "source": [
    "stops_gtfs_lb = stop_gtfs_lbus.merge(stops_gtfs[['STOP_ID','geometry','NEAR_NODE']],how='outer', left_on='stop_id',right_on=\"STOP_ID\")\n",
    "stops_2016_lb = stop_2016_lbus.merge(stops_2016[['STOP_ID','geometry','NEAR_NODE']],how='outer', left_on='stop_id',right_on=\"STOP_ID\")\n",
    "\n",
    "nodes_2016 = stops_2016_lb.groupby('NEAR_NODE').agg({'daily':'sum'})\n",
    "nodes_gtfs = stops_gtfs_lb.groupby('NEAR_NODE').agg({'daily':'sum'})\n",
    "top50_nodes_2016 = nodes_2016.nlargest(50,'daily')\n",
    "top50_nodes_gtfs = nodes_gtfs.nlargest(100,'daily')\n",
    "\n",
    "top50_nodes = top50_nodes_gtfs.reset_index().merge(\n",
    "    top50_nodes_2016.reset_index(), how='outer', on='NEAR_NODE', suffixes=['_gtfs','_2016'])"
   ]
  },
  {
   "cell_type": "code",
   "execution_count": 69,
   "id": "6c313bea",
   "metadata": {},
   "outputs": [],
   "source": [
    "top50_nodes.to_csv('./outputs/top50_nodes_lbus_100gtfs.csv')"
   ]
  }
 ],
 "metadata": {
  "kernelspec": {
   "display_name": "tdm23_viz_plotly",
   "language": "python",
   "name": "python3"
  },
  "language_info": {
   "codemirror_mode": {
    "name": "ipython",
    "version": 3
   },
   "file_extension": ".py",
   "mimetype": "text/x-python",
   "name": "python",
   "nbconvert_exporter": "python",
   "pygments_lexer": "ipython3",
   "version": "3.8.12"
  },
  "vscode": {
   "interpreter": {
    "hash": "e209605d93c0842f9422054b0e3be6bb9f7d26cd24d1dacd1dd05518dea628a0"
   }
  }
 },
 "nbformat": 4,
 "nbformat_minor": 5
}
