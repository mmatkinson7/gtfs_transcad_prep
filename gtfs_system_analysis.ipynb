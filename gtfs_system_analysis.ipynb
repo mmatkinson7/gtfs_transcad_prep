{
 "cells": [
  {
   "cell_type": "markdown",
   "metadata": {},
   "source": [
    "## Edit GTFS as a System\n",
    "Margaret Atkinson 10/25/22\n",
    "\n",
    "Overall Goal: Conflate GTFS to TransCAD links\n",
    "\n",
    "    Issue: Too many route variations\n",
    "        First Sub-Issue Goal: Get the number of trips per time period for each route variation\n",
    "\n",
    "Notes:\n",
    "\n",
    "While this 2018 Recap GTFS has been cleaned by the R script itsleeds_gleangtfs.R and imported to the link layer in TransCAD, I am starting from the cleaned GTFS (not imported to link layer) so that I can easily connect all this data together in a system instead of disparate parts."
   ]
  },
  {
   "cell_type": "code",
   "execution_count": 1,
   "metadata": {},
   "outputs": [],
   "source": [
    "import matplotlib\n",
    "matplotlib.use('agg')  # allows notebook to be tested in Travis\n",
    "\n",
    "import numpy as np\n",
    "import pandas as pd\n",
    "import cartopy.crs as ccrs\n",
    "import cartopy\n",
    "import matplotlib.pyplot as plt\n",
    "import pandana as pdna\n",
    "import time\n",
    "\n",
    "import urbanaccess as ua\n",
    "from urbanaccess.config import settings\n",
    "from urbanaccess.gtfsfeeds import feeds\n",
    "from urbanaccess import gtfsfeeds\n",
    "from urbanaccess.gtfs.gtfsfeeds_dataframe import gtfsfeeds_dfs\n",
    "from urbanaccess.network import ua_network, load_network\n",
    "\n",
    "%matplotlib inline"
   ]
  },
  {
   "cell_type": "markdown",
   "metadata": {},
   "source": [
    "Example of GTFS in UrbanAccess here:\n",
    "\n",
    "https://github.com/UDST/urbanaccess/blob/dev/demo/simple_example.ipynb"
   ]
  },
  {
   "cell_type": "code",
   "execution_count": 2,
   "metadata": {},
   "outputs": [],
   "source": [
    "# required bbox including all of Massachusetts and RI as well as parts of NH, CT, NY\n",
    "bbox = (-73.7207, 41.1198, -69.7876, 43.1161)\n",
    "# path to the downloaded and cleaned gtfs - mbta recap file for fall 2018\n",
    "#   this could also be a folder of gtfs folders (pre merge of multiple gtfs)\n",
    "#path_to_gtfs = r\"J:\\Shared drives\\TMD_TSA\\Programs\\MID\\Networks\\Research_Development\\Transit_Networks\\gtfs_to_transcad\\mbta2018_its_clean\"\n",
    "#path_to_gtfs = r\"J:\\Shared drives\\TMD_TSA\\Programs\\MID\\Networks\\Research_Development\\Transit_Networks\\gtfs_to_transcad\\mbta2018_102418\"\n",
    "path_to_gtfs = r\"C:\\Users\\matkinson.AD\\Downloads\\Nov11_Sandbox\\mbta2018_102418_20221108\"\n",
    "\n",
    "date = \"20181024\""
   ]
  },
  {
   "cell_type": "code",
   "execution_count": 3,
   "metadata": {},
   "outputs": [
    {
     "name": "stdout",
     "output_type": "stream",
     "text": [
      "Checking GTFS text file header whitespace... Reading files using encoding: utf-8 set in configuration.\n",
      "GTFS text file header whitespace check completed. Took 0.15 seconds\n",
      "--------------------------------\n",
      "Processing GTFS feed: mbta2018_102418_20221108\n",
      "The unique agency id: mbta was generated using the name of the agency in the agency.txt file.\n",
      "Unique agency id operation complete. Took 0.02 seconds\n",
      "Unique GTFS feed id operation complete. Took 0.00 seconds\n",
      "No GTFS feed stops were found to be outside the bounding box coordinates\n",
      "mbta2018_102418_20221108 GTFS feed stops: coordinates are in northwest hemisphere. Latitude = North (90); Longitude = West (-90).\n",
      "Appended route type to stops\n",
      "Appended route type to stop_times\n",
      "--------------------------------\n",
      "Added descriptive definitions to stops, routes, stop_times, and trips tables\n",
      "Successfully converted ['departure_time'] to seconds past midnight and appended new columns to stop_times. Took 1.94 seconds\n",
      "1 GTFS feed file(s) successfully read as dataframes:\n",
      "     mbta2018_102418_20221108\n",
      "     Took 3.31 seconds\n"
     ]
    }
   ],
   "source": [
    "loaded_feeds = ua.gtfs.load.gtfsfeed_to_df(gtfsfeed_path= path_to_gtfs,\n",
    "                                           validation=True,\n",
    "                                           verbose=True,\n",
    "                                           bbox=bbox,\n",
    "                                           remove_stops_outsidebbox=False,\n",
    "                                           append_definitions=True)"
   ]
  },
  {
   "cell_type": "markdown",
   "metadata": {},
   "source": [
    "## Update Pattern ID in Trips Table (Consolidate)"
   ]
  },
  {
   "cell_type": "code",
   "execution_count": 4,
   "metadata": {},
   "outputs": [
    {
     "data": {
      "text/html": [
       "<div>\n",
       "<style scoped>\n",
       "    .dataframe tbody tr th:only-of-type {\n",
       "        vertical-align: middle;\n",
       "    }\n",
       "\n",
       "    .dataframe tbody tr th {\n",
       "        vertical-align: top;\n",
       "    }\n",
       "\n",
       "    .dataframe thead th {\n",
       "        text-align: right;\n",
       "    }\n",
       "</style>\n",
       "<table border=\"1\" class=\"dataframe\">\n",
       "  <thead>\n",
       "    <tr style=\"text-align: right;\">\n",
       "      <th></th>\n",
       "      <th>Route_ID</th>\n",
       "      <th>Route_Name</th>\n",
       "      <th>Route</th>\n",
       "      <th>Short Name</th>\n",
       "      <th>Long Name</th>\n",
       "      <th>Description</th>\n",
       "      <th>Mode</th>\n",
       "      <th>Trip</th>\n",
       "      <th>Sign</th>\n",
       "      <th>Service</th>\n",
       "      <th>Length</th>\n",
       "      <th>Direction</th>\n",
       "    </tr>\n",
       "  </thead>\n",
       "  <tbody>\n",
       "    <tr>\n",
       "      <th>0</th>\n",
       "      <td>1</td>\n",
       "      <td>170-F-1</td>\n",
       "      <td>170</td>\n",
       "      <td>170</td>\n",
       "      <td>Waltham - Dudley</td>\n",
       "      <td>Commuter Bus</td>\n",
       "      <td>3</td>\n",
       "      <td>38173968</td>\n",
       "      <td>Waltham Central Square (Express)</td>\n",
       "      <td>BUS42018-hba48011-Weekday-02</td>\n",
       "      <td>20.816500</td>\n",
       "      <td>F</td>\n",
       "    </tr>\n",
       "    <tr>\n",
       "      <th>1</th>\n",
       "      <td>2</td>\n",
       "      <td>170-R-1</td>\n",
       "      <td>170</td>\n",
       "      <td>170</td>\n",
       "      <td>Waltham - Dudley</td>\n",
       "      <td>Commuter Bus</td>\n",
       "      <td>3</td>\n",
       "      <td>38174309</td>\n",
       "      <td>Dudley (Express)</td>\n",
       "      <td>BUS42018-hba48011-Weekday-02</td>\n",
       "      <td>20.434800</td>\n",
       "      <td>R</td>\n",
       "    </tr>\n",
       "    <tr>\n",
       "      <th>2</th>\n",
       "      <td>3</td>\n",
       "      <td>23-R-1</td>\n",
       "      <td>23</td>\n",
       "      <td>23</td>\n",
       "      <td>Ashmont - Ruggles via Washington Street</td>\n",
       "      <td>Key Bus</td>\n",
       "      <td>3</td>\n",
       "      <td>38175312_1</td>\n",
       "      <td>Watertown Yard via Dudley</td>\n",
       "      <td>BUS42018-hba48011-Weekday-02</td>\n",
       "      <td>0.965417</td>\n",
       "      <td>R</td>\n",
       "    </tr>\n",
       "    <tr>\n",
       "      <th>3</th>\n",
       "      <td>4</td>\n",
       "      <td>4-F-1</td>\n",
       "      <td>4</td>\n",
       "      <td>4</td>\n",
       "      <td>North Station - Tide Street</td>\n",
       "      <td>Commuter Bus</td>\n",
       "      <td>3</td>\n",
       "      <td>38174928</td>\n",
       "      <td>North Station</td>\n",
       "      <td>BUS42018-hba48011-Weekday-02</td>\n",
       "      <td>2.319990</td>\n",
       "      <td>F</td>\n",
       "    </tr>\n",
       "    <tr>\n",
       "      <th>4</th>\n",
       "      <td>5</td>\n",
       "      <td>4-F-2</td>\n",
       "      <td>4</td>\n",
       "      <td>4</td>\n",
       "      <td>North Station - Tide Street</td>\n",
       "      <td>Commuter Bus</td>\n",
       "      <td>3</td>\n",
       "      <td>38174920</td>\n",
       "      <td>North Station via South Station</td>\n",
       "      <td>BUS42018-hba48011-Weekday-02</td>\n",
       "      <td>3.029480</td>\n",
       "      <td>F</td>\n",
       "    </tr>\n",
       "  </tbody>\n",
       "</table>\n",
       "</div>"
      ],
      "text/plain": [
       "   Route_ID Route_Name Route Short Name  \\\n",
       "0         1    170-F-1   170        170   \n",
       "1         2    170-R-1   170        170   \n",
       "2         3     23-R-1    23         23   \n",
       "3         4      4-F-1     4          4   \n",
       "4         5      4-F-2     4          4   \n",
       "\n",
       "                                 Long Name   Description  Mode        Trip  \\\n",
       "0                         Waltham - Dudley  Commuter Bus     3    38173968   \n",
       "1                         Waltham - Dudley  Commuter Bus     3    38174309   \n",
       "2  Ashmont - Ruggles via Washington Street       Key Bus     3  38175312_1   \n",
       "3              North Station - Tide Street  Commuter Bus     3    38174928   \n",
       "4              North Station - Tide Street  Commuter Bus     3    38174920   \n",
       "\n",
       "                               Sign                       Service     Length  \\\n",
       "0  Waltham Central Square (Express)  BUS42018-hba48011-Weekday-02  20.816500   \n",
       "1                  Dudley (Express)  BUS42018-hba48011-Weekday-02  20.434800   \n",
       "2         Watertown Yard via Dudley  BUS42018-hba48011-Weekday-02   0.965417   \n",
       "3                     North Station  BUS42018-hba48011-Weekday-02   2.319990   \n",
       "4   North Station via South Station  BUS42018-hba48011-Weekday-02   3.029480   \n",
       "\n",
       "  Direction  \n",
       "0         F  \n",
       "1         R  \n",
       "2         R  \n",
       "3         F  \n",
       "4         F  "
      ]
     },
     "execution_count": 4,
     "metadata": {},
     "output_type": "execute_result"
    }
   ],
   "source": [
    "routes_from_transcad = pd.read_csv(\"J:\\\\Shared drives\\\\TMD_TSA\\\\Programs\\\\MID\\\\Networks\\\\Research_Development\\\\Transit_Networks\\\\gtfs_to_transcad\\\\GTFS_Imported_to_TransCAD.csv\")\n",
    "routes_from_transcad.head()"
   ]
  },
  {
   "cell_type": "code",
   "execution_count": 5,
   "metadata": {},
   "outputs": [
    {
     "data": {
      "text/plain": [
       "0"
      ]
     },
     "execution_count": 5,
     "metadata": {},
     "output_type": "execute_result"
    }
   ],
   "source": [
    "# are the trip ids unique?\n",
    "len(gtfsfeeds_dfs.trips['trip_id']) - len(gtfsfeeds_dfs.trips['trip_id'].unique())"
   ]
  },
  {
   "cell_type": "code",
   "execution_count": 6,
   "metadata": {},
   "outputs": [
    {
     "data": {
      "text/plain": [
       "945"
      ]
     },
     "execution_count": 6,
     "metadata": {},
     "output_type": "execute_result"
    }
   ],
   "source": [
    "len(gtfsfeeds_dfs.trips['route_pattern_id'].unique())"
   ]
  },
  {
   "cell_type": "code",
   "execution_count": 7,
   "metadata": {},
   "outputs": [
    {
     "data": {
      "text/html": [
       "<div>\n",
       "<style scoped>\n",
       "    .dataframe tbody tr th:only-of-type {\n",
       "        vertical-align: middle;\n",
       "    }\n",
       "\n",
       "    .dataframe tbody tr th {\n",
       "        vertical-align: top;\n",
       "    }\n",
       "\n",
       "    .dataframe thead th {\n",
       "        text-align: right;\n",
       "    }\n",
       "</style>\n",
       "<table border=\"1\" class=\"dataframe\">\n",
       "  <thead>\n",
       "    <tr style=\"text-align: right;\">\n",
       "      <th></th>\n",
       "      <th>Route_ID</th>\n",
       "      <th>Route_Name</th>\n",
       "      <th>Route</th>\n",
       "      <th>Short Name</th>\n",
       "      <th>Long Name</th>\n",
       "      <th>Description</th>\n",
       "      <th>Mode</th>\n",
       "      <th>Trip</th>\n",
       "      <th>Sign</th>\n",
       "      <th>Service</th>\n",
       "      <th>...</th>\n",
       "      <th>shape_id</th>\n",
       "      <th>wheelchair_accessible</th>\n",
       "      <th>trip_route_type</th>\n",
       "      <th>route_pattern_id</th>\n",
       "      <th>bikes_allowed</th>\n",
       "      <th>unique_agency_id</th>\n",
       "      <th>unique_feed_id</th>\n",
       "      <th>bikes_allowed_desc</th>\n",
       "      <th>wheelchair_accessible_desc</th>\n",
       "      <th>new_id</th>\n",
       "    </tr>\n",
       "  </thead>\n",
       "  <tbody>\n",
       "    <tr>\n",
       "      <th>0</th>\n",
       "      <td>1</td>\n",
       "      <td>170-F-1</td>\n",
       "      <td>170</td>\n",
       "      <td>170</td>\n",
       "      <td>Waltham - Dudley</td>\n",
       "      <td>Commuter Bus</td>\n",
       "      <td>3</td>\n",
       "      <td>38173968</td>\n",
       "      <td>Waltham Central Square (Express)</td>\n",
       "      <td>BUS42018-hba48011-Weekday-02</td>\n",
       "      <td>...</td>\n",
       "      <td>1700028</td>\n",
       "      <td>1.0</td>\n",
       "      <td>NaN</td>\n",
       "      <td>170-_-0</td>\n",
       "      <td>1.0</td>\n",
       "      <td>mbta</td>\n",
       "      <td>mbta2018_102418_20221108_1</td>\n",
       "      <td>can accommodate at least one bicycle</td>\n",
       "      <td>can accommodate at least one rider in a wheelc...</td>\n",
       "      <td>170:20.8:F</td>\n",
       "    </tr>\n",
       "    <tr>\n",
       "      <th>1</th>\n",
       "      <td>2</td>\n",
       "      <td>170-R-1</td>\n",
       "      <td>170</td>\n",
       "      <td>170</td>\n",
       "      <td>Waltham - Dudley</td>\n",
       "      <td>Commuter Bus</td>\n",
       "      <td>3</td>\n",
       "      <td>38174309</td>\n",
       "      <td>Dudley (Express)</td>\n",
       "      <td>BUS42018-hba48011-Weekday-02</td>\n",
       "      <td>...</td>\n",
       "      <td>1700032</td>\n",
       "      <td>1.0</td>\n",
       "      <td>NaN</td>\n",
       "      <td>170-3-1</td>\n",
       "      <td>1.0</td>\n",
       "      <td>mbta</td>\n",
       "      <td>mbta2018_102418_20221108_1</td>\n",
       "      <td>can accommodate at least one bicycle</td>\n",
       "      <td>can accommodate at least one rider in a wheelc...</td>\n",
       "      <td>170:20.4:R</td>\n",
       "    </tr>\n",
       "    <tr>\n",
       "      <th>2</th>\n",
       "      <td>3</td>\n",
       "      <td>23-R-1</td>\n",
       "      <td>23</td>\n",
       "      <td>23</td>\n",
       "      <td>Ashmont - Ruggles via Washington Street</td>\n",
       "      <td>Key Bus</td>\n",
       "      <td>3</td>\n",
       "      <td>38175312_1</td>\n",
       "      <td>Watertown Yard via Dudley</td>\n",
       "      <td>BUS42018-hba48011-Weekday-02</td>\n",
       "      <td>...</td>\n",
       "      <td>660101-1</td>\n",
       "      <td>1.0</td>\n",
       "      <td>NaN</td>\n",
       "      <td>23-G-1</td>\n",
       "      <td>1.0</td>\n",
       "      <td>mbta</td>\n",
       "      <td>mbta2018_102418_20221108_1</td>\n",
       "      <td>can accommodate at least one bicycle</td>\n",
       "      <td>can accommodate at least one rider in a wheelc...</td>\n",
       "      <td>23:1.0:R</td>\n",
       "    </tr>\n",
       "    <tr>\n",
       "      <th>3</th>\n",
       "      <td>4</td>\n",
       "      <td>4-F-1</td>\n",
       "      <td>4</td>\n",
       "      <td>4</td>\n",
       "      <td>North Station - Tide Street</td>\n",
       "      <td>Commuter Bus</td>\n",
       "      <td>3</td>\n",
       "      <td>38174928</td>\n",
       "      <td>North Station</td>\n",
       "      <td>BUS42018-hba48011-Weekday-02</td>\n",
       "      <td>...</td>\n",
       "      <td>040033</td>\n",
       "      <td>1.0</td>\n",
       "      <td>NaN</td>\n",
       "      <td>4-1-0</td>\n",
       "      <td>1.0</td>\n",
       "      <td>mbta</td>\n",
       "      <td>mbta2018_102418_20221108_1</td>\n",
       "      <td>can accommodate at least one bicycle</td>\n",
       "      <td>can accommodate at least one rider in a wheelc...</td>\n",
       "      <td>4:2.3:F</td>\n",
       "    </tr>\n",
       "    <tr>\n",
       "      <th>4</th>\n",
       "      <td>5</td>\n",
       "      <td>4-F-2</td>\n",
       "      <td>4</td>\n",
       "      <td>4</td>\n",
       "      <td>North Station - Tide Street</td>\n",
       "      <td>Commuter Bus</td>\n",
       "      <td>3</td>\n",
       "      <td>38174920</td>\n",
       "      <td>North Station via South Station</td>\n",
       "      <td>BUS42018-hba48011-Weekday-02</td>\n",
       "      <td>...</td>\n",
       "      <td>040034</td>\n",
       "      <td>1.0</td>\n",
       "      <td>NaN</td>\n",
       "      <td>4-_-0</td>\n",
       "      <td>1.0</td>\n",
       "      <td>mbta</td>\n",
       "      <td>mbta2018_102418_20221108_1</td>\n",
       "      <td>can accommodate at least one bicycle</td>\n",
       "      <td>can accommodate at least one rider in a wheelc...</td>\n",
       "      <td>4:3.0:F</td>\n",
       "    </tr>\n",
       "  </tbody>\n",
       "</table>\n",
       "<p>5 rows × 29 columns</p>\n",
       "</div>"
      ],
      "text/plain": [
       "   Route_ID Route_Name Route Short Name  \\\n",
       "0         1    170-F-1   170        170   \n",
       "1         2    170-R-1   170        170   \n",
       "2         3     23-R-1    23         23   \n",
       "3         4      4-F-1     4          4   \n",
       "4         5      4-F-2     4          4   \n",
       "\n",
       "                                 Long Name   Description  Mode        Trip  \\\n",
       "0                         Waltham - Dudley  Commuter Bus     3    38173968   \n",
       "1                         Waltham - Dudley  Commuter Bus     3    38174309   \n",
       "2  Ashmont - Ruggles via Washington Street       Key Bus     3  38175312_1   \n",
       "3              North Station - Tide Street  Commuter Bus     3    38174928   \n",
       "4              North Station - Tide Street  Commuter Bus     3    38174920   \n",
       "\n",
       "                               Sign                       Service  ...  \\\n",
       "0  Waltham Central Square (Express)  BUS42018-hba48011-Weekday-02  ...   \n",
       "1                  Dudley (Express)  BUS42018-hba48011-Weekday-02  ...   \n",
       "2         Watertown Yard via Dudley  BUS42018-hba48011-Weekday-02  ...   \n",
       "3                     North Station  BUS42018-hba48011-Weekday-02  ...   \n",
       "4   North Station via South Station  BUS42018-hba48011-Weekday-02  ...   \n",
       "\n",
       "   shape_id wheelchair_accessible trip_route_type route_pattern_id  \\\n",
       "0   1700028                   1.0             NaN          170-_-0   \n",
       "1   1700032                   1.0             NaN          170-3-1   \n",
       "2  660101-1                   1.0             NaN           23-G-1   \n",
       "3    040033                   1.0             NaN            4-1-0   \n",
       "4    040034                   1.0             NaN            4-_-0   \n",
       "\n",
       "  bikes_allowed unique_agency_id              unique_feed_id  \\\n",
       "0           1.0             mbta  mbta2018_102418_20221108_1   \n",
       "1           1.0             mbta  mbta2018_102418_20221108_1   \n",
       "2           1.0             mbta  mbta2018_102418_20221108_1   \n",
       "3           1.0             mbta  mbta2018_102418_20221108_1   \n",
       "4           1.0             mbta  mbta2018_102418_20221108_1   \n",
       "\n",
       "                     bikes_allowed_desc  \\\n",
       "0  can accommodate at least one bicycle   \n",
       "1  can accommodate at least one bicycle   \n",
       "2  can accommodate at least one bicycle   \n",
       "3  can accommodate at least one bicycle   \n",
       "4  can accommodate at least one bicycle   \n",
       "\n",
       "                          wheelchair_accessible_desc      new_id  \n",
       "0  can accommodate at least one rider in a wheelc...  170:20.8:F  \n",
       "1  can accommodate at least one rider in a wheelc...  170:20.4:R  \n",
       "2  can accommodate at least one rider in a wheelc...    23:1.0:R  \n",
       "3  can accommodate at least one rider in a wheelc...     4:2.3:F  \n",
       "4  can accommodate at least one rider in a wheelc...     4:3.0:F  \n",
       "\n",
       "[5 rows x 29 columns]"
      ]
     },
     "execution_count": 7,
     "metadata": {},
     "output_type": "execute_result"
    }
   ],
   "source": [
    "#gtfsfeeds_dfs.trips.merge(routes_from_transcad, how=\"left\", left_on=\"trip_id\", right_on=\"Trip\")\n",
    "\n",
    "consolidation_tab = routes_from_transcad.merge(gtfsfeeds_dfs.trips, how=\"left\", left_on=\"Trip\", right_on=\"trip_id\")\n",
    "consolidation_tab['new_id'] = consolidation_tab['Route'].astype('str') + ':' + consolidation_tab['Length'].round(1).astype('str') + ':' + consolidation_tab['Direction'].astype('str')\n",
    "consolidation_tab.head()"
   ]
  },
  {
   "cell_type": "code",
   "execution_count": null,
   "metadata": {},
   "outputs": [],
   "source": [
    "lookuptab = consolidation_tab.groupby(by=\"new_id\").first().reset_index()[['new_id','route_pattern_id']]\n",
    "lookuptab = lookuptab.rename(columns = {'route_pattern_id':'rpid'})\n",
    "lookuptab"
   ]
  },
  {
   "cell_type": "code",
   "execution_count": null,
   "metadata": {},
   "outputs": [],
   "source": [
    "ct = consolidation_tab.merge(lookuptab,on=\"new_id\", how='left')\n",
    "#ct['route_pattern_id'] = ct['rpid']\n",
    "\n",
    "ct = ct.drop(list(routes_from_transcad.columns), axis=1)\n",
    "ct = ct.drop(list(['new_id','unique_agency_id','unique_feed_id','bikes_allowed_desc', 'wheelchair_accessible_desc']), axis=1)\n",
    "ct[['route_pattern_id','rpid']]\n",
    "#ct"
   ]
  },
  {
   "cell_type": "code",
   "execution_count": null,
   "metadata": {},
   "outputs": [],
   "source": [
    "ct.query('route_pattern_id != rpid')"
   ]
  },
  {
   "cell_type": "code",
   "execution_count": null,
   "metadata": {},
   "outputs": [],
   "source": [
    "len(gtfsfeeds_dfs.trips['trip_id']) - len(gtfsfeeds_dfs.trips['trip_id'].unique())"
   ]
  },
  {
   "cell_type": "code",
   "execution_count": null,
   "metadata": {},
   "outputs": [],
   "source": [
    "gtfsfeeds_dfs.trips = gtfsfeeds_dfs.trips.merge(ct[['route_pattern_id','rpid']].drop_duplicates(),on=\"route_pattern_id\", how='left')\n",
    "gtfsfeeds_dfs.trips['route_pattern_id'] = gtfsfeeds_dfs.trips['rpid']\n",
    "gtfsfeeds_dfs.trips = gtfsfeeds_dfs.trips.drop(list(['rpid']), axis=1)\n",
    "gtfsfeeds_dfs.trips"
   ]
  },
  {
   "cell_type": "code",
   "execution_count": null,
   "metadata": {},
   "outputs": [],
   "source": [
    "len(gtfsfeeds_dfs.trips['trip_id']) - len(gtfsfeeds_dfs.trips['trip_id'].unique())"
   ]
  },
  {
   "cell_type": "code",
   "execution_count": null,
   "metadata": {},
   "outputs": [],
   "source": [
    "len(gtfsfeeds_dfs.trips['route_pattern_id'].unique())"
   ]
  },
  {
   "cell_type": "code",
   "execution_count": null,
   "metadata": {},
   "outputs": [],
   "source": [
    "len(gtfsfeeds_dfs.trips['route_id'].unique())"
   ]
  },
  {
   "cell_type": "code",
   "execution_count": null,
   "metadata": {},
   "outputs": [],
   "source": [
    "gtfsfeeds_dfs.trips.to_csv(r\"C:\\\\Users\\\\matkinson.AD\\\\Downloads\\\\mbta2018_102418\\\\trips.txt\",index=False)"
   ]
  },
  {
   "cell_type": "markdown",
   "metadata": {},
   "source": [
    "### Calculating Route Variation Trip Counts\n",
    "Now the goal is to get the number of trips per ROUTE, time period, direction, and shape_id and by ROUTE, time period, direction, and route_pattern_id. The idea is to be able to filter out uncommonly used route patterns, which will help with identifying conflation issues that are relevant to the model.\n",
    "\n",
    "Time of Day Periods\n",
    "- AM Peak - 6:30 AM to 9:30 AM\n",
    "- MD - 9:30 AM - 3:00 PM\n",
    "- PM Peak - 3:00 PM - 7:00 PM\n",
    "- NT - 7:00 PM - 6:30 AM"
   ]
  },
  {
   "cell_type": "code",
   "execution_count": null,
   "metadata": {},
   "outputs": [],
   "source": [
    "hours = gtfsfeeds_dfs.stop_times['arrival_time'].astype('str').str.split(':').apply(lambda x: x[0]).astype('int64') \n",
    "minutes = (gtfsfeeds_dfs.stop_times['arrival_time'].astype('str').str.split(':').apply(lambda x: x[1]).astype('int64')/100)\n",
    "gtfsfeeds_dfs.stop_times['time_integer'] = (hours+minutes).astype('float')\n",
    "gtfsfeeds_dfs.stop_times['tod'] = np.where(\n",
    "    ((gtfsfeeds_dfs.stop_times['time_integer'] >= 6.3) & (gtfsfeeds_dfs.stop_times['time_integer']< 9.3)), \"AM\", \n",
    "    np.where(\n",
    "        ((gtfsfeeds_dfs.stop_times['time_integer'] >= 9.3) & (gtfsfeeds_dfs.stop_times['time_integer']< 15)), \"MD\",\n",
    "        np.where(\n",
    "            ((gtfsfeeds_dfs.stop_times['time_integer'] >= 15) & (gtfsfeeds_dfs.stop_times['time_integer']< 19)), \"PM\",\n",
    "            np.where(\n",
    "                ((gtfsfeeds_dfs.stop_times['time_integer'] >= 19) | (gtfsfeeds_dfs.stop_times['time_integer']< 6.3)), \"NT\", \"0\"\n",
    "            \n",
    "        ))))"
   ]
  },
  {
   "cell_type": "code",
   "execution_count": null,
   "metadata": {},
   "outputs": [],
   "source": [
    "gtfsfeeds_dfs.stop_times.query('tod==\"0\"')"
   ]
  },
  {
   "cell_type": "code",
   "execution_count": null,
   "metadata": {},
   "outputs": [],
   "source": [
    "trips = gtfsfeeds_dfs.trips.merge(gtfsfeeds_dfs.stop_times.groupby(by=['trip_id'])['tod'].min().reset_index()[['trip_id','tod']], on='trip_id')#.query('stop_sequence == 1')[['trip_id','tod']], on='trip_id')"
   ]
  },
  {
   "cell_type": "code",
   "execution_count": null,
   "metadata": {},
   "outputs": [],
   "source": [
    "trips_count = trips.groupby(by=['route_id' , 'direction_id', 'route_pattern_id','service_id','tod'])['shape_id'].count().reset_index()\n",
    "trips_count.to_csv(r\"C:\\Users\\matkinson.AD\\Downloads\\route_pattern_breakdown.csv\")\n",
    "trips_count"
   ]
  },
  {
   "cell_type": "markdown",
   "metadata": {},
   "source": [
    "Notes:\n",
    "\n",
    "The two following service_ids are identical in the routes and number of trips they serve:\n",
    "- BUS42018-hbc48fr1-Weekday-02\t\n",
    "- BUS42018-hbc48wk1-Weekday-02\n",
    "\n",
    "They do have overlap in when trips are running - however, hbc48wk1 seems to be for MTWTH and hbc48fr1 for F. Maybe it allows more flexibility around holidays. This is the main issue when thinking about trips with different ids but the same pattern and stop_times (e.g. same trip, different service_id) when days are conflated (e.g. Tuesdays instead of a specific date)\n",
    "\n",
    "Both of these schedules run MTWTHF and are taken out of service in the optional calendar_dates.txt where 2 means subtracted and 1 means added. See : https://multigtfs.readthedocs.io/en/latest/gtfs.html for documentation of this schema. \n",
    "\n",
    "20180918 (September 18, 2018) seems to be a \"regular\" date in calendar_dates.txt - meaning that ONLY BUS42018-hbc48fr1-Weekday-02\t is turned off for the day."
   ]
  },
  {
   "cell_type": "markdown",
   "metadata": {},
   "source": [
    "## B Line Checks"
   ]
  },
  {
   "cell_type": "code",
   "execution_count": null,
   "metadata": {},
   "outputs": [],
   "source": [
    "bline_trips = gtfsfeeds_dfs.trips.query('route_id == \"Green-B\"')['trip_id']\n",
    "gtfsfeeds_dfs.trips.query('route_id == \"Green-B\"')"
   ]
  },
  {
   "cell_type": "code",
   "execution_count": null,
   "metadata": {},
   "outputs": [],
   "source": [
    "bline_stops = gtfsfeeds_dfs.stop_times.query('trip_id in @bline_trips')['stop_id']\n",
    "gtfsfeeds_dfs.stop_times.query('trip_id in @bline_trips')"
   ]
  },
  {
   "cell_type": "code",
   "execution_count": null,
   "metadata": {},
   "outputs": [],
   "source": [
    "gtfsfeeds_dfs.stops.query('stop_id in @bline_stops')"
   ]
  },
  {
   "cell_type": "code",
   "execution_count": null,
   "metadata": {},
   "outputs": [],
   "source": [
    "gtfsfeeds_dfs.stops.query('stop_id in @bline_stops').to_csv(\n",
    "    r\"J:\\Shared drives\\TMD_TSA\\Programs\\MID\\Networks\\Network_Release_Process\\2022_FirstRelease\\BLine_Green_Stops_2018GTFS.csv\")"
   ]
  }
 ],
 "metadata": {
  "kernelspec": {
   "display_name": "Python 3.8.13 ('urbanAccess')",
   "language": "python",
   "name": "python3"
  },
  "language_info": {
   "codemirror_mode": {
    "name": "ipython",
    "version": 3
   },
   "file_extension": ".py",
   "mimetype": "text/x-python",
   "name": "python",
   "nbconvert_exporter": "python",
   "pygments_lexer": "ipython3",
   "version": "3.8.13"
  },
  "orig_nbformat": 4,
  "vscode": {
   "interpreter": {
    "hash": "2a2b370b38977169157650f5355ad729af7f449719cdba662b087dc855e43e33"
   }
  }
 },
 "nbformat": 4,
 "nbformat_minor": 2
}
