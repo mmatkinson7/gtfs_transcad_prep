{
 "cells": [
  {
   "cell_type": "markdown",
   "metadata": {},
   "source": [
    "## Edit GTFS as a System\n",
    "Margaret Atkinson 10/25/22\n",
    "\n",
    "Overall Goal: Conflate GTFS to TransCAD links\n",
    "\n",
    "    Issue: Too many route variations\n",
    "        First Sub-Issue Goal: Get the number of trips per time period for each route variation\n",
    "\n",
    "Notes:\n",
    "\n",
    "While this 2018 Recap GTFS has been cleaned by the R script itsleeds_gleangtfs.R and imported to the link layer in TransCAD, I am starting from the cleaned GTFS (not imported to link layer) so that I can easily connect all this data together in a system instead of disparate parts."
   ]
  },
  {
   "cell_type": "code",
   "execution_count": 1,
   "metadata": {},
   "outputs": [],
   "source": [
    "import matplotlib\n",
    "matplotlib.use('agg')  # allows notebook to be tested in Travis\n",
    "\n",
    "import numpy as np\n",
    "import pandas as pd\n",
    "import cartopy.crs as ccrs\n",
    "import cartopy\n",
    "import matplotlib.pyplot as plt\n",
    "import pandana as pdna\n",
    "import time\n",
    "\n",
    "import urbanaccess as ua\n",
    "from urbanaccess.config import settings\n",
    "from urbanaccess.gtfsfeeds import feeds\n",
    "from urbanaccess import gtfsfeeds\n",
    "from urbanaccess.gtfs.gtfsfeeds_dataframe import gtfsfeeds_dfs\n",
    "from urbanaccess.network import ua_network, load_network\n",
    "\n",
    "%matplotlib inline"
   ]
  },
  {
   "cell_type": "markdown",
   "metadata": {},
   "source": [
    "Example of GTFS in UrbanAccess here:\n",
    "\n",
    "https://github.com/UDST/urbanaccess/blob/dev/demo/simple_example.ipynb"
   ]
  },
  {
   "cell_type": "code",
   "execution_count": 2,
   "metadata": {},
   "outputs": [],
   "source": [
    "# required bbox including all of Massachusetts and RI as well as parts of NH, CT, NY\n",
    "bbox = (-73.7207, 41.1198, -69.7876, 43.1161)\n",
    "# path to the downloaded and cleaned gtfs - mbta recap file for fall 2018\n",
    "#   this could also be a folder of gtfs folders (pre merge of multiple gtfs)\n",
    "#path_to_gtfs = r\"J:\\Shared drives\\TMD_TSA\\Programs\\MID\\Networks\\Research_Development\\Transit_Networks\\gtfs_to_transcad\\mbta2018_its_clean\"\n",
    "path_to_gtfs = r\"J:\\Shared drives\\TMD_TSA\\Programs\\MID\\Networks\\Research_Development\\Transit_Networks\\gtfs_to_transcad\\mbta2018_clean_trips_filter\""
   ]
  },
  {
   "cell_type": "code",
   "execution_count": 3,
   "metadata": {},
   "outputs": [
    {
     "name": "stdout",
     "output_type": "stream",
     "text": [
      "Checking GTFS text file header whitespace... Reading files using encoding: utf-8 set in configuration.\n",
      "GTFS text file header whitespace check completed. Took 1.19 seconds\n",
      "--------------------------------\n",
      "Processing GTFS feed: mbta2018_clean_trips_filter\n",
      "The unique agency id: mbta was generated using the name of the agency in the agency.txt file.\n",
      "Unique agency id operation complete. Took 0.06 seconds\n",
      "Unique GTFS feed id operation complete. Took 0.00 seconds\n",
      "No GTFS feed stops were found to be outside the bounding box coordinates\n",
      "mbta2018_clean_trips_filter GTFS feed stops: coordinates are in northwest hemisphere. Latitude = North (90); Longitude = West (-90).\n",
      "Appended route type to stops\n",
      "Appended route type to stop_times\n",
      "--------------------------------\n",
      "Added descriptive definitions to stops, routes, stop_times, and trips tables\n",
      "Successfully converted ['departure_time'] to seconds past midnight and appended new columns to stop_times. Took 3.81 seconds\n",
      "1 GTFS feed file(s) successfully read as dataframes:\n",
      "     mbta2018_clean_trips_filter\n",
      "     Took 8.25 seconds\n"
     ]
    }
   ],
   "source": [
    "loaded_feeds = ua.gtfs.load.gtfsfeed_to_df(gtfsfeed_path= path_to_gtfs,\n",
    "                                           validation=True,\n",
    "                                           verbose=True,\n",
    "                                           bbox=bbox,\n",
    "                                           remove_stops_outsidebbox=False,\n",
    "                                           append_definitions=True)"
   ]
  },
  {
   "cell_type": "markdown",
   "metadata": {},
   "source": [
    "### Calculating Route Variation Trip Counts\n",
    "Now the goal is to get the number of trips per ROUTE, time period, direction, and shape_id and by ROUTE, time period, direction, and route_pattern_id. The idea is to be able to filter out uncommonly used route patterns, which will help with identifying conflation issues that are relevant to the model.\n",
    "\n",
    "Time of Day Periods\n",
    "- AM Peak - 6:30 AM to 9:30 AM\n",
    "- MD - 9:30 AM - 3:00 PM\n",
    "- PM Peak - 3:00 PM - 7:00 PM\n",
    "- NT - 7:00 PM - 6:30 AM"
   ]
  },
  {
   "cell_type": "code",
   "execution_count": null,
   "metadata": {},
   "outputs": [],
   "source": [
    "gtfsfeeds_dfs.trips['tod'] = 0"
   ]
  },
  {
   "cell_type": "code",
   "execution_count": null,
   "metadata": {},
   "outputs": [],
   "source": [
    "'''#calculate time of day period for each trip\n",
    "for x in gtfsfeeds_dfs.trips.trip_id:\n",
    "    stop_times_trip = gtfsfeeds_dfs.stop_times.query('trip_id == @x & stop_sequence == 1').arrival_time.array\n",
    "    time_int = int(stop_times_trip[0].split(\":\")[0]) +int( stop_times_trip[0].split(\":\")[1])/100\n",
    "    if time_int  > 6.3 and time_int < 9.3:\n",
    "        time_flag = 'AM'\n",
    "    elif time_int  > 9.3 and time_int < 15:\n",
    "        time_flag = 'MD'\n",
    "    elif time_int  > 15 and time_int < 19:\n",
    "        time_flag = 'PM'\n",
    "    elif time_int  > 19 or time_int < 6.3:\n",
    "        time_flag = 'NT'\n",
    "    \n",
    "    row = gtfsfeeds_dfs.trips.query('trip_id == @x').index[0]\n",
    "    gtfsfeeds_dfs.trips.loc[row,'tod'] = time_flag'''"
   ]
  },
  {
   "cell_type": "code",
   "execution_count": 4,
   "metadata": {},
   "outputs": [],
   "source": [
    "hours = gtfsfeeds_dfs.stop_times['arrival_time'].astype('str').str.split(':').apply(lambda x: x[0]).astype('int64') \n",
    "minutes = (gtfsfeeds_dfs.stop_times['arrival_time'].astype('str').str.split(':').apply(lambda x: x[1]).astype('int64')/100)\n",
    "gtfsfeeds_dfs.stop_times['time_integer'] = (hours+minutes).astype('float')\n",
    "gtfsfeeds_dfs.stop_times['tod'] = np.where(\n",
    "    ((gtfsfeeds_dfs.stop_times['time_integer'] > 6.3) & gtfsfeeds_dfs.stop_times['time_integer']< 9.3), \"AM\", \n",
    "    np.where(\n",
    "        ((gtfsfeeds_dfs.stop_times['time_integer'] > 9.3) & gtfsfeeds_dfs.stop_times['time_integer']< 15), \"MD\",\n",
    "        np.where(\n",
    "            ((gtfsfeeds_dfs.stop_times['time_integer'] > 15) & gtfsfeeds_dfs.stop_times['time_integer']< 19), \"PM\",\n",
    "            np.where(\n",
    "                ((gtfsfeeds_dfs.stop_times['time_integer'] > 19) | gtfsfeeds_dfs.stop_times['time_integer']< 6.3), \"NT\", \"0\"\n",
    "            \n",
    "        ))))"
   ]
  },
  {
   "cell_type": "code",
   "execution_count": 5,
   "metadata": {},
   "outputs": [
    {
     "data": {
      "text/html": [
       "<div>\n",
       "<style scoped>\n",
       "    .dataframe tbody tr th:only-of-type {\n",
       "        vertical-align: middle;\n",
       "    }\n",
       "\n",
       "    .dataframe tbody tr th {\n",
       "        vertical-align: top;\n",
       "    }\n",
       "\n",
       "    .dataframe thead th {\n",
       "        text-align: right;\n",
       "    }\n",
       "</style>\n",
       "<table border=\"1\" class=\"dataframe\">\n",
       "  <thead>\n",
       "    <tr style=\"text-align: right;\">\n",
       "      <th></th>\n",
       "      <th>trip_id</th>\n",
       "      <th>arrival_time</th>\n",
       "      <th>departure_time</th>\n",
       "      <th>stop_id</th>\n",
       "      <th>stop_sequence</th>\n",
       "      <th>stop_headsign</th>\n",
       "      <th>pickup_type</th>\n",
       "      <th>drop_off_type</th>\n",
       "      <th>timepoint</th>\n",
       "      <th>checkpoint_id</th>\n",
       "      <th>unique_agency_id</th>\n",
       "      <th>unique_feed_id</th>\n",
       "      <th>route_type</th>\n",
       "      <th>pickup_type_desc</th>\n",
       "      <th>drop_off_type_desc</th>\n",
       "      <th>timepoint_desc</th>\n",
       "      <th>departure_time_sec</th>\n",
       "      <th>time_integer</th>\n",
       "      <th>tod</th>\n",
       "    </tr>\n",
       "  </thead>\n",
       "  <tbody>\n",
       "  </tbody>\n",
       "</table>\n",
       "</div>"
      ],
      "text/plain": [
       "Empty DataFrame\n",
       "Columns: [trip_id, arrival_time, departure_time, stop_id, stop_sequence, stop_headsign, pickup_type, drop_off_type, timepoint, checkpoint_id, unique_agency_id, unique_feed_id, route_type, pickup_type_desc, drop_off_type_desc, timepoint_desc, departure_time_sec, time_integer, tod]\n",
       "Index: []"
      ]
     },
     "execution_count": 5,
     "metadata": {},
     "output_type": "execute_result"
    }
   ],
   "source": [
    "gtfsfeeds_dfs.stop_times.query('tod==\"0\"')"
   ]
  },
  {
   "cell_type": "code",
   "execution_count": 8,
   "metadata": {},
   "outputs": [],
   "source": [
    "trips = gtfsfeeds_dfs.trips.merge(gtfsfeeds_dfs.stop_times.query('stop_sequence == 1')[['trip_id','tod']], on='trip_id')"
   ]
  },
  {
   "cell_type": "code",
   "execution_count": 13,
   "metadata": {},
   "outputs": [
    {
     "data": {
      "text/html": [
       "<div>\n",
       "<style scoped>\n",
       "    .dataframe tbody tr th:only-of-type {\n",
       "        vertical-align: middle;\n",
       "    }\n",
       "\n",
       "    .dataframe tbody tr th {\n",
       "        vertical-align: top;\n",
       "    }\n",
       "\n",
       "    .dataframe thead th {\n",
       "        text-align: right;\n",
       "    }\n",
       "</style>\n",
       "<table border=\"1\" class=\"dataframe\">\n",
       "  <thead>\n",
       "    <tr style=\"text-align: right;\">\n",
       "      <th></th>\n",
       "      <th>route_id</th>\n",
       "      <th>direction_id</th>\n",
       "      <th>route_pattern_id</th>\n",
       "      <th>service_id</th>\n",
       "      <th>tod</th>\n",
       "      <th>shape_id</th>\n",
       "    </tr>\n",
       "  </thead>\n",
       "  <tbody>\n",
       "    <tr>\n",
       "      <th>0</th>\n",
       "      <td>1</td>\n",
       "      <td>0</td>\n",
       "      <td>1-_-0</td>\n",
       "      <td>BUS42018-hbc48fr1-Weekday-02</td>\n",
       "      <td>AM</td>\n",
       "      <td>114</td>\n",
       "    </tr>\n",
       "    <tr>\n",
       "      <th>1</th>\n",
       "      <td>1</td>\n",
       "      <td>0</td>\n",
       "      <td>1-_-0</td>\n",
       "      <td>BUS42018-hbc48wk1-Weekday-02</td>\n",
       "      <td>AM</td>\n",
       "      <td>114</td>\n",
       "    </tr>\n",
       "    <tr>\n",
       "      <th>2</th>\n",
       "      <td>1</td>\n",
       "      <td>1</td>\n",
       "      <td>1-_-1</td>\n",
       "      <td>BUS42018-hbc48fr1-Weekday-02</td>\n",
       "      <td>AM</td>\n",
       "      <td>109</td>\n",
       "    </tr>\n",
       "    <tr>\n",
       "      <th>3</th>\n",
       "      <td>1</td>\n",
       "      <td>1</td>\n",
       "      <td>1-_-1</td>\n",
       "      <td>BUS42018-hbc48wk1-Weekday-02</td>\n",
       "      <td>AM</td>\n",
       "      <td>109</td>\n",
       "    </tr>\n",
       "    <tr>\n",
       "      <th>4</th>\n",
       "      <td>10</td>\n",
       "      <td>0</td>\n",
       "      <td>10-5-0</td>\n",
       "      <td>BUS42018-hbc48fr1-Weekday-02</td>\n",
       "      <td>AM</td>\n",
       "      <td>1</td>\n",
       "    </tr>\n",
       "    <tr>\n",
       "      <th>...</th>\n",
       "      <td>...</td>\n",
       "      <td>...</td>\n",
       "      <td>...</td>\n",
       "      <td>...</td>\n",
       "      <td>...</td>\n",
       "      <td>...</td>\n",
       "    </tr>\n",
       "    <tr>\n",
       "      <th>1097</th>\n",
       "      <td>Orange</td>\n",
       "      <td>0</td>\n",
       "      <td>Orange-3-0</td>\n",
       "      <td>RTL42018-hmo48011-Weekday-01</td>\n",
       "      <td>AM</td>\n",
       "      <td>150</td>\n",
       "    </tr>\n",
       "    <tr>\n",
       "      <th>1098</th>\n",
       "      <td>Orange</td>\n",
       "      <td>1</td>\n",
       "      <td>Orange-3-1</td>\n",
       "      <td>RTL42018-hmo48011-Weekday-01</td>\n",
       "      <td>AM</td>\n",
       "      <td>153</td>\n",
       "    </tr>\n",
       "    <tr>\n",
       "      <th>1099</th>\n",
       "      <td>Red</td>\n",
       "      <td>0</td>\n",
       "      <td>Red-1-0</td>\n",
       "      <td>RTL42018-hms48011-Weekday-01</td>\n",
       "      <td>AM</td>\n",
       "      <td>109</td>\n",
       "    </tr>\n",
       "    <tr>\n",
       "      <th>1100</th>\n",
       "      <td>Red</td>\n",
       "      <td>0</td>\n",
       "      <td>Red-3-0</td>\n",
       "      <td>RTL42018-hms48011-Weekday-01</td>\n",
       "      <td>AM</td>\n",
       "      <td>114</td>\n",
       "    </tr>\n",
       "    <tr>\n",
       "      <th>1101</th>\n",
       "      <td>Red</td>\n",
       "      <td>1</td>\n",
       "      <td>Red-3-1</td>\n",
       "      <td>RTL42018-hms48011-Weekday-01</td>\n",
       "      <td>AM</td>\n",
       "      <td>113</td>\n",
       "    </tr>\n",
       "  </tbody>\n",
       "</table>\n",
       "<p>1102 rows × 6 columns</p>\n",
       "</div>"
      ],
      "text/plain": [
       "     route_id  direction_id route_pattern_id                    service_id  \\\n",
       "0           1             0            1-_-0  BUS42018-hbc48fr1-Weekday-02   \n",
       "1           1             0            1-_-0  BUS42018-hbc48wk1-Weekday-02   \n",
       "2           1             1            1-_-1  BUS42018-hbc48fr1-Weekday-02   \n",
       "3           1             1            1-_-1  BUS42018-hbc48wk1-Weekday-02   \n",
       "4          10             0           10-5-0  BUS42018-hbc48fr1-Weekday-02   \n",
       "...       ...           ...              ...                           ...   \n",
       "1097   Orange             0       Orange-3-0  RTL42018-hmo48011-Weekday-01   \n",
       "1098   Orange             1       Orange-3-1  RTL42018-hmo48011-Weekday-01   \n",
       "1099      Red             0          Red-1-0  RTL42018-hms48011-Weekday-01   \n",
       "1100      Red             0          Red-3-0  RTL42018-hms48011-Weekday-01   \n",
       "1101      Red             1          Red-3-1  RTL42018-hms48011-Weekday-01   \n",
       "\n",
       "     tod  shape_id  \n",
       "0     AM       114  \n",
       "1     AM       114  \n",
       "2     AM       109  \n",
       "3     AM       109  \n",
       "4     AM         1  \n",
       "...   ..       ...  \n",
       "1097  AM       150  \n",
       "1098  AM       153  \n",
       "1099  AM       109  \n",
       "1100  AM       114  \n",
       "1101  AM       113  \n",
       "\n",
       "[1102 rows x 6 columns]"
      ]
     },
     "execution_count": 13,
     "metadata": {},
     "output_type": "execute_result"
    }
   ],
   "source": [
    "trips_count = trips.groupby(by=['route_id' , 'direction_id', 'route_pattern_id','service_id','tod'])['shape_id'].count().reset_index()\n",
    "trips_count.to_csv(r\"C:\\Users\\matkinson.AD\\Downloads\\route_pattern_breakdown.csv\")\n",
    "trips_count"
   ]
  },
  {
   "cell_type": "markdown",
   "metadata": {},
   "source": [
    "Notes:\n",
    "\n",
    "The two following service_ids are identical in the routes and number of trips they serve:\n",
    "- BUS42018-hbc48fr1-Weekday-02\t\n",
    "- BUS42018-hbc48wk1-Weekday-02\n",
    "\n",
    "They do have overlap in when trips are running - however, hbc48wk1 seems to be for MTWTH and hbc48fr1 for F. Maybe it allows more flexibility around holidays. This is the main issue when thinking about trips with different ids but the same pattern and stop_times (e.g. same trip, different service_id) when days are conflated (e.g. Tuesdays instead of a specific date)\n",
    "\n",
    "Both of these schedules run MTWTHF and are taken out of service in the optional calendar_dates.txt where 2 means subtracted and 1 means added. See : https://multigtfs.readthedocs.io/en/latest/gtfs.html for documentation of this schema. \n",
    "\n",
    "20180918 (September 18, 2018) seems to be a \"regular\" date in calendar_dates.txt - meaning that ONLY BUS42018-hbc48fr1-Weekday-02\t is turned off for the day."
   ]
  }
 ],
 "metadata": {
  "kernelspec": {
   "display_name": "Python 3.8.13 ('urbanAccess')",
   "language": "python",
   "name": "python3"
  },
  "language_info": {
   "codemirror_mode": {
    "name": "ipython",
    "version": 3
   },
   "file_extension": ".py",
   "mimetype": "text/x-python",
   "name": "python",
   "nbconvert_exporter": "python",
   "pygments_lexer": "ipython3",
   "version": "3.8.13"
  },
  "orig_nbformat": 4,
  "vscode": {
   "interpreter": {
    "hash": "2a2b370b38977169157650f5355ad729af7f449719cdba662b087dc855e43e33"
   }
  }
 },
 "nbformat": 4,
 "nbformat_minor": 2
}
