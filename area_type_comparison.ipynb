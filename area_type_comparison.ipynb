{
 "cells": [
  {
   "cell_type": "code",
   "execution_count": null,
   "metadata": {},
   "outputs": [],
   "source": [
    "import matplotlib\n",
    "import numpy as np\n",
    "import pandas as pd\n",
    "import geopandas as gpd\n",
    "import matplotlib.pyplot as plt\n",
    "import plotly.express as px\n",
    "\n",
    "%matplotlib inline"
   ]
  },
  {
   "cell_type": "code",
   "execution_count": null,
   "metadata": {},
   "outputs": [],
   "source": [
    "scenarios_paths = r\"C:\\Projects\\tdm23\"\n",
    "scenario1 = r\"\\outputs\\Base\"\n",
    "scenario2 = r\"\\outputs\\GTFS_20221216\""
   ]
  },
  {
   "cell_type": "code",
   "execution_count": null,
   "metadata": {},
   "outputs": [],
   "source": [
    "taz_geography_path = scenarios_paths + r\"\\inputs\\zonal\\shp\\CTPS_TDM23_TAZ_2017g_v202204.shp\"\n",
    "s1_at_path = scenarios_paths + scenario1 + r\"\\_networks\\area_type.csv\"\n",
    "s2_at_path = scenarios_paths + scenario2 + r\"\\_networks\\area_type.csv\""
   ]
  },
  {
   "cell_type": "code",
   "execution_count": null,
   "metadata": {},
   "outputs": [],
   "source": [
    "taz = gpd.read_file(taz_geography_path)\n",
    "s1_at = pd.read_csv(s1_at_path)\n",
    "s2_at = pd.read_csv(s2_at_path)"
   ]
  },
  {
   "cell_type": "code",
   "execution_count": null,
   "metadata": {},
   "outputs": [],
   "source": [
    "at = s1_at.merge(s2_at, on = \"taz_id\", suffixes=('_Base','_GTFS'))\n",
    "\n",
    "# % of tazs with non-matching area_types\n",
    "print((len(at.query('access_density_Base != access_density_GTFS'))/len(at)*100))\n",
    "\n",
    "# look at tazs that changed their area_type by more than 1\n",
    "at.query('abs(access_density_Base - access_density_GTFS) > 1')"
   ]
  },
  {
   "cell_type": "code",
   "execution_count": null,
   "metadata": {},
   "outputs": [],
   "source": [
    "tazs = taz.merge(at, left_on = 'id', right_on = 'taz_id')"
   ]
  },
  {
   "cell_type": "code",
   "execution_count": null,
   "metadata": {},
   "outputs": [],
   "source": [
    "tazs['at_dif'] = (tazs.access_density_Base - tazs.access_density_GTFS)\n",
    "tazs = tazs.query('mpo == \"BRMPO\"')\n",
    "tazs.plot(column = 'at_dif', legend=True)"
   ]
  },
  {
   "cell_type": "code",
   "execution_count": null,
   "metadata": {},
   "outputs": [],
   "source": [
    "tazs = tazs.to_crs(4326)\n",
    "tazs.crs"
   ]
  },
  {
   "cell_type": "code",
   "execution_count": null,
   "metadata": {},
   "outputs": [],
   "source": [
    "fig = px.choropleth(\n",
    "    data_frame = tazs, locations=tazs.index, geojson = tazs.geometry, \n",
    "    color = \"at_dif\", projection=\"mercator\",\n",
    "    hover_data = [\"id\",\"at_dif\"]\n",
    "    )\n",
    "fig.update_geos(fitbounds=\"locations\", visible=False)\n",
    "fig.layout.update(height=500, width=700)\n",
    "fig.show()"
   ]
  },
  {
   "cell_type": "code",
   "execution_count": null,
   "metadata": {},
   "outputs": [],
   "source": [
    "investigate = tazs.query('mpo == \"BRMPO\" & at_dif < -1')\n",
    "investigate.town.value_counts()"
   ]
  }
 ],
 "metadata": {
  "interpreter": {
   "hash": "a6ba08b3204abc0ce1ac9078bd7172838fcf5096069f8e6c498f3cf5790777b1"
  },
  "kernelspec": {
   "display_name": "Python 3.8.12 ('tdm23_env_1')",
   "language": "python",
   "name": "python3"
  },
  "language_info": {
   "codemirror_mode": {
    "name": "ipython",
    "version": 3
   },
   "file_extension": ".py",
   "mimetype": "text/x-python",
   "name": "python",
   "nbconvert_exporter": "python",
   "pygments_lexer": "ipython3",
   "version": "3.8.12"
  },
  "orig_nbformat": 4
 },
 "nbformat": 4,
 "nbformat_minor": 2
}
