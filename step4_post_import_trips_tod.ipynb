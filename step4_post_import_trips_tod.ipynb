{
 "cells": [
  {
   "cell_type": "code",
   "execution_count": 1,
   "metadata": {},
   "outputs": [],
   "source": [
    "import pandas as pd\n",
    "import numpy as np"
   ]
  },
  {
   "cell_type": "code",
   "execution_count": 2,
   "metadata": {},
   "outputs": [],
   "source": [
    "base = r\"J:\\Shared drives\\TMD_TSA\\Model\\networks\\Transit\\gtfs\\bnrd\\4_imported_gtfs\"\n",
    "gtfs_base = r\"J:\\Shared drives\\TMD_TSA\\Model\\networks\\Transit\\gtfs\\bnrd\\3_gtfs_post_move_stops\"\n",
    "\n",
    "base = r\"J:\\Shared drives\\TMD_TSA\\Model\\networks\\Transit\\gtfs\\bat_2019\\4_imported_gtfs\"\n",
    "gtfs_base = r\"J:\\Shared drives\\TMD_TSA\\Model\\networks\\Transit\\gtfs\\bat_2019\\2_gtfs_py\""
   ]
  },
  {
   "cell_type": "code",
   "execution_count": 3,
   "metadata": {},
   "outputs": [],
   "source": [
    "tcad_routes = pd.read_csv(base + r\"\\Transit Routes.csv\", low_memory = False)\n",
    "\n",
    "trips = pd.read_csv(gtfs_base + r\"\\trips.txt\", low_memory = False)\n",
    "stop_times = pd.read_csv(gtfs_base + r\"\\stop_times.txt\", low_memory = False)"
   ]
  },
  {
   "cell_type": "code",
   "execution_count": 4,
   "metadata": {},
   "outputs": [],
   "source": [
    "trips['route_pattern_id'] = np.where(trips['route_pattern_id'].isnull(), trips['shape_id'], trips['route_pattern_id'])"
   ]
  },
  {
   "cell_type": "code",
   "execution_count": 5,
   "metadata": {},
   "outputs": [],
   "source": [
    "def get_start_stop_times(stop_times):    \n",
    "    '''for every trip, grab the start time and stop time of the trip\n",
    "    \n",
    "    Parameters\n",
    "    -----------\n",
    "    stop_times : df\n",
    "        gtfs stop_times.txt in df format\n",
    "\n",
    "    Returns\n",
    "    --------\n",
    "        flintstone : df\n",
    "            df with start and stop times per trip\n",
    "\n",
    "    '''\n",
    "    chocula =0 \n",
    "    for trip_id in stop_times['trip_id'].unique():\n",
    "        max_row = stop_times.query('trip_id==@trip_id').query('stop_sequence == stop_sequence.max()')[['trip_id','arrival_time']]\n",
    "        min_row = stop_times.query('trip_id==@trip_id').query('stop_sequence == stop_sequence.min()')[['trip_id','arrival_time']]\n",
    "        r2 = min_row.merge(max_row, how='left', on='trip_id', suffixes = ('_start','_end'))\n",
    "        if chocula == 0:\n",
    "            flintstone = pd.DataFrame(r2)\n",
    "        else:\n",
    "            flintstone=pd.concat([flintstone,r2])\n",
    "        chocula +=1\n",
    "    return(flintstone)\n"
   ]
  },
  {
   "cell_type": "code",
   "execution_count": 6,
   "metadata": {},
   "outputs": [],
   "source": [
    "def assign_tod(start_stop):\n",
    "    '''calculate midpoint of trip, use midpoint to assign TOD\n",
    "    \n",
    "    Parameters\n",
    "    -----------\n",
    "    start_stop : df\n",
    "        df with start and stop times per trip\n",
    "\n",
    "    Returns\n",
    "    --------\n",
    "    start_stop :\n",
    "        df with start time, stop time, midpoint time, and TOD per trip\n",
    "\n",
    "    '''\n",
    "    \n",
    "    start_stop['at_end_dec'] = (\n",
    "        (\n",
    "            (start_stop['arrival_time_end'].str.split(\":\").str[0]).astype('int32')\n",
    "            +\n",
    "            ((start_stop['arrival_time_end'].str.split(\":\").str[1]\n",
    "            ).astype('int32')/60)))\n",
    "    start_stop['at_start_dec'] = (\n",
    "        (\n",
    "            (start_stop['arrival_time_start'].str.split(\":\").str[0]).astype('int32')\n",
    "            +\n",
    "            ((start_stop['arrival_time_start'].str.split(\":\").str[1]\n",
    "            ).astype('int32')/60)))\n",
    "    \n",
    "    start_stop['midpoint'] = start_stop['at_start_dec'] + ((start_stop['at_end_dec']-start_stop['at_start_dec'])/2)\n",
    "    start_stop['tod'] = np.where(start_stop['midpoint'].between(6.50,9.50),'AM', np.where(\n",
    "        start_stop['midpoint'].between(9.50,15.00), 'MD', np.where(\n",
    "            start_stop['midpoint'].between(15.00,19.00),'PM', 'NT' \n",
    "        )\n",
    "            ) \n",
    "        )\n",
    "    \n",
    "    return start_stop\n"
   ]
  },
  {
   "cell_type": "code",
   "execution_count": 7,
   "metadata": {},
   "outputs": [],
   "source": [
    "def trips_per_tod_per_route(start_stop_tod, tcad_routes, trips):\n",
    "    route_name = {}\n",
    "    for t in tcad_routes['Trip']:\n",
    "        rn = tcad_routes.query('Trip == @t')['Route_Name'].to_list()[0]\n",
    "        gtfs_n = trips.query('trip_id == @t')['route_pattern_id']\n",
    "        route_name[rn] = gtfs_n.to_list()[0]\n",
    "\n",
    "    # check if multiple route patterns per route name\n",
    "    reltab = pd.DataFrame.from_dict(route_name, orient='index', columns = ['rpid']).reset_index()\n",
    "    \n",
    "    reltab['rpid'] = reltab['rpid'].astype('str')\n",
    "    trips['route_pattern_id'] = trips['route_pattern_id'].astype('str')\n",
    "    \n",
    "    trips2 = trips.merge(reltab, how='left', left_on = 'route_pattern_id',right_on = 'rpid').rename(columns={'index':'Route_Name'})\n",
    "\n",
    "    tod_trips = trips2.merge(start_stop_tod).groupby(by=['Route_Name','tod']).agg({'trip_id':'count'}).rename(columns = {'trip_id':'num_trips'}).reset_index()\n",
    "    tod_pivot = tod_trips.pivot(index='Route_Name', columns = 'tod', values = 'num_trips').reset_index()\n",
    "\n",
    "    \n",
    "\n",
    "    return tod_pivot"
   ]
  },
  {
   "cell_type": "code",
   "execution_count": 8,
   "metadata": {},
   "outputs": [],
   "source": [
    "start_stop = get_start_stop_times(stop_times) # simpson"
   ]
  },
  {
   "cell_type": "code",
   "execution_count": 9,
   "metadata": {},
   "outputs": [],
   "source": [
    "start_stop_tod = assign_tod(start_stop) # smurf"
   ]
  },
  {
   "cell_type": "code",
   "execution_count": 10,
   "metadata": {},
   "outputs": [],
   "source": [
    "tod_pivot = trips_per_tod_per_route(start_stop_tod, tcad_routes, trips)"
   ]
  },
  {
   "cell_type": "code",
   "execution_count": null,
   "metadata": {},
   "outputs": [],
   "source": [
    "print(\"AM: \"+str(tod_pivot['AM'].sum()))\n",
    "print(\"MD: \"+str(tod_pivot['MD'].sum()))\n",
    "print(\"PM: \"+str(tod_pivot['PM'].sum()))\n",
    "print(\"NT: \"+str(tod_pivot['NT'].sum()))"
   ]
  },
  {
   "cell_type": "code",
   "execution_count": 11,
   "metadata": {},
   "outputs": [],
   "source": [
    "tod_pivot.to_csv(base+r\"\\tod_pivot2.csv\", index=False)"
   ]
  }
 ],
 "metadata": {
  "kernelspec": {
   "display_name": "tdm_viz_wdb",
   "language": "python",
   "name": "python3"
  },
  "language_info": {
   "codemirror_mode": {
    "name": "ipython",
    "version": 3
   },
   "file_extension": ".py",
   "mimetype": "text/x-python",
   "name": "python",
   "nbconvert_exporter": "python",
   "pygments_lexer": "ipython3",
   "version": "3.8.12"
  },
  "orig_nbformat": 4,
  "vscode": {
   "interpreter": {
    "hash": "48919a2862006b373e83f05ab2a878d464752f0eb88afcbb34cbf604ce91cfb0"
   }
  }
 },
 "nbformat": 4,
 "nbformat_minor": 2
}
