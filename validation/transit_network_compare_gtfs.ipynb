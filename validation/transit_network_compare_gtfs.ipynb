{
 "cells": [
  {
   "cell_type": "markdown",
   "id": "5be1d25d",
   "metadata": {},
   "source": [
    "# Transit Boardings Validation Report"
   ]
  },
  {
   "attachments": {},
   "cell_type": "markdown",
   "id": "c797076e",
   "metadata": {},
   "source": [
    "### NOTE: OBSERVED = 2016 NETWORK, MODEL = 2019 GTFS NETWORK"
   ]
  },
  {
   "cell_type": "code",
   "execution_count": 45,
   "id": "4602ac21",
   "metadata": {},
   "outputs": [],
   "source": [
    "from validation_reports import notebook\n",
    "from validation_reports import trn_summ\n",
    "import pandas as pd\n",
    "import geopandas as gpd\n",
    "import numpy as np"
   ]
  },
  {
   "cell_type": "markdown",
   "id": "fa0dad63",
   "metadata": {},
   "source": [
    "### Set path to model outputs"
   ]
  },
  {
   "cell_type": "code",
   "execution_count": 46,
   "id": "2eee0b9a",
   "metadata": {},
   "outputs": [
    {
     "name": "stdout",
     "output_type": "stream",
     "text": [
      "directory ./outputs exists\n"
     ]
    }
   ],
   "source": [
    "nb = notebook()\n",
    "trn = trn_summ(scen=r\"J:\\Shared drives\\TMD_TSA\\Model\\networks\\Transit\\gtfs\\tdm23\\outputs\\Base\")\n",
    "gtrn = trn_summ(scen=r\"J:\\Shared drives\\TMD_TSA\\Model\\networks\\Transit\\gtfs\\tdm23\\outputs\\GTFS_20221216\")"
   ]
  },
  {
   "cell_type": "code",
   "execution_count": 47,
   "id": "b70064bf",
   "metadata": {},
   "outputs": [
    {
     "data": {
      "text/plain": [
       "'J:\\\\Shared drives\\\\TMD_TSA\\\\Model\\\\networks\\\\Transit\\\\gtfs\\\\tdm23\\\\outputs\\\\GTFS_20221216'"
      ]
     },
     "execution_count": 47,
     "metadata": {},
     "output_type": "execute_result"
    }
   ],
   "source": [
    "gtrn.scen = r\"J:\\Shared drives\\TMD_TSA\\Model\\networks\\Transit\\gtfs\\tdm23\\outputs\\GTFS_20221216\"\n",
    "trn.scen = r\"J:\\Shared drives\\TMD_TSA\\Model\\networks\\Transit\\gtfs\\tdm23\\outputs\\Base\"\n",
    "gtrn.scen"
   ]
  },
  {
   "cell_type": "code",
   "execution_count": 48,
   "id": "d9da3130",
   "metadata": {},
   "outputs": [
    {
     "name": "stderr",
     "output_type": "stream",
     "text": [
      "c:\\Users\\matkinson.AD\\Documents\\tdm23_vr\\validation_reports\\transit_loader.py:45: SettingWithCopyWarning: \n",
      "A value is trying to be set on a copy of a slice from a DataFrame.\n",
      "Try using .loc[row_indexer,col_indexer] = value instead\n",
      "\n",
      "See the caveats in the documentation: https://pandas.pydata.org/pandas-docs/stable/user_guide/indexing.html#returning-a-view-versus-a-copy\n",
      "  stop_df['on'] = 0\n"
     ]
    },
    {
     "name": "stdout",
     "output_type": "stream",
     "text": [
      "Model outputs from J:\\Shared drives\\TMD_TSA\\Model\\networks\\Transit\\gtfs\\tdm23\\outputs\\GTFS_20221216 loaded as mod_df\n",
      "Model outputs from J:\\Shared drives\\TMD_TSA\\Model\\networks\\Transit\\gtfs\\tdm23\\outputs\\Base loaded as mod_df\n"
     ]
    },
    {
     "data": {
      "text/plain": [
       "Index(['mode', 'operator', 'line', 'stop', 'tod', 'boardings'], dtype='object')"
      ]
     },
     "execution_count": 48,
     "metadata": {},
     "output_type": "execute_result"
    }
   ],
   "source": [
    "gtrn.load_model()\n",
    "trn.load_model()\n",
    "trn.mod_df.columns"
   ]
  },
  {
   "cell_type": "code",
   "execution_count": 49,
   "id": "46ce7706",
   "metadata": {},
   "outputs": [],
   "source": [
    "trn.mod_df['line'] = trn.mod_df['line'].str.lstrip(\"0\")"
   ]
  },
  {
   "cell_type": "code",
   "execution_count": 50,
   "id": "b96a588d",
   "metadata": {},
   "outputs": [],
   "source": [
    "gtrn.mod_df['mode'] = np.where(gtrn.mod_df['line'].isin([\"171\", \"426\", \"441\", \"442\", \"450\",\"455\"]), \"xbus\", gtrn.mod_df['mode'])"
   ]
  },
  {
   "cell_type": "code",
   "execution_count": 51,
   "id": "72225147",
   "metadata": {},
   "outputs": [
    {
     "data": {
      "text/plain": [
       "(38990, 6)"
      ]
     },
     "execution_count": 51,
     "metadata": {},
     "output_type": "execute_result"
    }
   ],
   "source": [
    "trn.mod_df.shape"
   ]
  },
  {
   "cell_type": "code",
   "execution_count": 52,
   "id": "3bd93415",
   "metadata": {},
   "outputs": [
    {
     "data": {
      "text/plain": [
       "(65150, 6)"
      ]
     },
     "execution_count": 52,
     "metadata": {},
     "output_type": "execute_result"
    }
   ],
   "source": [
    "gtrn.mod_df.shape"
   ]
  },
  {
   "cell_type": "code",
   "execution_count": 53,
   "id": "5a488b3c",
   "metadata": {},
   "outputs": [],
   "source": [
    "# build some handy dataframes\n",
    "#daily counts (separate from tod to avoid double counting)\n",
    "daily_mod = trn.mod_df[trn.mod_df['tod']=='daily']\n",
    "gdaily_mod = gtrn.mod_df[gtrn.mod_df['tod']=='daily']\n",
    "\n",
    "# time of day (drop daily and modes that do not have tod)\n",
    "tod_mod = trn.mod_df[(trn.mod_df['tod']!='daily')&(trn.mod_df['mode'].isin(['lbus','hr','brt','lrt']))]\n",
    "gtod_mod = gtrn.mod_df[(gtrn.mod_df['tod']!='daily')&(gtrn.mod_df['mode'].isin(['lbus','hr','brt','lrt']))]"
   ]
  },
  {
   "attachments": {},
   "cell_type": "markdown",
   "id": "36fd3538",
   "metadata": {},
   "source": [
    "Calculate Frequency per Primary Route to see if changes to this cause any problems down the line for ridership."
   ]
  },
  {
   "cell_type": "code",
   "execution_count": 54,
   "id": "28e2183c",
   "metadata": {},
   "outputs": [],
   "source": [
    "gtrn_routes = gpd.read_file(gtrn.scen + r\"\\_networks\\routes.shp\")\n",
    "trn_routes = gpd.read_file(trn.scen + r\"\\_networks\\routes.shp\")"
   ]
  },
  {
   "cell_type": "code",
   "execution_count": 55,
   "id": "bd62b675",
   "metadata": {},
   "outputs": [
    {
     "name": "stderr",
     "output_type": "stream",
     "text": [
      "c:\\Users\\matkinson.AD\\.conda\\envs\\tdm23_viz_plotly\\lib\\site-packages\\geopandas\\geodataframe.py:1322: SettingWithCopyWarning: \n",
      "A value is trying to be set on a copy of a slice from a DataFrame.\n",
      "Try using .loc[row_indexer,col_indexer] = value instead\n",
      "\n",
      "See the caveats in the documentation: https://pandas.pydata.org/pandas-docs/stable/user_guide/indexing.html#returning-a-view-versus-a-copy\n",
      "  super(GeoDataFrame, self).__setitem__(key, value)\n"
     ]
    },
    {
     "data": {
      "text/html": [
       "<div>\n",
       "<style scoped>\n",
       "    .dataframe tbody tr th:only-of-type {\n",
       "        vertical-align: middle;\n",
       "    }\n",
       "\n",
       "    .dataframe tbody tr th {\n",
       "        vertical-align: top;\n",
       "    }\n",
       "\n",
       "    .dataframe thead th {\n",
       "        text-align: right;\n",
       "    }\n",
       "</style>\n",
       "<table border=\"1\" class=\"dataframe\">\n",
       "  <thead>\n",
       "    <tr style=\"text-align: right;\">\n",
       "      <th></th>\n",
       "      <th>ROUTE_ID</th>\n",
       "      <th>ROUTE_NAME</th>\n",
       "      <th>DIR</th>\n",
       "      <th>MODE</th>\n",
       "      <th>OPERATOR</th>\n",
       "      <th>PRIMARY_RO</th>\n",
       "      <th>TRIP_HEAD_</th>\n",
       "      <th>OLD_MODE</th>\n",
       "      <th>DESC</th>\n",
       "      <th>FARE_TYPE</th>\n",
       "      <th>...</th>\n",
       "      <th>FARE_CORE</th>\n",
       "      <th>FUEL_TYPE</th>\n",
       "      <th>AVAILABLE</th>\n",
       "      <th>HEADWAY_AM</th>\n",
       "      <th>HEADWAY_MD</th>\n",
       "      <th>HEADWAY_PM</th>\n",
       "      <th>HEADWAY_NT</th>\n",
       "      <th>PROJECT_NA</th>\n",
       "      <th>PROJECT_ID</th>\n",
       "      <th>geometry</th>\n",
       "    </tr>\n",
       "  </thead>\n",
       "  <tbody>\n",
       "    <tr>\n",
       "      <th>431</th>\n",
       "      <td>5079</td>\n",
       "      <td>352: Burlington to Boston via I-</td>\n",
       "      <td>IB or SB</td>\n",
       "      <td>2</td>\n",
       "      <td>None</td>\n",
       "      <td>None</td>\n",
       "      <td>None</td>\n",
       "      <td>3</td>\n",
       "      <td>None</td>\n",
       "      <td>None</td>\n",
       "      <td>...</td>\n",
       "      <td>NaN</td>\n",
       "      <td>None</td>\n",
       "      <td>1</td>\n",
       "      <td>54.88</td>\n",
       "      <td>360.0</td>\n",
       "      <td>36.590000</td>\n",
       "      <td>360.0</td>\n",
       "      <td>None</td>\n",
       "      <td>None</td>\n",
       "      <td>LINESTRING (223682.137 918832.217, 223702.661 ...</td>\n",
       "    </tr>\n",
       "    <tr>\n",
       "      <th>681</th>\n",
       "      <td>6063</td>\n",
       "      <td>712:PT SHIRLEY - ORIENT IB</td>\n",
       "      <td>IB</td>\n",
       "      <td>1</td>\n",
       "      <td>None</td>\n",
       "      <td>None</td>\n",
       "      <td>None</td>\n",
       "      <td>1</td>\n",
       "      <td>None</td>\n",
       "      <td>None</td>\n",
       "      <td>...</td>\n",
       "      <td>NaN</td>\n",
       "      <td>None</td>\n",
       "      <td>1</td>\n",
       "      <td>0.00</td>\n",
       "      <td>0.0</td>\n",
       "      <td>0.000000</td>\n",
       "      <td>0.0</td>\n",
       "      <td>None</td>\n",
       "      <td>None</td>\n",
       "      <td>LINESTRING (243696.162 900855.205, 243680.416 ...</td>\n",
       "    </tr>\n",
       "    <tr>\n",
       "      <th>1412</th>\n",
       "      <td>8781</td>\n",
       "      <td>120: Orient Heights</td>\n",
       "      <td>OB or NB</td>\n",
       "      <td>1</td>\n",
       "      <td>None</td>\n",
       "      <td>None</td>\n",
       "      <td>None</td>\n",
       "      <td>1</td>\n",
       "      <td>None</td>\n",
       "      <td>None</td>\n",
       "      <td>...</td>\n",
       "      <td>NaN</td>\n",
       "      <td>None</td>\n",
       "      <td>1</td>\n",
       "      <td>22.50</td>\n",
       "      <td>22.5</td>\n",
       "      <td>25.714286</td>\n",
       "      <td>40.0</td>\n",
       "      <td>None</td>\n",
       "      <td>None</td>\n",
       "      <td>LINESTRING (237927.798 902204.963, 237953.429 ...</td>\n",
       "    </tr>\n",
       "  </tbody>\n",
       "</table>\n",
       "<p>3 rows × 21 columns</p>\n",
       "</div>"
      ],
      "text/plain": [
       "      ROUTE_ID                        ROUTE_NAME       DIR  MODE OPERATOR  \\\n",
       "431       5079  352: Burlington to Boston via I-  IB or SB     2     None   \n",
       "681       6063        712:PT SHIRLEY - ORIENT IB        IB     1     None   \n",
       "1412      8781               120: Orient Heights  OB or NB     1     None   \n",
       "\n",
       "     PRIMARY_RO TRIP_HEAD_  OLD_MODE  DESC FARE_TYPE  ...  FARE_CORE  \\\n",
       "431        None       None         3  None      None  ...        NaN   \n",
       "681        None       None         1  None      None  ...        NaN   \n",
       "1412       None       None         1  None      None  ...        NaN   \n",
       "\n",
       "      FUEL_TYPE AVAILABLE  HEADWAY_AM  HEADWAY_MD  HEADWAY_PM  HEADWAY_NT  \\\n",
       "431        None         1       54.88       360.0   36.590000       360.0   \n",
       "681        None         1        0.00         0.0    0.000000         0.0   \n",
       "1412       None         1       22.50        22.5   25.714286        40.0   \n",
       "\n",
       "      PROJECT_NA PROJECT_ID                                           geometry  \n",
       "431         None       None  LINESTRING (223682.137 918832.217, 223702.661 ...  \n",
       "681         None       None  LINESTRING (243696.162 900855.205, 243680.416 ...  \n",
       "1412        None       None  LINESTRING (237927.798 902204.963, 237953.429 ...  \n",
       "\n",
       "[3 rows x 21 columns]"
      ]
     },
     "execution_count": 55,
     "metadata": {},
     "output_type": "execute_result"
    }
   ],
   "source": [
    "trn_routes[trn_routes['PRIMARY_RO'].isin([\"710\",\"712\",\"713\",\"714\",\"716\"])]['OPERATOR'] = 'MBTA'\n",
    "trn_routes[trn_routes['PRIMARY_RO'].isna()].query('MODE < 3')\n",
    "# 712 is a privately operated bus route according to wikipedia."
   ]
  },
  {
   "cell_type": "code",
   "execution_count": 56,
   "id": "890d1e89",
   "metadata": {},
   "outputs": [
    {
     "data": {
      "text/html": [
       "<div>\n",
       "<style scoped>\n",
       "    .dataframe tbody tr th:only-of-type {\n",
       "        vertical-align: middle;\n",
       "    }\n",
       "\n",
       "    .dataframe tbody tr th {\n",
       "        vertical-align: top;\n",
       "    }\n",
       "\n",
       "    .dataframe thead th {\n",
       "        text-align: right;\n",
       "    }\n",
       "</style>\n",
       "<table border=\"1\" class=\"dataframe\">\n",
       "  <thead>\n",
       "    <tr style=\"text-align: right;\">\n",
       "      <th></th>\n",
       "      <th>ROUTE_ID</th>\n",
       "      <th>ROUTE_NAME</th>\n",
       "      <th>DIR</th>\n",
       "      <th>MODE</th>\n",
       "      <th>OPERATOR</th>\n",
       "      <th>PRIMARY_RO</th>\n",
       "      <th>TRIP_HEAD_</th>\n",
       "      <th>OLD_MODE</th>\n",
       "      <th>DESC</th>\n",
       "      <th>FARE_TYPE</th>\n",
       "      <th>...</th>\n",
       "      <th>FARE_CORE</th>\n",
       "      <th>FUEL_TYPE</th>\n",
       "      <th>AVAILABLE</th>\n",
       "      <th>HEADWAY_AM</th>\n",
       "      <th>HEADWAY_MD</th>\n",
       "      <th>HEADWAY_PM</th>\n",
       "      <th>HEADWAY_NT</th>\n",
       "      <th>PROJECT_NA</th>\n",
       "      <th>PROJECT_ID</th>\n",
       "      <th>geometry</th>\n",
       "    </tr>\n",
       "  </thead>\n",
       "  <tbody>\n",
       "  </tbody>\n",
       "</table>\n",
       "<p>0 rows × 21 columns</p>\n",
       "</div>"
      ],
      "text/plain": [
       "Empty GeoDataFrame\n",
       "Columns: [ROUTE_ID, ROUTE_NAME, DIR, MODE, OPERATOR, PRIMARY_RO, TRIP_HEAD_, OLD_MODE, DESC, FARE_TYPE, FARE, FARE_CORE, FUEL_TYPE, AVAILABLE, HEADWAY_AM, HEADWAY_MD, HEADWAY_PM, HEADWAY_NT, PROJECT_NA, PROJECT_ID, geometry]\n",
       "Index: []\n",
       "\n",
       "[0 rows x 21 columns]"
      ]
     },
     "execution_count": 56,
     "metadata": {},
     "output_type": "execute_result"
    }
   ],
   "source": [
    "gtrn_routes[gtrn_routes['PRIMARY_RO'].isna()].query('MODE < 3')"
   ]
  },
  {
   "cell_type": "code",
   "execution_count": 57,
   "id": "1d15bf67",
   "metadata": {},
   "outputs": [],
   "source": [
    "gtrn_routes['am_freq']  = 180/gtrn_routes['HEADWAY_AM']\n",
    "gtrn_routes['md_freq']  = 330/gtrn_routes['HEADWAY_MD']\n",
    "gtrn_routes['pm_freq']  = 240/gtrn_routes['HEADWAY_PM']\n",
    "gtrn_routes['nt_freq']  = 690/gtrn_routes['HEADWAY_NT']\n",
    "gtroutes = gtrn_routes[['PRIMARY_RO','am_freq','md_freq','pm_freq','nt_freq']].groupby(by='PRIMARY_RO').sum()\n",
    "gtroutes = gtroutes.reset_index()\n",
    "gtroutes['PRIMARY_RO'] = gtroutes['PRIMARY_RO'].str.lstrip(\"0\")\n",
    "\n",
    "trn_routes['am_freq']  = 180/trn_routes['HEADWAY_AM']\n",
    "trn_routes['md_freq']  = 330/trn_routes['HEADWAY_MD']\n",
    "trn_routes['pm_freq']  = 240/trn_routes['HEADWAY_PM']\n",
    "trn_routes['nt_freq']  = 690/trn_routes['HEADWAY_NT']\n",
    "troutes = trn_routes[['PRIMARY_RO','am_freq','md_freq','pm_freq','nt_freq']].groupby(by='PRIMARY_RO').sum()\n",
    "troutes = troutes.reset_index()\n",
    "troutes['PRIMARY_RO'] = troutes['PRIMARY_RO'].str.lstrip(\"0\")"
   ]
  },
  {
   "cell_type": "code",
   "execution_count": 58,
   "id": "85669601",
   "metadata": {},
   "outputs": [
    {
     "data": {
      "text/html": [
       "<div>\n",
       "<style scoped>\n",
       "    .dataframe tbody tr th:only-of-type {\n",
       "        vertical-align: middle;\n",
       "    }\n",
       "\n",
       "    .dataframe tbody tr th {\n",
       "        vertical-align: top;\n",
       "    }\n",
       "\n",
       "    .dataframe thead th {\n",
       "        text-align: right;\n",
       "    }\n",
       "</style>\n",
       "<table border=\"1\" class=\"dataframe\">\n",
       "  <thead>\n",
       "    <tr style=\"text-align: right;\">\n",
       "      <th></th>\n",
       "      <th>PRIMARY_RO</th>\n",
       "      <th>am_freq_gtfs</th>\n",
       "      <th>md_freq_gtfs</th>\n",
       "      <th>pm_freq_gtfs</th>\n",
       "      <th>nt_freq_gtfs</th>\n",
       "      <th>am_freq_2016</th>\n",
       "      <th>md_freq_2016</th>\n",
       "      <th>pm_freq_2016</th>\n",
       "      <th>nt_freq_2016</th>\n",
       "    </tr>\n",
       "  </thead>\n",
       "  <tbody>\n",
       "    <tr>\n",
       "      <th>0</th>\n",
       "      <td>1</td>\n",
       "      <td>39.0</td>\n",
       "      <td>48.000000</td>\n",
       "      <td>57.999999</td>\n",
       "      <td>129.785715</td>\n",
       "      <td>86.000004</td>\n",
       "      <td>152.166670</td>\n",
       "      <td>140.000018</td>\n",
       "      <td>391.000027</td>\n",
       "    </tr>\n",
       "    <tr>\n",
       "      <th>1</th>\n",
       "      <td>10</td>\n",
       "      <td>19.0</td>\n",
       "      <td>21.666667</td>\n",
       "      <td>19.000000</td>\n",
       "      <td>47.642857</td>\n",
       "      <td>NaN</td>\n",
       "      <td>NaN</td>\n",
       "      <td>NaN</td>\n",
       "      <td>NaN</td>\n",
       "    </tr>\n",
       "    <tr>\n",
       "      <th>2</th>\n",
       "      <td>100</td>\n",
       "      <td>15.0</td>\n",
       "      <td>19.000000</td>\n",
       "      <td>21.000000</td>\n",
       "      <td>31.214286</td>\n",
       "      <td>NaN</td>\n",
       "      <td>NaN</td>\n",
       "      <td>NaN</td>\n",
       "      <td>86.250000</td>\n",
       "    </tr>\n",
       "    <tr>\n",
       "      <th>3</th>\n",
       "      <td>101</td>\n",
       "      <td>38.0</td>\n",
       "      <td>27.000000</td>\n",
       "      <td>34.000000</td>\n",
       "      <td>41.071429</td>\n",
       "      <td>inf</td>\n",
       "      <td>NaN</td>\n",
       "      <td>NaN</td>\n",
       "      <td>NaN</td>\n",
       "    </tr>\n",
       "    <tr>\n",
       "      <th>4</th>\n",
       "      <td>104</td>\n",
       "      <td>24.0</td>\n",
       "      <td>19.000000</td>\n",
       "      <td>27.000000</td>\n",
       "      <td>49.285714</td>\n",
       "      <td>NaN</td>\n",
       "      <td>28.416667</td>\n",
       "      <td>42.666667</td>\n",
       "      <td>65.166667</td>\n",
       "    </tr>\n",
       "    <tr>\n",
       "      <th>...</th>\n",
       "      <td>...</td>\n",
       "      <td>...</td>\n",
       "      <td>...</td>\n",
       "      <td>...</td>\n",
       "      <td>...</td>\n",
       "      <td>...</td>\n",
       "      <td>...</td>\n",
       "      <td>...</td>\n",
       "      <td>...</td>\n",
       "    </tr>\n",
       "    <tr>\n",
       "      <th>199</th>\n",
       "      <td>191</td>\n",
       "      <td>NaN</td>\n",
       "      <td>NaN</td>\n",
       "      <td>NaN</td>\n",
       "      <td>NaN</td>\n",
       "      <td>NaN</td>\n",
       "      <td>NaN</td>\n",
       "      <td>NaN</td>\n",
       "      <td>9.583333</td>\n",
       "    </tr>\n",
       "    <tr>\n",
       "      <th>200</th>\n",
       "      <td>192</td>\n",
       "      <td>NaN</td>\n",
       "      <td>NaN</td>\n",
       "      <td>NaN</td>\n",
       "      <td>NaN</td>\n",
       "      <td>NaN</td>\n",
       "      <td>NaN</td>\n",
       "      <td>NaN</td>\n",
       "      <td>3.833333</td>\n",
       "    </tr>\n",
       "    <tr>\n",
       "      <th>201</th>\n",
       "      <td>193</td>\n",
       "      <td>NaN</td>\n",
       "      <td>NaN</td>\n",
       "      <td>NaN</td>\n",
       "      <td>NaN</td>\n",
       "      <td>NaN</td>\n",
       "      <td>NaN</td>\n",
       "      <td>NaN</td>\n",
       "      <td>7.666667</td>\n",
       "    </tr>\n",
       "    <tr>\n",
       "      <th>202</th>\n",
       "      <td>194</td>\n",
       "      <td>NaN</td>\n",
       "      <td>NaN</td>\n",
       "      <td>NaN</td>\n",
       "      <td>NaN</td>\n",
       "      <td>inf</td>\n",
       "      <td>inf</td>\n",
       "      <td>inf</td>\n",
       "      <td>5.750000</td>\n",
       "    </tr>\n",
       "    <tr>\n",
       "      <th>203</th>\n",
       "      <td>717</td>\n",
       "      <td>NaN</td>\n",
       "      <td>NaN</td>\n",
       "      <td>NaN</td>\n",
       "      <td>NaN</td>\n",
       "      <td>inf</td>\n",
       "      <td>inf</td>\n",
       "      <td>inf</td>\n",
       "      <td>inf</td>\n",
       "    </tr>\n",
       "  </tbody>\n",
       "</table>\n",
       "<p>184 rows × 9 columns</p>\n",
       "</div>"
      ],
      "text/plain": [
       "    PRIMARY_RO  am_freq_gtfs  md_freq_gtfs  pm_freq_gtfs  nt_freq_gtfs  \\\n",
       "0            1          39.0     48.000000     57.999999    129.785715   \n",
       "1           10          19.0     21.666667     19.000000     47.642857   \n",
       "2          100          15.0     19.000000     21.000000     31.214286   \n",
       "3          101          38.0     27.000000     34.000000     41.071429   \n",
       "4          104          24.0     19.000000     27.000000     49.285714   \n",
       "..         ...           ...           ...           ...           ...   \n",
       "199        191           NaN           NaN           NaN           NaN   \n",
       "200        192           NaN           NaN           NaN           NaN   \n",
       "201        193           NaN           NaN           NaN           NaN   \n",
       "202        194           NaN           NaN           NaN           NaN   \n",
       "203        717           NaN           NaN           NaN           NaN   \n",
       "\n",
       "     am_freq_2016  md_freq_2016  pm_freq_2016  nt_freq_2016  \n",
       "0       86.000004    152.166670    140.000018    391.000027  \n",
       "1             NaN           NaN           NaN           NaN  \n",
       "2             NaN           NaN           NaN     86.250000  \n",
       "3             inf           NaN           NaN           NaN  \n",
       "4             NaN     28.416667     42.666667     65.166667  \n",
       "..            ...           ...           ...           ...  \n",
       "199           NaN           NaN           NaN      9.583333  \n",
       "200           NaN           NaN           NaN      3.833333  \n",
       "201           NaN           NaN           NaN      7.666667  \n",
       "202           inf           inf           inf      5.750000  \n",
       "203           inf           inf           inf           inf  \n",
       "\n",
       "[184 rows x 9 columns]"
      ]
     },
     "execution_count": 58,
     "metadata": {},
     "output_type": "execute_result"
    }
   ],
   "source": [
    "routes_freq = gtroutes.merge(troutes, on=\"PRIMARY_RO\", suffixes = ['_gtfs','_2016'], how='outer')\n",
    "# note that 191-194 are one offs for fare collectors and 717 doesn't exist\n",
    "routes_freq.query('am_freq_gtfs != am_freq_2016')"
   ]
  },
  {
   "cell_type": "code",
   "execution_count": 59,
   "id": "5b054a80",
   "metadata": {},
   "outputs": [
    {
     "data": {
      "text/html": [
       "<div>\n",
       "<style scoped>\n",
       "    .dataframe tbody tr th:only-of-type {\n",
       "        vertical-align: middle;\n",
       "    }\n",
       "\n",
       "    .dataframe tbody tr th {\n",
       "        vertical-align: top;\n",
       "    }\n",
       "\n",
       "    .dataframe thead th {\n",
       "        text-align: right;\n",
       "    }\n",
       "</style>\n",
       "<table border=\"1\" class=\"dataframe\">\n",
       "  <thead>\n",
       "    <tr style=\"text-align: right;\">\n",
       "      <th></th>\n",
       "      <th>mode</th>\n",
       "      <th>boardings</th>\n",
       "    </tr>\n",
       "  </thead>\n",
       "  <tbody>\n",
       "    <tr>\n",
       "      <th>0</th>\n",
       "      <td>lbus</td>\n",
       "      <td>795239.655265</td>\n",
       "    </tr>\n",
       "    <tr>\n",
       "      <th>1</th>\n",
       "      <td>xbus</td>\n",
       "      <td>60572.709779</td>\n",
       "    </tr>\n",
       "    <tr>\n",
       "      <th>2</th>\n",
       "      <td>brt</td>\n",
       "      <td>22865.825656</td>\n",
       "    </tr>\n",
       "    <tr>\n",
       "      <th>3</th>\n",
       "      <td>lrt</td>\n",
       "      <td>203974.063840</td>\n",
       "    </tr>\n",
       "    <tr>\n",
       "      <th>4</th>\n",
       "      <td>hr</td>\n",
       "      <td>673660.190484</td>\n",
       "    </tr>\n",
       "    <tr>\n",
       "      <th>5</th>\n",
       "      <td>cr</td>\n",
       "      <td>158770.737147</td>\n",
       "    </tr>\n",
       "    <tr>\n",
       "      <th>6</th>\n",
       "      <td>bt</td>\n",
       "      <td>6362.680406</td>\n",
       "    </tr>\n",
       "    <tr>\n",
       "      <th>7</th>\n",
       "      <td>shtl</td>\n",
       "      <td>13740.480667</td>\n",
       "    </tr>\n",
       "    <tr>\n",
       "      <th>8</th>\n",
       "      <td>rta</td>\n",
       "      <td>181879.156621</td>\n",
       "    </tr>\n",
       "    <tr>\n",
       "      <th>9</th>\n",
       "      <td>regb</td>\n",
       "      <td>32394.289480</td>\n",
       "    </tr>\n",
       "  </tbody>\n",
       "</table>\n",
       "</div>"
      ],
      "text/plain": [
       "   mode      boardings\n",
       "0  lbus  795239.655265\n",
       "1  xbus   60572.709779\n",
       "2   brt   22865.825656\n",
       "3   lrt  203974.063840\n",
       "4    hr  673660.190484\n",
       "5    cr  158770.737147\n",
       "6    bt    6362.680406\n",
       "7  shtl   13740.480667\n",
       "8   rta  181879.156621\n",
       "9  regb   32394.289480"
      ]
     },
     "execution_count": 59,
     "metadata": {},
     "output_type": "execute_result"
    }
   ],
   "source": [
    "daily_mod.groupby('mode').sum().reset_index().sort_values(by='mode')"
   ]
  },
  {
   "attachments": {},
   "cell_type": "markdown",
   "id": "d648553d",
   "metadata": {},
   "source": [
    "## Summaries"
   ]
  },
  {
   "attachments": {},
   "cell_type": "markdown",
   "id": "050ec836",
   "metadata": {},
   "source": [
    "#### Daily transit boardings by mode (note not all modes have observations)"
   ]
  },
  {
   "cell_type": "code",
   "execution_count": 60,
   "id": "ccb43575",
   "metadata": {},
   "outputs": [
    {
     "data": {
      "text/html": [
       "<div>\n",
       "<style scoped>\n",
       "    .dataframe tbody tr th:only-of-type {\n",
       "        vertical-align: middle;\n",
       "    }\n",
       "\n",
       "    .dataframe tbody tr th {\n",
       "        vertical-align: top;\n",
       "    }\n",
       "\n",
       "    .dataframe thead th {\n",
       "        text-align: right;\n",
       "    }\n",
       "</style>\n",
       "<table border=\"1\" class=\"dataframe\">\n",
       "  <thead>\n",
       "    <tr style=\"text-align: right;\">\n",
       "      <th></th>\n",
       "      <th>mode</th>\n",
       "      <th>boardings_2016</th>\n",
       "      <th>boardings_gtfs</th>\n",
       "      <th>deltad</th>\n",
       "      <th>deltap</th>\n",
       "    </tr>\n",
       "  </thead>\n",
       "  <tbody>\n",
       "    <tr>\n",
       "      <th>0</th>\n",
       "      <td>bt</td>\n",
       "      <td>6362.680406</td>\n",
       "      <td>6693.185461</td>\n",
       "      <td>330.505055</td>\n",
       "      <td>5.194431</td>\n",
       "    </tr>\n",
       "    <tr>\n",
       "      <th>1</th>\n",
       "      <td>shtl</td>\n",
       "      <td>13740.480667</td>\n",
       "      <td>13164.989810</td>\n",
       "      <td>-575.490857</td>\n",
       "      <td>-4.188288</td>\n",
       "    </tr>\n",
       "    <tr>\n",
       "      <th>2</th>\n",
       "      <td>brt</td>\n",
       "      <td>22865.825656</td>\n",
       "      <td>28683.114228</td>\n",
       "      <td>5817.288572</td>\n",
       "      <td>25.440973</td>\n",
       "    </tr>\n",
       "    <tr>\n",
       "      <th>3</th>\n",
       "      <td>regb</td>\n",
       "      <td>32394.289480</td>\n",
       "      <td>37504.040072</td>\n",
       "      <td>5109.750592</td>\n",
       "      <td>15.773615</td>\n",
       "    </tr>\n",
       "    <tr>\n",
       "      <th>4</th>\n",
       "      <td>xbus</td>\n",
       "      <td>60572.709779</td>\n",
       "      <td>64980.068119</td>\n",
       "      <td>4407.358341</td>\n",
       "      <td>7.276145</td>\n",
       "    </tr>\n",
       "    <tr>\n",
       "      <th>5</th>\n",
       "      <td>cr</td>\n",
       "      <td>158770.737147</td>\n",
       "      <td>167299.552456</td>\n",
       "      <td>8528.815309</td>\n",
       "      <td>5.371780</td>\n",
       "    </tr>\n",
       "    <tr>\n",
       "      <th>6</th>\n",
       "      <td>rta</td>\n",
       "      <td>181879.156621</td>\n",
       "      <td>183146.597319</td>\n",
       "      <td>1267.440698</td>\n",
       "      <td>0.696859</td>\n",
       "    </tr>\n",
       "    <tr>\n",
       "      <th>7</th>\n",
       "      <td>lrt</td>\n",
       "      <td>203974.063840</td>\n",
       "      <td>229334.151693</td>\n",
       "      <td>25360.087853</td>\n",
       "      <td>12.432996</td>\n",
       "    </tr>\n",
       "    <tr>\n",
       "      <th>8</th>\n",
       "      <td>hr</td>\n",
       "      <td>673660.190484</td>\n",
       "      <td>713302.411194</td>\n",
       "      <td>39642.220710</td>\n",
       "      <td>5.884602</td>\n",
       "    </tr>\n",
       "    <tr>\n",
       "      <th>9</th>\n",
       "      <td>lbus</td>\n",
       "      <td>795239.655265</td>\n",
       "      <td>736056.652138</td>\n",
       "      <td>-59183.003127</td>\n",
       "      <td>-7.442159</td>\n",
       "    </tr>\n",
       "  </tbody>\n",
       "</table>\n",
       "</div>"
      ],
      "text/plain": [
       "   mode  boardings_2016  boardings_gtfs        deltad     deltap\n",
       "0    bt     6362.680406     6693.185461    330.505055   5.194431\n",
       "1  shtl    13740.480667    13164.989810   -575.490857  -4.188288\n",
       "2   brt    22865.825656    28683.114228   5817.288572  25.440973\n",
       "3  regb    32394.289480    37504.040072   5109.750592  15.773615\n",
       "4  xbus    60572.709779    64980.068119   4407.358341   7.276145\n",
       "5    cr   158770.737147   167299.552456   8528.815309   5.371780\n",
       "6   rta   181879.156621   183146.597319   1267.440698   0.696859\n",
       "7   lrt   203974.063840   229334.151693  25360.087853  12.432996\n",
       "8    hr   673660.190484   713302.411194  39642.220710   5.884602\n",
       "9  lbus   795239.655265   736056.652138 -59183.003127  -7.442159"
      ]
     },
     "execution_count": 60,
     "metadata": {},
     "output_type": "execute_result"
    }
   ],
   "source": [
    "mb = daily_mod.groupby('mode').sum().reset_index().sort_values(by='boardings').merge(\n",
    "    gdaily_mod.groupby('mode').sum().reset_index().sort_values(by='boardings'), on='mode', suffixes=['_2016','_gtfs'])\n",
    "mb['deltad'] = mb['boardings_gtfs'] - mb['boardings_2016']\n",
    "mb['deltap'] = mb['deltad']/mb['boardings_2016']*100\n",
    "mb"
   ]
  },
  {
   "attachments": {},
   "cell_type": "markdown",
   "id": "878d6b45",
   "metadata": {},
   "source": [
    "#### Line Level Detail Summaries BY MODE\n",
    "\n",
    "Start looking at lines within modes with big daily issues - express buses, BRT, local buses (some are very high).\n",
    "\n",
    "Silver Line 4 & 5 (749, 751) high\n"
   ]
  },
  {
   "attachments": {},
   "cell_type": "markdown",
   "id": "24ae2f01",
   "metadata": {},
   "source": [
    "##### BRT"
   ]
  },
  {
   "cell_type": "code",
   "execution_count": null,
   "id": "d75bc932",
   "metadata": {},
   "outputs": [],
   "source": [
    "# Why are Local Bus so high - is there a particular line?\n",
    "nb.compare_oneway(obsrvdf = daily_mod.query(\"mode == 'brt'\"),\n",
    "                  modeldf = gdaily_mod.query(\"mode == 'brt'\"),\n",
    "                  aggcol = 'boardings',col = 'line', aggmtd='sum')"
   ]
  },
  {
   "attachments": {},
   "cell_type": "markdown",
   "id": "af6b32a5",
   "metadata": {},
   "source": [
    "##### Express Bus"
   ]
  },
  {
   "cell_type": "code",
   "execution_count": null,
   "id": "c0176056",
   "metadata": {},
   "outputs": [],
   "source": [
    "nb.compare_oneway(obsrvdf = daily_mod.query(\"mode == 'xbus'\"),\n",
    "                  modeldf = gdaily_mod.query(\"mode == 'xbus'\"),\n",
    "                  aggcol = 'boardings',col = 'line', aggmtd='sum')"
   ]
  },
  {
   "attachments": {},
   "cell_type": "markdown",
   "id": "685d1544",
   "metadata": {},
   "source": [
    "##### Local Bus"
   ]
  },
  {
   "cell_type": "code",
   "execution_count": null,
   "id": "711ae5d8",
   "metadata": {},
   "outputs": [],
   "source": [
    "# Why are Local Bus so high - is there a particular line?\n",
    "nb.compare_oneway(obsrvdf = daily_mod.query(\"mode == 'lbus'\"),\n",
    "                  modeldf = gdaily_mod.query(\"mode == 'lbus'\"),\n",
    "                  aggcol = 'boardings',col = 'line', aggmtd='sum')"
   ]
  },
  {
   "attachments": {},
   "cell_type": "markdown",
   "id": "d145ad07",
   "metadata": {},
   "source": [
    "### Line Level Summaries - All Routes - Identify Routes with High Delta %s\n",
    "\n",
    "Export the csv \"oneway_line_boarding.csv\""
   ]
  },
  {
   "cell_type": "code",
   "execution_count": 62,
   "id": "1892460f",
   "metadata": {},
   "outputs": [
    {
     "name": "stdout",
     "output_type": "stream",
     "text": [
      "no weighted columns identified list index out of range:\n"
     ]
    },
    {
     "data": {
      "text/html": [
       "<a href=\"./outputs/oneway_line_boardings.csv\">csv file</a>"
      ],
      "text/plain": [
       "<IPython.core.display.HTML object>"
      ]
     },
     "metadata": {},
     "output_type": "display_data"
    },
    {
     "data": {
      "text/plain": [
       "(                       model    observed     deltaD  deltaP\n",
       " line                                                       \n",
       "                   233626.548  226687.828   6938.720    3.06\n",
       " 1                  31360.939   57936.502 -26575.563  -45.87\n",
       " 10                  1600.157    3693.253  -2093.096  -56.67\n",
       " 100                 1948.333    6911.258  -4962.925  -71.81\n",
       " 101                10385.871    9114.647   1271.224   13.95\n",
       " ...                      ...         ...        ...     ...\n",
       " Orange Line       277186.045  274237.255   2948.790    1.08\n",
       " Plymouth Line       3717.065    4282.894   -565.829  -13.21\n",
       " Provdn/Stou Line   25712.765   25568.925    143.840    0.56\n",
       " Red Line          331897.444  302928.029  28969.415    9.56\n",
       " Worcester Line     14468.763   15175.486   -706.723   -4.66\n",
       " \n",
       " [205 rows x 4 columns],\n",
       " array([<AxesSubplot:title={'center':'sum_boardings'}>,\n",
       "        <AxesSubplot:xlabel='line'>], dtype=object),\n",
       " 'oneway_line_boardings.csv')"
      ]
     },
     "execution_count": 62,
     "metadata": {},
     "output_type": "execute_result"
    },
    {
     "data": {
      "image/png": "[encoded data removed]",
      "text/plain": [
       "<Figure size 504x504 with 3 Axes>"
      ]
     },
     "metadata": {
      "needs_background": "light"
     },
     "output_type": "display_data"
    }
   ],
   "source": [
    "# ALL LINES\n",
    "nb.compare_oneway(obsrvdf = daily_mod,\n",
    "                  modeldf = gdaily_mod,\n",
    "                  aggcol = 'boardings',col = 'line', aggmtd='sum')"
   ]
  },
  {
   "cell_type": "code",
   "execution_count": 63,
   "id": "74ca852a",
   "metadata": {},
   "outputs": [
    {
     "data": {
      "text/html": [
       "<div>\n",
       "<style scoped>\n",
       "    .dataframe tbody tr th:only-of-type {\n",
       "        vertical-align: middle;\n",
       "    }\n",
       "\n",
       "    .dataframe tbody tr th {\n",
       "        vertical-align: top;\n",
       "    }\n",
       "\n",
       "    .dataframe thead th {\n",
       "        text-align: right;\n",
       "    }\n",
       "</style>\n",
       "<table border=\"1\" class=\"dataframe\">\n",
       "  <thead>\n",
       "    <tr style=\"text-align: right;\">\n",
       "      <th></th>\n",
       "      <th>line</th>\n",
       "      <th>gtfs</th>\n",
       "      <th>2016</th>\n",
       "      <th>deltaD</th>\n",
       "      <th>deltaP</th>\n",
       "      <th>abs_deltaP</th>\n",
       "    </tr>\n",
       "  </thead>\n",
       "  <tbody>\n",
       "    <tr>\n",
       "      <th>41</th>\n",
       "      <td>211</td>\n",
       "      <td>2019.762</td>\n",
       "      <td>24.612</td>\n",
       "      <td>1995.150</td>\n",
       "      <td>8106.41</td>\n",
       "      <td>8106.41</td>\n",
       "    </tr>\n",
       "    <tr>\n",
       "      <th>95</th>\n",
       "      <td>435</td>\n",
       "      <td>2666.622</td>\n",
       "      <td>104.805</td>\n",
       "      <td>2561.817</td>\n",
       "      <td>2444.37</td>\n",
       "      <td>2444.37</td>\n",
       "    </tr>\n",
       "    <tr>\n",
       "      <th>110</th>\n",
       "      <td>465</td>\n",
       "      <td>1761.926</td>\n",
       "      <td>93.991</td>\n",
       "      <td>1667.935</td>\n",
       "      <td>1774.57</td>\n",
       "      <td>1774.57</td>\n",
       "    </tr>\n",
       "    <tr>\n",
       "      <th>97</th>\n",
       "      <td>439</td>\n",
       "      <td>820.208</td>\n",
       "      <td>61.855</td>\n",
       "      <td>758.353</td>\n",
       "      <td>1226.02</td>\n",
       "      <td>1226.02</td>\n",
       "    </tr>\n",
       "    <tr>\n",
       "      <th>18</th>\n",
       "      <td>120</td>\n",
       "      <td>395.325</td>\n",
       "      <td>33.521</td>\n",
       "      <td>361.804</td>\n",
       "      <td>1079.34</td>\n",
       "      <td>1079.34</td>\n",
       "    </tr>\n",
       "    <tr>\n",
       "      <th>...</th>\n",
       "      <td>...</td>\n",
       "      <td>...</td>\n",
       "      <td>...</td>\n",
       "      <td>...</td>\n",
       "      <td>...</td>\n",
       "      <td>...</td>\n",
       "    </tr>\n",
       "    <tr>\n",
       "      <th>120</th>\n",
       "      <td>52</td>\n",
       "      <td>2557.273</td>\n",
       "      <td>1676.188</td>\n",
       "      <td>881.085</td>\n",
       "      <td>52.56</td>\n",
       "      <td>52.56</td>\n",
       "    </tr>\n",
       "    <tr>\n",
       "      <th>81</th>\n",
       "      <td>39</td>\n",
       "      <td>16762.317</td>\n",
       "      <td>34854.241</td>\n",
       "      <td>-18091.924</td>\n",
       "      <td>-51.91</td>\n",
       "      <td>51.91</td>\n",
       "    </tr>\n",
       "    <tr>\n",
       "      <th>99</th>\n",
       "      <td>441</td>\n",
       "      <td>4771.472</td>\n",
       "      <td>3149.161</td>\n",
       "      <td>1622.311</td>\n",
       "      <td>51.52</td>\n",
       "      <td>51.52</td>\n",
       "    </tr>\n",
       "    <tr>\n",
       "      <th>126</th>\n",
       "      <td>57</td>\n",
       "      <td>14378.523</td>\n",
       "      <td>29257.727</td>\n",
       "      <td>-14879.204</td>\n",
       "      <td>-50.86</td>\n",
       "      <td>50.86</td>\n",
       "    </tr>\n",
       "    <tr>\n",
       "      <th>157</th>\n",
       "      <td>749</td>\n",
       "      <td>9366.287</td>\n",
       "      <td>6241.037</td>\n",
       "      <td>3125.250</td>\n",
       "      <td>50.08</td>\n",
       "      <td>50.08</td>\n",
       "    </tr>\n",
       "  </tbody>\n",
       "</table>\n",
       "<p>68 rows × 6 columns</p>\n",
       "</div>"
      ],
      "text/plain": [
       "    line       gtfs       2016     deltaD   deltaP  abs_deltaP\n",
       "41   211   2019.762     24.612   1995.150  8106.41     8106.41\n",
       "95   435   2666.622    104.805   2561.817  2444.37     2444.37\n",
       "110  465   1761.926     93.991   1667.935  1774.57     1774.57\n",
       "97   439    820.208     61.855    758.353  1226.02     1226.02\n",
       "18   120    395.325     33.521    361.804  1079.34     1079.34\n",
       "..   ...        ...        ...        ...      ...         ...\n",
       "120   52   2557.273   1676.188    881.085    52.56       52.56\n",
       "81    39  16762.317  34854.241 -18091.924   -51.91       51.91\n",
       "99   441   4771.472   3149.161   1622.311    51.52       51.52\n",
       "126   57  14378.523  29257.727 -14879.204   -50.86       50.86\n",
       "157  749   9366.287   6241.037   3125.250    50.08       50.08\n",
       "\n",
       "[68 rows x 6 columns]"
      ]
     },
     "execution_count": 63,
     "metadata": {},
     "output_type": "execute_result"
    }
   ],
   "source": [
    "inf = np.inf\n",
    "line_boardings = pd.read_csv('.\\outputs\\oneway_line_boardings.csv').query('abs(deltaP) > 50 & abs(deltaP) < @inf')\n",
    "line_boardings = line_boardings.rename(columns={'model':'gtfs', 'observed':'2016'})\n",
    "line_boardings['abs_deltaP'] = abs(line_boardings['deltaP'])\n",
    "problem_lines = line_boardings.line.to_list()\n",
    "line_boardings.sort_values(by='abs_deltaP', ascending=False)\n"
   ]
  },
  {
   "cell_type": "code",
   "execution_count": 68,
   "id": "e263b8af",
   "metadata": {},
   "outputs": [],
   "source": [
    "line_boardings.to_csv('./outputs/high_deltaP_lines.csv')"
   ]
  },
  {
   "attachments": {},
   "cell_type": "markdown",
   "id": "9c95d60c",
   "metadata": {},
   "source": [
    "##### Check 1.5 - look into routes where GTFS ridership == 0 but there was ridership in 2016"
   ]
  },
  {
   "cell_type": "code",
   "execution_count": null,
   "id": "2d641c6b",
   "metadata": {},
   "outputs": [],
   "source": [
    "line_ridership = pd.read_csv('.\\outputs\\oneway_line_boardings.csv').rename(columns={'model':'gtfs', 'observed':'2016'})\n",
    "line_ridership.query('gtfs ==0')"
   ]
  },
  {
   "attachments": {},
   "cell_type": "markdown",
   "id": "d1b37104",
   "metadata": {},
   "source": [
    "### Boardings by Time of Day - Look at Specific Routes"
   ]
  },
  {
   "cell_type": "code",
   "execution_count": 69,
   "id": "6301578e",
   "metadata": {},
   "outputs": [],
   "source": [
    "chocula = 0\n",
    "for x in problem_lines:\n",
    "    todb = trn.mod_df.query(\n",
    "        'line == @ x'\n",
    "        ).groupby(['line','tod']).sum().reset_index().sort_values(by='boardings').merge(\n",
    "            gtrn.mod_df.query(\n",
    "                'line == @ x'\n",
    "                ).groupby(['line','tod']).sum().reset_index().sort_values(by='boardings'), \n",
    "            on=['line','tod'], suffixes=['_2016','_gtfs']\n",
    "            )\n",
    "    todb['deltad'] = todb['boardings_gtfs'] - todb['boardings_2016']\n",
    "    todb['deltap'] = todb['deltad']/todb['boardings_2016']*100\n",
    "    if chocula == 0:\n",
    "        otter = todb\n",
    "    else:\n",
    "        otter = otter.append(todb)\n",
    "    chocula += 1\n"
   ]
  },
  {
   "cell_type": "code",
   "execution_count": 70,
   "id": "a5ccedd7",
   "metadata": {},
   "outputs": [],
   "source": [
    "otter.to_csv('./outputs/problem_lines_tod.csv')"
   ]
  },
  {
   "attachments": {},
   "cell_type": "markdown",
   "id": "c5664ee9",
   "metadata": {},
   "source": [
    "### For ever Problematic Route - look at these:\n",
    "1. Route Daily Ridership (really for identifying problematic routes)\n",
    "2. Route TOD Ridership\n",
    "3. Route Frequency (TOD)\n",
    "4. Stop Ridership\n",
    "\n",
    "    1. Same number of STOPS?\n",
    "    2. Same stops being used?\n",
    "    3. A lot of 0's?\n",
    "    4. A lot of suspiciously high numbers?"
   ]
  },
  {
   "attachments": {},
   "cell_type": "markdown",
   "id": "05fdd3e0",
   "metadata": {},
   "source": [
    "2. Route TOD Ridership"
   ]
  },
  {
   "cell_type": "code",
   "execution_count": 131,
   "id": "bf70aeaf",
   "metadata": {},
   "outputs": [],
   "source": [
    "r = \"37\""
   ]
  },
  {
   "cell_type": "code",
   "execution_count": 132,
   "id": "12085302",
   "metadata": {},
   "outputs": [
    {
     "name": "stdout",
     "output_type": "stream",
     "text": [
      "no weighted columns identified list index out of range:\n"
     ]
    },
    {
     "data": {
      "text/html": [
       "<a href=\"./outputs/oneway_tod_boardings.csv\">csv file</a>"
      ],
      "text/plain": [
       "<IPython.core.display.HTML object>"
      ]
     },
     "metadata": {},
     "output_type": "display_data"
    },
    {
     "data": {
      "text/plain": [
       "(          model  observed    deltaD  deltaP\n",
       " tod                                        \n",
       " am      860.576   181.214   679.362  374.89\n",
       " md     1251.706   383.648   868.058  226.26\n",
       " pm     1604.064   464.089  1139.975  245.64\n",
       " nt      225.225   110.777   114.448  103.31\n",
       " daily  3941.572  1139.728  2801.844  245.83,\n",
       " array([<AxesSubplot:title={'center':'sum_boardings'}>,\n",
       "        <AxesSubplot:xlabel='tod'>], dtype=object),\n",
       " 'oneway_tod_boardings.csv')"
      ]
     },
     "execution_count": 132,
     "metadata": {},
     "output_type": "execute_result"
    },
    {
     "data": {
      "image/png": "[encoded data removed]",
      "text/plain": [
       "<Figure size 504x504 with 3 Axes>"
      ]
     },
     "metadata": {
      "needs_background": "light"
     },
     "output_type": "display_data"
    }
   ],
   "source": [
    "nb.compare_oneway(obsrvdf = trn.mod_df.query('line == @r'),\n",
    "                  modeldf = gtrn.mod_df.query('line == @r'),\n",
    "                  aggcol = 'boardings',col = 'tod', aggmtd='sum')"
   ]
  },
  {
   "attachments": {},
   "cell_type": "markdown",
   "id": "f8b323c9",
   "metadata": {},
   "source": [
    "3. Route Frequency (TOD)"
   ]
  },
  {
   "cell_type": "code",
   "execution_count": 133,
   "id": "0cc4ab93",
   "metadata": {},
   "outputs": [
    {
     "data": {
      "text/html": [
       "<div>\n",
       "<style scoped>\n",
       "    .dataframe tbody tr th:only-of-type {\n",
       "        vertical-align: middle;\n",
       "    }\n",
       "\n",
       "    .dataframe tbody tr th {\n",
       "        vertical-align: top;\n",
       "    }\n",
       "\n",
       "    .dataframe thead th {\n",
       "        text-align: right;\n",
       "    }\n",
       "</style>\n",
       "<table border=\"1\" class=\"dataframe\">\n",
       "  <thead>\n",
       "    <tr style=\"text-align: right;\">\n",
       "      <th></th>\n",
       "      <th>PRIMARY_RO</th>\n",
       "      <th>am_freq_gtfs</th>\n",
       "      <th>md_freq_gtfs</th>\n",
       "      <th>pm_freq_gtfs</th>\n",
       "      <th>nt_freq_gtfs</th>\n",
       "      <th>am_freq_2016</th>\n",
       "      <th>md_freq_2016</th>\n",
       "      <th>pm_freq_2016</th>\n",
       "      <th>nt_freq_2016</th>\n",
       "    </tr>\n",
       "  </thead>\n",
       "  <tbody>\n",
       "    <tr>\n",
       "      <th>72</th>\n",
       "      <td>37</td>\n",
       "      <td>18.0</td>\n",
       "      <td>19.666667</td>\n",
       "      <td>29.0</td>\n",
       "      <td>15.880952</td>\n",
       "      <td>NaN</td>\n",
       "      <td>NaN</td>\n",
       "      <td>NaN</td>\n",
       "      <td>NaN</td>\n",
       "    </tr>\n",
       "  </tbody>\n",
       "</table>\n",
       "</div>"
      ],
      "text/plain": [
       "   PRIMARY_RO  am_freq_gtfs  md_freq_gtfs  pm_freq_gtfs  nt_freq_gtfs  \\\n",
       "72         37          18.0     19.666667          29.0     15.880952   \n",
       "\n",
       "    am_freq_2016  md_freq_2016  pm_freq_2016  nt_freq_2016  \n",
       "72           NaN           NaN           NaN           NaN  "
      ]
     },
     "execution_count": 133,
     "metadata": {},
     "output_type": "execute_result"
    }
   ],
   "source": [
    "routes_freq.query('PRIMARY_RO == @r')"
   ]
  },
  {
   "attachments": {},
   "cell_type": "markdown",
   "id": "ec3f2773",
   "metadata": {},
   "source": [
    "4. Station Level Summaries - Look at Particular Routes Ridership at Stop Level"
   ]
  },
  {
   "cell_type": "code",
   "execution_count": 134,
   "id": "ba576091",
   "metadata": {},
   "outputs": [
    {
     "name": "stdout",
     "output_type": "stream",
     "text": [
      "no weighted columns identified list index out of range:\n"
     ]
    },
    {
     "data": {
      "text/html": [
       "<a href=\"./outputs/oneway_stop_boardings.csv\">csv file</a>"
      ],
      "text/plain": [
       "<IPython.core.display.HTML object>"
      ]
     },
     "metadata": {},
     "output_type": "display_data"
    },
    {
     "data": {
      "text/plain": [
       "(                                      model  observed  deltaD  deltaP\n",
       " stop                                                                 \n",
       " 277 Belgrade Ave opp Rexhame St      22.020     0.000  22.020     inf\n",
       " 3867 Washington St opp Tollgate Way   1.992     0.000   1.992     inf\n",
       " 83 Lasell St opp Atlantis St          4.136     0.000   4.136     inf\n",
       " BAKER STREET @ LASELL STREET          0.000    12.309 -12.309  -100.0\n",
       " BAKER STREET @ VERMONT STREET         0.000     0.000   0.000     NaN\n",
       " ...                                     ...       ...     ...     ...\n",
       " Washington St @ Mosgrove Ave          1.614     0.000   1.614     inf\n",
       " Washington St @ South St              2.222     0.000   2.222     inf\n",
       " Washington St @ Tollgate Way          0.000     0.000   0.000     NaN\n",
       " Washington St @ Whipple Ave           0.003     0.000   0.003     inf\n",
       " Washington St opp Granfield Ave      18.890     0.000  18.890     inf\n",
       " \n",
       " [86 rows x 4 columns],\n",
       " array([<AxesSubplot:title={'center':'sum_boardings'}>,\n",
       "        <AxesSubplot:xlabel='stop'>], dtype=object),\n",
       " 'oneway_stop_boardings.csv')"
      ]
     },
     "execution_count": 134,
     "metadata": {},
     "output_type": "execute_result"
    },
    {
     "data": {
      "image/png": "[encoded data removed]",
      "text/plain": [
       "<Figure size 504x504 with 3 Axes>"
      ]
     },
     "metadata": {
      "needs_background": "light"
     },
     "output_type": "display_data"
    }
   ],
   "source": [
    "line = r\n",
    "tod = 'daily'\n",
    "\n",
    "nb.compare_oneway(obsrvdf = trn.mod_df.query(\"line == '{line}' & tod == '{tod}'\".format(line=line,tod=tod)),\n",
    "                  modeldf = gtrn.mod_df.query(\"line == '{line}' & tod == '{tod}'\".format(line=line,tod=tod)),\n",
    "                  aggcol = 'boardings',col = 'stop', aggmtd='sum')"
   ]
  },
  {
   "attachments": {},
   "cell_type": "markdown",
   "id": "f08d435c",
   "metadata": {},
   "source": [
    "If Daily is not enough, look at TOD"
   ]
  },
  {
   "cell_type": "code",
   "execution_count": 135,
   "id": "d56e779c",
   "metadata": {},
   "outputs": [
    {
     "name": "stdout",
     "output_type": "stream",
     "text": [
      "no weighted columns identified list index out of range:\n"
     ]
    },
    {
     "data": {
      "text/html": [
       "<a href=\"./outputs/oneway_stop_boardings.csv\">csv file</a>"
      ],
      "text/plain": [
       "<IPython.core.display.HTML object>"
      ]
     },
     "metadata": {},
     "output_type": "display_data"
    },
    {
     "data": {
      "text/plain": [
       "(                                     model  observed  deltaD  deltaP\n",
       " stop                                                                \n",
       " 277 Belgrade Ave opp Rexhame St      3.657     0.000   3.657     inf\n",
       " 3867 Washington St opp Tollgate Way  0.146     0.000   0.146     inf\n",
       " 83 Lasell St opp Atlantis St         1.245     0.000   1.245     inf\n",
       " BAKER STREET @ LASELL STREET         0.000     1.292  -1.292  -100.0\n",
       " BAKER STREET @ VERMONT STREET        0.000     0.000   0.000     NaN\n",
       " ...                                    ...       ...     ...     ...\n",
       " Washington St @ Mosgrove Ave         0.000     0.000   0.000     NaN\n",
       " Washington St @ South St             0.065     0.000   0.065     inf\n",
       " Washington St @ Tollgate Way         0.000     0.000   0.000     NaN\n",
       " Washington St @ Whipple Ave          0.000     0.000   0.000     NaN\n",
       " Washington St opp Granfield Ave      5.136     0.000   5.136     inf\n",
       " \n",
       " [86 rows x 4 columns],\n",
       " array([<AxesSubplot:title={'center':'sum_boardings'}>,\n",
       "        <AxesSubplot:xlabel='stop'>], dtype=object),\n",
       " 'oneway_stop_boardings.csv')"
      ]
     },
     "execution_count": 135,
     "metadata": {},
     "output_type": "execute_result"
    },
    {
     "data": {
      "image/png": "[encoded data removed]",
      "text/plain": [
       "<Figure size 504x504 with 3 Axes>"
      ]
     },
     "metadata": {
      "needs_background": "light"
     },
     "output_type": "display_data"
    }
   ],
   "source": [
    "line = r\n",
    "tod = 'am'\n",
    "\n",
    "nb.compare_oneway(obsrvdf = trn.mod_df.query(\"line == '{line}' & tod == '{tod}'\".format(line=line,tod=tod)),\n",
    "                  modeldf = gtrn.mod_df.query(\"line == '{line}' & tod == '{tod}'\".format(line=line,tod=tod)),\n",
    "                  aggcol = 'boardings',col = 'stop', aggmtd='sum')"
   ]
  },
  {
   "attachments": {},
   "cell_type": "markdown",
   "id": "9804c075",
   "metadata": {},
   "source": [
    "### STOPS TOP 50"
   ]
  },
  {
   "cell_type": "code",
   "execution_count": 85,
   "id": "8deb916c",
   "metadata": {},
   "outputs": [
    {
     "data": {
      "text/html": [
       "<div>\n",
       "<style scoped>\n",
       "    .dataframe tbody tr th:only-of-type {\n",
       "        vertical-align: middle;\n",
       "    }\n",
       "\n",
       "    .dataframe tbody tr th {\n",
       "        vertical-align: top;\n",
       "    }\n",
       "\n",
       "    .dataframe thead th {\n",
       "        text-align: right;\n",
       "    }\n",
       "</style>\n",
       "<table border=\"1\" class=\"dataframe\">\n",
       "  <thead>\n",
       "    <tr style=\"text-align: right;\">\n",
       "      <th></th>\n",
       "      <th>mode</th>\n",
       "      <th>operator</th>\n",
       "      <th>line</th>\n",
       "      <th>stop</th>\n",
       "      <th>tod</th>\n",
       "      <th>boardings</th>\n",
       "    </tr>\n",
       "  </thead>\n",
       "  <tbody>\n",
       "    <tr>\n",
       "      <th>0</th>\n",
       "      <td>lbus</td>\n",
       "      <td></td>\n",
       "      <td></td>\n",
       "      <td></td>\n",
       "      <td>daily</td>\n",
       "      <td>0.000000</td>\n",
       "    </tr>\n",
       "    <tr>\n",
       "      <th>1</th>\n",
       "      <td>lbus</td>\n",
       "      <td></td>\n",
       "      <td></td>\n",
       "      <td></td>\n",
       "      <td>am</td>\n",
       "      <td>0.000000</td>\n",
       "    </tr>\n",
       "    <tr>\n",
       "      <th>2</th>\n",
       "      <td>lbus</td>\n",
       "      <td></td>\n",
       "      <td></td>\n",
       "      <td></td>\n",
       "      <td>md</td>\n",
       "      <td>0.000000</td>\n",
       "    </tr>\n",
       "    <tr>\n",
       "      <th>3</th>\n",
       "      <td>lbus</td>\n",
       "      <td></td>\n",
       "      <td></td>\n",
       "      <td></td>\n",
       "      <td>pm</td>\n",
       "      <td>0.000000</td>\n",
       "    </tr>\n",
       "    <tr>\n",
       "      <th>4</th>\n",
       "      <td>lbus</td>\n",
       "      <td></td>\n",
       "      <td></td>\n",
       "      <td></td>\n",
       "      <td>nt</td>\n",
       "      <td>0.000000</td>\n",
       "    </tr>\n",
       "    <tr>\n",
       "      <th>...</th>\n",
       "      <td>...</td>\n",
       "      <td>...</td>\n",
       "      <td>...</td>\n",
       "      <td>...</td>\n",
       "      <td>...</td>\n",
       "      <td>...</td>\n",
       "    </tr>\n",
       "    <tr>\n",
       "      <th>38985</th>\n",
       "      <td>regb</td>\n",
       "      <td>Massport</td>\n",
       "      <td>Logan_Express_Bus</td>\n",
       "      <td>RING ROAD</td>\n",
       "      <td>daily</td>\n",
       "      <td>352.083063</td>\n",
       "    </tr>\n",
       "    <tr>\n",
       "      <th>38986</th>\n",
       "      <td>regb</td>\n",
       "      <td>Massport</td>\n",
       "      <td>Logan_Express_Bus</td>\n",
       "      <td>RING ROAD</td>\n",
       "      <td>am</td>\n",
       "      <td>59.672003</td>\n",
       "    </tr>\n",
       "    <tr>\n",
       "      <th>38987</th>\n",
       "      <td>regb</td>\n",
       "      <td>Massport</td>\n",
       "      <td>Logan_Express_Bus</td>\n",
       "      <td>RING ROAD</td>\n",
       "      <td>md</td>\n",
       "      <td>132.688640</td>\n",
       "    </tr>\n",
       "    <tr>\n",
       "      <th>38988</th>\n",
       "      <td>regb</td>\n",
       "      <td>Massport</td>\n",
       "      <td>Logan_Express_Bus</td>\n",
       "      <td>RING ROAD</td>\n",
       "      <td>pm</td>\n",
       "      <td>88.408600</td>\n",
       "    </tr>\n",
       "    <tr>\n",
       "      <th>38989</th>\n",
       "      <td>regb</td>\n",
       "      <td>Massport</td>\n",
       "      <td>Logan_Express_Bus</td>\n",
       "      <td>RING ROAD</td>\n",
       "      <td>nt</td>\n",
       "      <td>71.313820</td>\n",
       "    </tr>\n",
       "  </tbody>\n",
       "</table>\n",
       "<p>38990 rows × 6 columns</p>\n",
       "</div>"
      ],
      "text/plain": [
       "       mode  operator               line       stop    tod   boardings\n",
       "0      lbus                                          daily    0.000000\n",
       "1      lbus                                             am    0.000000\n",
       "2      lbus                                             md    0.000000\n",
       "3      lbus                                             pm    0.000000\n",
       "4      lbus                                             nt    0.000000\n",
       "...     ...       ...                ...        ...    ...         ...\n",
       "38985  regb  Massport  Logan_Express_Bus  RING ROAD  daily  352.083063\n",
       "38986  regb  Massport  Logan_Express_Bus  RING ROAD     am   59.672003\n",
       "38987  regb  Massport  Logan_Express_Bus  RING ROAD     md  132.688640\n",
       "38988  regb  Massport  Logan_Express_Bus  RING ROAD     pm   88.408600\n",
       "38989  regb  Massport  Logan_Express_Bus  RING ROAD     nt   71.313820\n",
       "\n",
       "[38990 rows x 6 columns]"
      ]
     },
     "execution_count": 85,
     "metadata": {},
     "output_type": "execute_result"
    }
   ],
   "source": [
    "trn.mod_df"
   ]
  },
  {
   "cell_type": "code",
   "execution_count": 89,
   "id": "0247124b",
   "metadata": {},
   "outputs": [],
   "source": [
    "gstops = gtrn.mod_df.query('tod == \"daily\"').groupby(['stop']).agg({'boardings':'sum'})\n",
    "stops = trn.mod_df.query('tod == \"daily\"').groupby(['stop']).agg({'boardings':'sum'})\n",
    "top_stops_gtfs = gstops.nlargest(50, 'boardings')\n",
    "top_stops_2016 =stops.nlargest(50, 'boardings')\n",
    "\n",
    "# just local bus\n",
    "gstops = gtrn.mod_df.query('tod == \"daily\" & mode == \"lbus\"').groupby(['stop']).agg({'boardings':'sum'})\n",
    "stops = trn.mod_df.query('tod == \"daily\" & mode == \"lbus\"').groupby(['stop']).agg({'boardings':'sum'})\n",
    "top_stops_gtfs_lbus = gstops.nlargest(50, 'boardings')\n",
    "top_stops_2016_lbus =stops.nlargest(50, 'boardings')"
   ]
  },
  {
   "cell_type": "code",
   "execution_count": 90,
   "id": "2aafdeaf",
   "metadata": {},
   "outputs": [
    {
     "data": {
      "text/html": [
       "<div>\n",
       "<style scoped>\n",
       "    .dataframe tbody tr th:only-of-type {\n",
       "        vertical-align: middle;\n",
       "    }\n",
       "\n",
       "    .dataframe tbody tr th {\n",
       "        vertical-align: top;\n",
       "    }\n",
       "\n",
       "    .dataframe thead th {\n",
       "        text-align: right;\n",
       "    }\n",
       "</style>\n",
       "<table border=\"1\" class=\"dataframe\">\n",
       "  <thead>\n",
       "    <tr style=\"text-align: right;\">\n",
       "      <th></th>\n",
       "      <th>stop</th>\n",
       "      <th>boardings_gtfs</th>\n",
       "      <th>boardings_2016</th>\n",
       "    </tr>\n",
       "  </thead>\n",
       "  <tbody>\n",
       "    <tr>\n",
       "      <th>0</th>\n",
       "      <td>DOWNTOWN CROSSING</td>\n",
       "      <td>74172.910037</td>\n",
       "      <td>68149.679670</td>\n",
       "    </tr>\n",
       "    <tr>\n",
       "      <th>1</th>\n",
       "      <td>PARK STREET</td>\n",
       "      <td>72109.356943</td>\n",
       "      <td>58526.444222</td>\n",
       "    </tr>\n",
       "    <tr>\n",
       "      <th>2</th>\n",
       "      <td>STATE STREET</td>\n",
       "      <td>53900.598972</td>\n",
       "      <td>51614.165987</td>\n",
       "    </tr>\n",
       "    <tr>\n",
       "      <th>3</th>\n",
       "      <td>Moody St @ Main St</td>\n",
       "      <td>51159.947222</td>\n",
       "      <td>NaN</td>\n",
       "    </tr>\n",
       "    <tr>\n",
       "      <th>4</th>\n",
       "      <td>SOUTH STATION</td>\n",
       "      <td>33913.042372</td>\n",
       "      <td>32955.289754</td>\n",
       "    </tr>\n",
       "    <tr>\n",
       "      <th>...</th>\n",
       "      <td>...</td>\n",
       "      <td>...</td>\n",
       "      <td>...</td>\n",
       "    </tr>\n",
       "    <tr>\n",
       "      <th>57</th>\n",
       "      <td>WELLINGTON</td>\n",
       "      <td>NaN</td>\n",
       "      <td>11723.136719</td>\n",
       "    </tr>\n",
       "    <tr>\n",
       "      <th>58</th>\n",
       "      <td>MAIN STREET @ ESSEX STREET</td>\n",
       "      <td>NaN</td>\n",
       "      <td>9949.203915</td>\n",
       "    </tr>\n",
       "    <tr>\n",
       "      <th>59</th>\n",
       "      <td>MAIN STREET @ centriod/other</td>\n",
       "      <td>NaN</td>\n",
       "      <td>9820.715720</td>\n",
       "    </tr>\n",
       "    <tr>\n",
       "      <th>60</th>\n",
       "      <td>MASSACHUSETTS AVENUE @ NEWBURY STREET</td>\n",
       "      <td>NaN</td>\n",
       "      <td>9129.555699</td>\n",
       "    </tr>\n",
       "    <tr>\n",
       "      <th>61</th>\n",
       "      <td>MASSACHUSETTS AVENUE @ PROSPECT STREET</td>\n",
       "      <td>NaN</td>\n",
       "      <td>8467.791760</td>\n",
       "    </tr>\n",
       "  </tbody>\n",
       "</table>\n",
       "<p>62 rows × 3 columns</p>\n",
       "</div>"
      ],
      "text/plain": [
       "                                      stop  boardings_gtfs  boardings_2016\n",
       "0                        DOWNTOWN CROSSING    74172.910037    68149.679670\n",
       "1                              PARK STREET    72109.356943    58526.444222\n",
       "2                             STATE STREET    53900.598972    51614.165987\n",
       "3                       Moody St @ Main St    51159.947222             NaN\n",
       "4                            SOUTH STATION    33913.042372    32955.289754\n",
       "..                                     ...             ...             ...\n",
       "57                              WELLINGTON             NaN    11723.136719\n",
       "58              MAIN STREET @ ESSEX STREET             NaN     9949.203915\n",
       "59            MAIN STREET @ centriod/other             NaN     9820.715720\n",
       "60   MASSACHUSETTS AVENUE @ NEWBURY STREET             NaN     9129.555699\n",
       "61  MASSACHUSETTS AVENUE @ PROSPECT STREET             NaN     8467.791760\n",
       "\n",
       "[62 rows x 3 columns]"
      ]
     },
     "execution_count": 90,
     "metadata": {},
     "output_type": "execute_result"
    }
   ],
   "source": [
    "top_stops_gtfs.reset_index().merge(top_stops_2016.reset_index(), how='outer', on='stop', suffixes=['_gtfs','_2016'])"
   ]
  },
  {
   "cell_type": "code",
   "execution_count": 91,
   "id": "3a942965",
   "metadata": {},
   "outputs": [
    {
     "data": {
      "text/html": [
       "<div>\n",
       "<style scoped>\n",
       "    .dataframe tbody tr th:only-of-type {\n",
       "        vertical-align: middle;\n",
       "    }\n",
       "\n",
       "    .dataframe tbody tr th {\n",
       "        vertical-align: top;\n",
       "    }\n",
       "\n",
       "    .dataframe thead th {\n",
       "        text-align: right;\n",
       "    }\n",
       "</style>\n",
       "<table border=\"1\" class=\"dataframe\">\n",
       "  <thead>\n",
       "    <tr style=\"text-align: right;\">\n",
       "      <th></th>\n",
       "      <th>stop</th>\n",
       "      <th>boardings_gtfs</th>\n",
       "      <th>boardings_2016</th>\n",
       "    </tr>\n",
       "  </thead>\n",
       "  <tbody>\n",
       "    <tr>\n",
       "      <th>0</th>\n",
       "      <td>Moody St @ Main St</td>\n",
       "      <td>51159.947222</td>\n",
       "      <td>NaN</td>\n",
       "    </tr>\n",
       "    <tr>\n",
       "      <th>1</th>\n",
       "      <td>Forest Hills</td>\n",
       "      <td>31549.088344</td>\n",
       "      <td>NaN</td>\n",
       "    </tr>\n",
       "    <tr>\n",
       "      <th>2</th>\n",
       "      <td>Western Ave @ Green St</td>\n",
       "      <td>24630.840648</td>\n",
       "      <td>NaN</td>\n",
       "    </tr>\n",
       "    <tr>\n",
       "      <th>3</th>\n",
       "      <td>Franklin St @ Sidney St</td>\n",
       "      <td>23492.508360</td>\n",
       "      <td>NaN</td>\n",
       "    </tr>\n",
       "    <tr>\n",
       "      <th>4</th>\n",
       "      <td>Harvard</td>\n",
       "      <td>13706.200071</td>\n",
       "      <td>NaN</td>\n",
       "    </tr>\n",
       "    <tr>\n",
       "      <th>...</th>\n",
       "      <td>...</td>\n",
       "      <td>...</td>\n",
       "      <td>...</td>\n",
       "    </tr>\n",
       "    <tr>\n",
       "      <th>89</th>\n",
       "      <td>COLUMBUS AVENUE @ CENTRE STREET</td>\n",
       "      <td>NaN</td>\n",
       "      <td>3336.859372</td>\n",
       "    </tr>\n",
       "    <tr>\n",
       "      <th>90</th>\n",
       "      <td>CENTRE STREET @ mid-block</td>\n",
       "      <td>NaN</td>\n",
       "      <td>3217.467828</td>\n",
       "    </tr>\n",
       "    <tr>\n",
       "      <th>91</th>\n",
       "      <td>SAINT JAMES AVENUE @ DARTMOUTH STREET</td>\n",
       "      <td>NaN</td>\n",
       "      <td>2854.406676</td>\n",
       "    </tr>\n",
       "    <tr>\n",
       "      <th>92</th>\n",
       "      <td>HAMPSHIRE STREET @ INMAN STREET</td>\n",
       "      <td>NaN</td>\n",
       "      <td>2804.806422</td>\n",
       "    </tr>\n",
       "    <tr>\n",
       "      <th>93</th>\n",
       "      <td>HUNTINGTON AVENUE @ PARKER HILL AVENUE</td>\n",
       "      <td>NaN</td>\n",
       "      <td>2683.484452</td>\n",
       "    </tr>\n",
       "  </tbody>\n",
       "</table>\n",
       "<p>94 rows × 3 columns</p>\n",
       "</div>"
      ],
      "text/plain": [
       "                                      stop  boardings_gtfs  boardings_2016\n",
       "0                       Moody St @ Main St    51159.947222             NaN\n",
       "1                             Forest Hills    31549.088344             NaN\n",
       "2                   Western Ave @ Green St    24630.840648             NaN\n",
       "3                  Franklin St @ Sidney St    23492.508360             NaN\n",
       "4                                  Harvard    13706.200071             NaN\n",
       "..                                     ...             ...             ...\n",
       "89         COLUMBUS AVENUE @ CENTRE STREET             NaN     3336.859372\n",
       "90               CENTRE STREET @ mid-block             NaN     3217.467828\n",
       "91   SAINT JAMES AVENUE @ DARTMOUTH STREET             NaN     2854.406676\n",
       "92         HAMPSHIRE STREET @ INMAN STREET             NaN     2804.806422\n",
       "93  HUNTINGTON AVENUE @ PARKER HILL AVENUE             NaN     2683.484452\n",
       "\n",
       "[94 rows x 3 columns]"
      ]
     },
     "execution_count": 91,
     "metadata": {},
     "output_type": "execute_result"
    }
   ],
   "source": [
    "top_stops_gtfs_lbus.reset_index().merge(top_stops_2016_lbus.reset_index(), how='outer', on='stop', suffixes=['_gtfs','_2016'])"
   ]
  },
  {
   "attachments": {},
   "cell_type": "markdown",
   "id": "db6b4fcf",
   "metadata": {},
   "source": [
    "Look at Stop locations where only in one top 50 column - see if overlaps with another stop in the other top 50 column"
   ]
  },
  {
   "attachments": {},
   "cell_type": "markdown",
   "id": "f74a0f25",
   "metadata": {},
   "source": [
    "## EXTRAS"
   ]
  },
  {
   "cell_type": "code",
   "execution_count": null,
   "id": "0d06089f",
   "metadata": {},
   "outputs": [],
   "source": [
    "trn.mod_df.to_csv('./outputs/o2016_mod_df.csv')\n",
    "gtrn.mod_df.to_csv('./outputs/gtfs_mod_df.csv')"
   ]
  },
  {
   "attachments": {},
   "cell_type": "markdown",
   "id": "707ce7a3",
   "metadata": {},
   "source": [
    "##### Find out what is going on with Routes with 0 ridership in gtfs"
   ]
  },
  {
   "cell_type": "code",
   "execution_count": null,
   "id": "bb4643de",
   "metadata": {},
   "outputs": [],
   "source": [
    "noride = [\"5\",\"114\",\"191\",\"192\",\"193\",\"194\"]\n",
    "routes_freq.reset_index().query('PRIMARY_RO in @noride')"
   ]
  },
  {
   "cell_type": "code",
   "execution_count": null,
   "id": "cc74468e",
   "metadata": {},
   "outputs": [],
   "source": [
    "nb.compare_oneway(obsrvdf = tod_mod.query(\"line == '5'\"),\n",
    "                  modeldf = gtod_mod.query(\"line == '5'\"),\n",
    "                  aggcol = 'boardings',col = 'tod', aggmtd='sum')"
   ]
  }
 ],
 "metadata": {
  "kernelspec": {
   "display_name": "tdm23_viz_plotly",
   "language": "python",
   "name": "python3"
  },
  "language_info": {
   "codemirror_mode": {
    "name": "ipython",
    "version": 3
   },
   "file_extension": ".py",
   "mimetype": "text/x-python",
   "name": "python",
   "nbconvert_exporter": "python",
   "pygments_lexer": "ipython3",
   "version": "3.8.12"
  },
  "vscode": {
   "interpreter": {
    "hash": "e209605d93c0842f9422054b0e3be6bb9f7d26cd24d1dacd1dd05518dea628a0"
   }
  }
 },
 "nbformat": 4,
 "nbformat_minor": 5
}
