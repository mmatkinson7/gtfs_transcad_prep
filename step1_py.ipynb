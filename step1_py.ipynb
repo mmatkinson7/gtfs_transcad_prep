{
 "cells": [
  {
   "cell_type": "code",
   "execution_count": 1,
   "metadata": {},
   "outputs": [],
   "source": [
    "import matplotlib\n",
    "\n",
    "import numpy as np\n",
    "import pandas as pd\n",
    "import geopandas as gpd\n",
    "\n",
    "from zipfile import ZipFile"
   ]
  },
  {
   "cell_type": "code",
   "execution_count": 2,
   "metadata": {},
   "outputs": [],
   "source": [
    "# required bbox including all of Massachusetts and RI as well as parts of NH, CT, NY\n",
    "bbox = (-73.7207, 41.1198, -69.7876, 43.1161)\n",
    "# path to the downloaded and cleaned gtfs - mbta recap file for fall 2018\n",
    "#   this could also be a folder of gtfs folders (pre merge of multiple gtfs)\n",
    "\n",
    "path_to_gtfs = r\"J:\\Shared drives\\TMD_TSA\\Model\\networks\\Transit\\gtfs\\bat_2019\\gtfs_zip\"\n",
    "out_path = r\"J:\\Shared drives\\TMD_TSA\\Model\\networks\\Transit\\gtfs\\bat_2019\\1_gtfs_r\""
   ]
  },
  {
   "cell_type": "code",
   "execution_count": 8,
   "metadata": {},
   "outputs": [],
   "source": [
    "z = ZipFile(path_to_gtfs+r\"\\gtfs.zip\", 'r')\n",
    "\n",
    "timetables = pd.read_csv(z.open(\"timetables.txt\"))\n",
    "timetable_stop_order = pd.read_csv(z.open(\"timetable_stop_order.txt\"))\n",
    "routes = pd.read_csv(z.open(\"routes.txt\"))\n",
    "trips = pd.read_csv(z.open(\"trips.txt\"))\n",
    "shapes = pd.read_csv(z.open(\"shapes.txt\"))\n",
    "stops = pd.read_csv(z.open(\"stops.txt\"))\n",
    "stop_times = pd.read_csv(z.open(\"stop_times.txt\"), low_memory=False)\n",
    "calendar = pd.read_csv(z.open(\"calendar.txt\"))\n",
    "calendar_dates = pd.read_csv(z.open(\"calendar_dates.txt\"))\n",
    "calendar_attributes = pd.read_csv(z.open(\"calendar_attributes.txt\"))\n",
    "agency = pd.read_csv(z.open(\"agency.txt\"))\n",
    "directions = pd.read_csv(z.open(\"directions.txt\"))\n",
    "transfers = pd.read_csv(z.open(\"transfers.txt\"))\n",
    "z.close()"
   ]
  },
  {
   "cell_type": "code",
   "execution_count": 9,
   "metadata": {},
   "outputs": [],
   "source": [
    "cal = calendar.query('(start_date < 20181024) & (end_date > 20181024) & (monday+tuesday+wednesday+thursday+friday > 3)')\n",
    "cal_da = calendar_dates.query('service_id in @cal.service_id')\n",
    "cal_att = calendar_attributes.query('service_id in @cal.service_id')\n",
    "\n",
    "trip_filt = trips.query('service_id in @cal.service_id')"
   ]
  },
  {
   "cell_type": "code",
   "execution_count": 10,
   "metadata": {},
   "outputs": [],
   "source": [
    "st_filt = stop_times.query('trip_id in @trip_filt.trip_id')\n",
    "stops_filt = stops.query('stop_id in @st_filt.stop_id')\n",
    "shapes_filt = shapes.query('shape_id in @trip_filt.shape_id')\n",
    "routes_filt = routes.query('route_id in @trip_filt.route_id')"
   ]
  },
  {
   "cell_type": "code",
   "execution_count": 11,
   "metadata": {},
   "outputs": [
    {
     "name": "stderr",
     "output_type": "stream",
     "text": [
      "C:\\Users\\matkinson.AD\\AppData\\Local\\Temp\\ipykernel_27016\\3722652208.py:2: SettingWithCopyWarning: \n",
      "A value is trying to be set on a copy of a slice from a DataFrame.\n",
      "Try using .loc[row_indexer,col_indexer] = value instead\n",
      "\n",
      "See the caveats in the documentation: https://pandas.pydata.org/pandas-docs/stable/user_guide/indexing.html#returning-a-view-versus-a-copy\n",
      "  trip_filt.loc[:,'route_pattern_id'] = trip_filt['shape_id']\n"
     ]
    }
   ],
   "source": [
    "if 'route_pattern_id' not in trip_filt.columns:\n",
    "    trip_filt.loc[:,'route_pattern_id'] = trip_filt['shape_id']"
   ]
  },
  {
   "cell_type": "code",
   "execution_count": 12,
   "metadata": {},
   "outputs": [],
   "source": [
    "trip_filt = trip_filt.merge(routes_filt[['route_id','route_long_name']], how='left',on='route_id')\n",
    "trip_filt['trip_headsign'] = np.where(trip_filt['trip_headsign'].isna(), trip_filt['route_long_name'], trip_filt['trip_headsign'])\n",
    "trip_filt['direction_id'] = np.where(trip_filt['direction_id'].isna(), 2, trip_filt['direction_id'])\n",
    "trip_filt = trip_filt[['trip_id','route_id','service_id','trip_short_name','trip_headsign','direction_id','block_id','shape_id','bikes_allowed','wheelchair_accessible','route_pattern_id']]"
   ]
  },
  {
   "cell_type": "code",
   "execution_count": 13,
   "metadata": {},
   "outputs": [],
   "source": [
    "cal.to_csv(out_path+r\"\\calendar.txt\", index=False)\n",
    "cal_da.to_csv(out_path+r\"\\calendar_dates.txt\", index=False)\n",
    "cal_att.to_csv(out_path+r\"\\calendar_attributes.txt\", index=False)\n",
    "trip_filt.to_csv(out_path+r\"\\trips.txt\", index=False)\n",
    "st_filt.to_csv(out_path+r\"\\stop_times.txt\", index=False)\n",
    "stops_filt.to_csv(out_path+r\"\\stops.txt\", index=False)\n",
    "shapes_filt.to_csv(out_path+r\"\\shapes.txt\", index=False)\n",
    "routes_filt.to_csv(out_path+r\"\\routes.txt\", index=False)\n",
    "agency.to_csv(out_path+r\"\\agency.txt\", index=False)\n",
    "directions.to_csv(out_path+r\"\\directions.txt\", index=False)\n",
    "transfers.to_csv(out_path+r\"\\transfers.txt\", index=False)"
   ]
  },
  {
   "attachments": {},
   "cell_type": "markdown",
   "metadata": {},
   "source": [
    "### Experiment"
   ]
  },
  {
   "cell_type": "code",
   "execution_count": null,
   "metadata": {},
   "outputs": [],
   "source": [
    "tts = timetables.query('(start_date < 20181024) & (end_date > 20181024) & (service_notes in @cal.service_name)')\n",
    "ttso = timetable_stop_order.query('timetable_id in @tts.timetable_id')"
   ]
  },
  {
   "cell_type": "code",
   "execution_count": null,
   "metadata": {},
   "outputs": [],
   "source": [
    "st = stop_times.query('trip_id in @trip_filt.trip_id')"
   ]
  },
  {
   "cell_type": "code",
   "execution_count": null,
   "metadata": {},
   "outputs": [],
   "source": [
    "ttso_tts = ttso.merge(tts[['timetable_id','route_id','direction_id','service_notes','timetable_label']], how='left',on='timetable_id')\n",
    "ttso_tts = ttso_tts.merge(\n",
    "    cal[['service_id','service_name']], \n",
    "    how='left',\n",
    "    left_on='service_notes',\n",
    "    right_on='service_name')[['timetable_id','stop_id','stop_sequence','route_id','direction_id','timetable_label','service_id']]\n",
    "ttso_tts.groupby('route_id')['timetable_id'].nunique()"
   ]
  },
  {
   "cell_type": "code",
   "execution_count": null,
   "metadata": {},
   "outputs": [],
   "source": [
    "stop_filt = stops.query('stop_id in @ttso.stop_id')"
   ]
  },
  {
   "cell_type": "code",
   "execution_count": null,
   "metadata": {},
   "outputs": [],
   "source": [
    "sts = stop_times.merge(trip_filt[['route_id','service_id','trip_id','trip_short_name','trip_headsign','direction_id','block_id','shape_id']],how='left', on='trip_id')\n",
    "sts = sts[['trip_id', 'arrival_time', 'departure_time', 'stop_id', 'stop_sequence',\n",
    "       'route_id', 'service_id',\n",
    "       'trip_short_name', 'trip_headsign', 'direction_id', 'block_id',\n",
    "       'shape_id']]\n",
    "sts = sts.query('~route_id.isna()')"
   ]
  },
  {
   "cell_type": "code",
   "execution_count": null,
   "metadata": {},
   "outputs": [],
   "source": [
    "sts.query('stop_sequence == 1').groupby('route_id')['trip_id'].nunique()"
   ]
  },
  {
   "cell_type": "code",
   "execution_count": null,
   "metadata": {},
   "outputs": [],
   "source": [
    "combo = sts.merge(ttso_tts, how='outer', on = ['stop_id','stop_sequence','route_id','service_id','direction_id']).sort_values(by=['trip_id','stop_sequence'])\n",
    "combo"
   ]
  },
  {
   "cell_type": "code",
   "execution_count": null,
   "metadata": {},
   "outputs": [],
   "source": [
    "nondisplay_trips = combo.query('timetable_id.isna()')['trip_id'].unique()\n",
    "trip_filt.query('trip_id not in @nondisplay_trips')['shape_id'].unique()"
   ]
  },
  {
   "cell_type": "code",
   "execution_count": null,
   "metadata": {},
   "outputs": [],
   "source": [
    "trip_filt.query('trip_id not in @nondisplay_trips')['trip_id'].nunique()"
   ]
  },
  {
   "cell_type": "code",
   "execution_count": null,
   "metadata": {},
   "outputs": [],
   "source": [
    "combo.query('~timetable_id.isna()')['trip_id'].nunique()"
   ]
  },
  {
   "cell_type": "code",
   "execution_count": null,
   "metadata": {},
   "outputs": [],
   "source": [
    "trip_filt['trip_id'].nunique()"
   ]
  },
  {
   "cell_type": "code",
   "execution_count": null,
   "metadata": {},
   "outputs": [],
   "source": [
    "trips['trip_id'].nunique()"
   ]
  },
  {
   "cell_type": "code",
   "execution_count": null,
   "metadata": {},
   "outputs": [],
   "source": [
    "trip_filt['shape_id'].unique()"
   ]
  },
  {
   "cell_type": "code",
   "execution_count": null,
   "metadata": {},
   "outputs": [],
   "source": [
    "trips['shape_id'].nunique()"
   ]
  }
 ],
 "metadata": {
  "kernelspec": {
   "display_name": "urbanAccess",
   "language": "python",
   "name": "python3"
  },
  "language_info": {
   "codemirror_mode": {
    "name": "ipython",
    "version": 3
   },
   "file_extension": ".py",
   "mimetype": "text/x-python",
   "name": "python",
   "nbconvert_exporter": "python",
   "pygments_lexer": "ipython3",
   "version": "3.8.13 | packaged by conda-forge | (default, Mar 25 2022, 05:59:45) [MSC v.1929 64 bit (AMD64)]"
  },
  "orig_nbformat": 4,
  "vscode": {
   "interpreter": {
    "hash": "2a2b370b38977169157650f5355ad729af7f449719cdba662b087dc855e43e33"
   }
  }
 },
 "nbformat": 4,
 "nbformat_minor": 2
}
